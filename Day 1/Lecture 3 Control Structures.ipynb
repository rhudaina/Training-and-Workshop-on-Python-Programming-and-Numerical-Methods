{
 "cells": [
  {
   "cell_type": "markdown",
   "metadata": {
    "id": "5RNGj9vUZwXe"
   },
   "source": [
    "<a href=\"https://colab.research.google.com/github/rhudaina/Linear-Systems-and-Applications-A-Hands-On-Python-Workshop/blob/main/Day1/Day1_Lecture_2_Control_Structures.ipynb\" target=\"_parent\"><img src=\"https://colab.research.google.com/assets/colab-badge.svg\" alt=\"Open In Colab\"/></a>"
   ]
  },
  {
   "cell_type": "code",
   "execution_count": null,
   "metadata": {
    "id": "Up9quLdKe4NS"
   },
   "outputs": [],
   "source": [
    "import numpy as np"
   ]
  },
  {
   "cell_type": "markdown",
   "metadata": {
    "id": "tfomoJOADrJ9"
   },
   "source": [
    "# Control Structures"
   ]
  },
  {
   "cell_type": "markdown",
   "metadata": {
    "id": "TVMdYMRZMCvK"
   },
   "source": [
    "## Selection\n",
    "\n"
   ]
  },
  {
   "cell_type": "markdown",
   "metadata": {
    "id": "Beur7rQ-MCvL"
   },
   "source": [
    "Conditions can be `==`, `!=`, `<`, `>`, `<=`, `>=`, `and`, `not`, `or`. You can use multiple and you can chain comparisons (like when writing on paper):"
   ]
  },
  {
   "cell_type": "markdown",
   "metadata": {
    "id": "HkPbksyPeXjs"
   },
   "source": [
    "### Single-alternative decision (`if` statements)"
   ]
  },
  {
   "cell_type": "code",
   "execution_count": 4,
   "metadata": {
    "id": "9o_jn2czMCvL"
   },
   "outputs": [
    {
     "name": "stdout",
     "output_type": "stream",
     "text": [
      "7 is in the interval [5,9)\n"
     ]
    }
   ],
   "source": [
    "x = 7\n",
    "if 5 <= x and x < 9:\n",
    "  print(x, \"is in the interval [5,9)\")"
   ]
  },
  {
   "cell_type": "code",
   "execution_count": 6,
   "metadata": {
    "id": "kkj7qieNeXIh",
    "scrolled": true
   },
   "outputs": [
    {
     "name": "stdout",
     "output_type": "stream",
     "text": [
      "7 is in the interval [5,9)\n"
     ]
    }
   ],
   "source": [
    "if 5 <= x < 9:\n",
    "  print(x, \"is in the interval [5,9)\")"
   ]
  },
  {
   "cell_type": "markdown",
   "metadata": {
    "id": "Lv16mIrhec7H"
   },
   "source": [
    "You can do nested `if`s"
   ]
  },
  {
   "cell_type": "code",
   "execution_count": 15,
   "metadata": {
    "id": "FEr2tPTTefWe"
   },
   "outputs": [],
   "source": [
    "x = 34\n",
    "if x > 0:\n",
    "  if x < 7:\n",
    "    print(x, 'is between 0 and 7')"
   ]
  },
  {
   "cell_type": "markdown",
   "metadata": {
    "id": "UYYx88OXeZ6h"
   },
   "source": [
    "### Double-alternative decision"
   ]
  },
  {
   "cell_type": "code",
   "execution_count": 20,
   "metadata": {
    "id": "-uXtymTxegHF"
   },
   "outputs": [
    {
     "name": "stdout",
     "output_type": "stream",
     "text": [
      "4 is even\n"
     ]
    }
   ],
   "source": [
    "x = 4\n",
    "\n",
    "if x % 2 == 0: #% is modulus\n",
    "  print(x, \"is even\")\n",
    "else:\n",
    "  print(x, \"is odd\")"
   ]
  },
  {
   "cell_type": "markdown",
   "metadata": {
    "id": "UADudHbGeNuV"
   },
   "source": [
    "### Multialternative decision"
   ]
  },
  {
   "cell_type": "code",
   "execution_count": 24,
   "metadata": {
    "id": "dmSDsybMMCvK"
   },
   "outputs": [
    {
     "name": "stdout",
     "output_type": "stream",
     "text": [
      "1343.2 is positive\n"
     ]
    }
   ],
   "source": [
    "x = 1343\n",
    "\n",
    "if x==0:\n",
    "  print(x, 'is zero')\n",
    "elif x>0:\n",
    "  print(x, 'is positive')\n",
    "elif x<0:\n",
    "  print(x, 'is negative')\n",
    "else:\n",
    "  print('something strange happened')"
   ]
  },
  {
   "cell_type": "markdown",
   "metadata": {
    "id": "kgVxIA5wMCvL"
   },
   "source": [
    "## Repetition (`for loops` statements)"
   ]
  },
  {
   "cell_type": "markdown",
   "metadata": {
    "id": "PbO9HSvqgVcw"
   },
   "source": [
    "\n",
    "```\n",
    "for VAR in SET_OF_VALUES:\n",
    "    do something\n",
    "    if CONDITION:\n",
    "        continue\n",
    "    <something_that_runs_if_condition_IS_NOT_True>\n",
    "```"
   ]
  },
  {
   "cell_type": "code",
   "execution_count": 26,
   "metadata": {
    "id": "Tg2IiFLzMCvL"
   },
   "outputs": [
    {
     "name": "stdout",
     "output_type": "stream",
     "text": [
      "3\n",
      "4\n",
      "5\n",
      "11\n"
     ]
    }
   ],
   "source": [
    "for i in 3, 4, 5, 11:\n",
    "  print(i)"
   ]
  },
  {
   "cell_type": "code",
   "execution_count": 28,
   "metadata": {
    "id": "qIDAWo_2MCvL"
   },
   "outputs": [
    {
     "name": "stdout",
     "output_type": "stream",
     "text": [
      "0\n",
      "1\n",
      "2\n",
      "3\n",
      "4\n",
      "5\n",
      "6\n",
      "7\n"
     ]
    }
   ],
   "source": [
    "for i in range(8):\n",
    "  print(i)"
   ]
  },
  {
   "cell_type": "code",
   "execution_count": 30,
   "metadata": {
    "id": "3wQsgZh8gngj"
   },
   "outputs": [
    {
     "name": "stdout",
     "output_type": "stream",
     "text": [
      "3\n",
      "4\n",
      "5\n",
      "6\n",
      "7\n"
     ]
    }
   ],
   "source": [
    "for i in range(3,8):\n",
    "  print(i)"
   ]
  },
  {
   "cell_type": "code",
   "execution_count": 32,
   "metadata": {
    "id": "oWIwnH-SMCvL"
   },
   "outputs": [
    {
     "name": "stdout",
     "output_type": "stream",
     "text": [
      "3\n",
      "5\n",
      "7\n",
      "9\n"
     ]
    }
   ],
   "source": [
    "for i in range(3, 10, 2):\n",
    "  print(i)"
   ]
  },
  {
   "cell_type": "code",
   "execution_count": 35,
   "metadata": {},
   "outputs": [
    {
     "name": "stdout",
     "output_type": "stream",
     "text": [
      "5050\n"
     ]
    }
   ],
   "source": [
    "sum = 0\n",
    "for i in range(1,101):\n",
    "    sum = sum + i\n",
    "print(sum)"
   ]
  },
  {
   "cell_type": "markdown",
   "metadata": {
    "id": "ns3qYqXLgYBN"
   },
   "source": [
    "### Decision Loop (`while loops` statements)"
   ]
  },
  {
   "cell_type": "markdown",
   "metadata": {
    "id": "0M0sn37_gapI"
   },
   "source": [
    "\n",
    "```\n",
    "while <true_condition>:\n",
    "    do something\n",
    "    if ANOTHER_CONDITION:\n",
    "        break\n",
    "```"
   ]
  },
  {
   "cell_type": "code",
   "execution_count": 37,
   "metadata": {
    "id": "sc82MGfMgtAN"
   },
   "outputs": [
    {
     "name": "stdout",
     "output_type": "stream",
     "text": [
      "1\n",
      "2\n",
      "3\n",
      "4\n",
      "5\n",
      "6\n",
      "7\n",
      "8\n",
      "9\n",
      "10\n",
      "End\n"
     ]
    }
   ],
   "source": [
    "count = 0\n",
    "while count < 10 :\n",
    "  count += 1\n",
    "  print(count)\n",
    "print(\"End\")"
   ]
  },
  {
   "cell_type": "markdown",
   "metadata": {
    "id": "q7R8tZQZg5A6"
   },
   "source": [
    "When using `while`, be careful of infinite loops."
   ]
  },
  {
   "cell_type": "code",
   "execution_count": 39,
   "metadata": {
    "id": "iTluDhd1g5oH"
   },
   "outputs": [
    {
     "name": "stderr",
     "output_type": "stream",
     "text": [
      "IOPub data rate exceeded.\n",
      "The Jupyter server will temporarily stop sending output\n",
      "to the client in order to avoid crashing it.\n",
      "To change this limit, set the config variable\n",
      "`--ServerApp.iopub_data_rate_limit`.\n",
      "\n",
      "Current values:\n",
      "ServerApp.iopub_data_rate_limit=1000000.0 (bytes/sec)\n",
      "ServerApp.rate_limit_window=3.0 (secs)\n",
      "\n"
     ]
    },
    {
     "ename": "KeyboardInterrupt",
     "evalue": "",
     "output_type": "error",
     "traceback": [
      "\u001b[0;31m---------------------------------------------------------------------------\u001b[0m",
      "\u001b[0;31mKeyboardInterrupt\u001b[0m                         Traceback (most recent call last)",
      "Cell \u001b[0;32mIn[39], line 2\u001b[0m\n\u001b[1;32m      1\u001b[0m \u001b[38;5;28;01mwhile\u001b[39;00m \u001b[38;5;241m1\u001b[39m \u001b[38;5;241m==\u001b[39m \u001b[38;5;241m1\u001b[39m:\n\u001b[0;32m----> 2\u001b[0m  \u001b[38;5;28mprint\u001b[39m(\u001b[38;5;124m\"\u001b[39m\u001b[38;5;124mHelp, I’m stuck in a loop.\u001b[39m\u001b[38;5;124m\"\u001b[39m)\n",
      "File \u001b[0;32m/opt/anaconda3/lib/python3.12/site-packages/ipykernel/iostream.py:651\u001b[0m, in \u001b[0;36mOutStream.write\u001b[0;34m(self, string)\u001b[0m\n\u001b[1;32m    649\u001b[0m is_child \u001b[38;5;241m=\u001b[39m \u001b[38;5;129;01mnot\u001b[39;00m \u001b[38;5;28mself\u001b[39m\u001b[38;5;241m.\u001b[39m_is_master_process()\n\u001b[1;32m    650\u001b[0m \u001b[38;5;66;03m# only touch the buffer in the IO thread to avoid races\u001b[39;00m\n\u001b[0;32m--> 651\u001b[0m \u001b[38;5;28;01mwith\u001b[39;00m \u001b[38;5;28mself\u001b[39m\u001b[38;5;241m.\u001b[39m_buffer_lock:\n\u001b[1;32m    652\u001b[0m     \u001b[38;5;28mself\u001b[39m\u001b[38;5;241m.\u001b[39m_buffer\u001b[38;5;241m.\u001b[39mwrite(string)\n\u001b[1;32m    653\u001b[0m \u001b[38;5;28;01mif\u001b[39;00m is_child:\n\u001b[1;32m    654\u001b[0m     \u001b[38;5;66;03m# mp.Pool cannot be trusted to flush promptly (or ever),\u001b[39;00m\n\u001b[1;32m    655\u001b[0m     \u001b[38;5;66;03m# and this helps.\u001b[39;00m\n",
      "\u001b[0;31mKeyboardInterrupt\u001b[0m: "
     ]
    }
   ],
   "source": [
    " while 1 == 1:\n",
    "  print(\"Help, I’m stuck in a loop.\")"
   ]
  },
  {
   "cell_type": "code",
   "execution_count": 43,
   "metadata": {
    "id": "Fe3d_dqIMCvM"
   },
   "outputs": [
    {
     "name": "stdout",
     "output_type": "stream",
     "text": [
      "0\n",
      "3\n"
     ]
    }
   ],
   "source": [
    "i = 0\n",
    "while i < 10:\n",
    "  print(i)\n",
    "  i +=3\n",
    "  if i>3:\n",
    "    break"
   ]
  },
  {
   "cell_type": "markdown",
   "metadata": {
    "id": "bZQLz3GvhG_h"
   },
   "source": [
    "## Decision `break` vs `continue`"
   ]
  },
  {
   "cell_type": "code",
   "execution_count": 45,
   "metadata": {
    "id": "Z0NvI49ChIqQ"
   },
   "outputs": [
    {
     "name": "stdout",
     "output_type": "stream",
     "text": [
      "9\n",
      "8\n",
      "7\n",
      "6\n",
      "Goodbye!\n"
     ]
    }
   ],
   "source": [
    "var = 10\n",
    "\n",
    "while var > 0:\n",
    "   var -= 1\n",
    "   if var == 5:\n",
    "       break\n",
    "   print(var)\n",
    "\n",
    "print(\"Goodbye!\")"
   ]
  },
  {
   "cell_type": "code",
   "execution_count": 47,
   "metadata": {
    "id": "01fFHmD-hW0Z"
   },
   "outputs": [
    {
     "name": "stdout",
     "output_type": "stream",
     "text": [
      "9\n",
      "8\n",
      "7\n",
      "6\n",
      "4\n",
      "3\n",
      "2\n",
      "1\n",
      "0\n",
      "Goodbye!\n"
     ]
    }
   ],
   "source": [
    "var = 10\n",
    "\n",
    "while var > 0:\n",
    "   var -= 1\n",
    "   if var == 5:\n",
    "      continue\n",
    "   print(var)\n",
    "\n",
    "print(\"Goodbye!\")"
   ]
  },
  {
   "cell_type": "code",
   "execution_count": 49,
   "metadata": {
    "id": "esuU0dMshgCc"
   },
   "outputs": [
    {
     "name": "stdout",
     "output_type": "stream",
     "text": [
      "9\n",
      "8\n",
      "7\n",
      "6\n",
      "4\n",
      "3\n",
      "2\n",
      "1\n",
      "0\n",
      "Goodbye!\n"
     ]
    }
   ],
   "source": [
    "var = 10\n",
    "while var > 0:\n",
    "  var -= 1\n",
    "  if var == 5:\n",
    "    continue\n",
    "    print(\"I'm here!\")\n",
    "  print(var)\n",
    "print(\"Goodbye!\")"
   ]
  },
  {
   "cell_type": "code",
   "execution_count": 51,
   "metadata": {
    "id": "kKmqJ5KYhk6y"
   },
   "outputs": [
    {
     "name": "stdout",
     "output_type": "stream",
     "text": [
      "9\n",
      "8\n",
      "7\n",
      "6\n",
      "I'm here!\n",
      "4\n",
      "3\n",
      "2\n",
      "1\n",
      "0\n",
      "Goodbye!\n"
     ]
    }
   ],
   "source": [
    "var = 10\n",
    "while var > 0:\n",
    "  var -= 1\n",
    "  if var == 5:\n",
    "    print(\"I'm here!\")\n",
    "    continue\n",
    "  print(var)\n",
    "print(\"Goodbye!\")"
   ]
  },
  {
   "cell_type": "markdown",
   "metadata": {
    "id": "Z1o4lQ_aMCvY"
   },
   "source": [
    "# Functions\n"
   ]
  },
  {
   "cell_type": "markdown",
   "metadata": {
    "id": "otiDleTIeAA5"
   },
   "source": [
    "* A block of code that only runs when explicitly called\n",
    "* Can accept arguments (or parameters) that alter its behavior\n",
    "* Can accept any number/type of inputs, but always return a single object\n",
    "    * Note: functions can return tuples (may *look like* multiple objects)\n",
    "    \n",
    "```python\n",
    "def function_name(arg1, arg2, arg3):\n",
    "    '''Documentation\n",
    "    can be\n",
    "    on multiple\n",
    "    lines\n",
    "    '''\n",
    "    what the function does\n",
    "```\n",
    "* `return` statement is optional\n",
    "* `return` you can return multiple elements returning a `tuple`\n",
    "```python\n",
    "    return a,b,c\n",
    "```"
   ]
  },
  {
   "cell_type": "code",
   "execution_count": 54,
   "metadata": {
    "id": "lV4gPQnKMCvY"
   },
   "outputs": [
    {
     "name": "stdout",
     "output_type": "stream",
     "text": [
      "Hello,  Juan\n"
     ]
    }
   ],
   "source": [
    "def hello(name):\n",
    "  '''prints 'hello' followed by the arg name'''\n",
    "  print(\"Hello, \", name)\n",
    "\n",
    "hello(\"Juan\")"
   ]
  },
  {
   "cell_type": "code",
   "execution_count": 56,
   "metadata": {
    "id": "Ho39YilTbQSK"
   },
   "outputs": [
    {
     "name": "stdout",
     "output_type": "stream",
     "text": [
      "Hello,  Juan\n"
     ]
    }
   ],
   "source": [
    "hello(name=\"Juan\")"
   ]
  },
  {
   "cell_type": "code",
   "execution_count": 58,
   "metadata": {
    "id": "iMVnYylEMCvY"
   },
   "outputs": [
    {
     "name": "stdout",
     "output_type": "stream",
     "text": [
      "Help on function hello in module __main__:\n",
      "\n",
      "hello(name)\n",
      "    prints 'hello' followed by the arg name\n",
      "\n"
     ]
    }
   ],
   "source": [
    "help(hello)"
   ]
  },
  {
   "cell_type": "code",
   "execution_count": 60,
   "metadata": {
    "id": "si764DPPMCvZ"
   },
   "outputs": [
    {
     "data": {
      "text/plain": [
       "\u001b[0;31mSignature:\u001b[0m \u001b[0mhello\u001b[0m\u001b[0;34m(\u001b[0m\u001b[0mname\u001b[0m\u001b[0;34m)\u001b[0m\u001b[0;34m\u001b[0m\u001b[0;34m\u001b[0m\u001b[0m\n",
       "\u001b[0;31mDocstring:\u001b[0m prints 'hello' followed by the arg name\n",
       "\u001b[0;31mFile:\u001b[0m      /var/folders/2v/scfhjyvx4tv4m53zbb5m44y00000gn/T/ipykernel_79865/1052642461.py\n",
       "\u001b[0;31mType:\u001b[0m      function"
      ]
     },
     "metadata": {},
     "output_type": "display_data"
    }
   ],
   "source": [
    "hello?"
   ]
  },
  {
   "cell_type": "code",
   "execution_count": 62,
   "metadata": {
    "id": "yAoznnw2MCvZ"
   },
   "outputs": [
    {
     "name": "stdin",
     "output_type": "stream",
     "text": [
      "write your name: Cris\n"
     ]
    },
    {
     "name": "stdout",
     "output_type": "stream",
     "text": [
      "hello,  Cris\n"
     ]
    }
   ],
   "source": [
    "def interactive_hello():\n",
    "  '''prompt the user for a name, then prints \"hello\" followed by the name'''\n",
    "  name = str(input(\"write your name:\"))\n",
    "  print(\"hello, \", name)\n",
    "\n",
    "interactive_hello()"
   ]
  },
  {
   "cell_type": "markdown",
   "metadata": {
    "id": "jLA49249cGWJ"
   },
   "source": [
    "You can define a function with unknown number of arguments."
   ]
  },
  {
   "cell_type": "code",
   "execution_count": 64,
   "metadata": {
    "id": "oKERb5owMCvZ"
   },
   "outputs": [
    {
     "name": "stdout",
     "output_type": "stream",
     "text": [
      "hello, cat1\n",
      "hello, cat2\n",
      "hello, cat3\n",
      "hello, 2\n",
      "cat2\n",
      "<class 'tuple'>\n"
     ]
    }
   ],
   "source": [
    "def multi_hello(*names):\n",
    "  '''for each name in names print \"hello\" name'''\n",
    "  for i in names:\n",
    "    print(\"hello,\", i)\n",
    "  print(names[1])\n",
    "  print(type(names))\n",
    "\n",
    "multi_hello(\"cat1\", \"cat2\", \"cat3\",2)"
   ]
  },
  {
   "cell_type": "markdown",
   "metadata": {
    "id": "EUd3VPfncKLa"
   },
   "source": [
    "You can define a function that returns multiple arguments."
   ]
  },
  {
   "cell_type": "code",
   "execution_count": 66,
   "metadata": {
    "id": "fFqfcujmMCvZ"
   },
   "outputs": [
    {
     "name": "stdout",
     "output_type": "stream",
     "text": [
      "41 1e-07\n"
     ]
    }
   ],
   "source": [
    "def funct():\n",
    "  '''super complicated algorithm which returns value and error estimation'''\n",
    "  value = 41\n",
    "  error = 1e-7\n",
    "  return value, error\n",
    "\n",
    "v, e = funct()\n",
    "print(v, e)"
   ]
  },
  {
   "cell_type": "markdown",
   "metadata": {
    "id": "Vk1_Id2AcOmC"
   },
   "source": [
    "You can define recursive functions."
   ]
  },
  {
   "cell_type": "code",
   "execution_count": 68,
   "metadata": {
    "id": "XPYEI_ZlMCvZ"
   },
   "outputs": [],
   "source": [
    "def factorial(n):\n",
    "  if n < 2:\n",
    "    return 1\n",
    "  return n * factorial(n - 1)"
   ]
  },
  {
   "cell_type": "code",
   "execution_count": 70,
   "metadata": {
    "id": "8Fhe2JuyMCvZ"
   },
   "outputs": [
    {
     "data": {
      "text/plain": [
       "8683317618811886495518194401280000000"
      ]
     },
     "execution_count": 70,
     "metadata": {},
     "output_type": "execute_result"
    }
   ],
   "source": [
    "factorial(33)"
   ]
  },
  {
   "cell_type": "markdown",
   "metadata": {},
   "source": [
    "define a function that we call div10"
   ]
  },
  {
   "cell_type": "code",
   "execution_count": null,
   "metadata": {},
   "outputs": [],
   "source": []
  },
  {
   "cell_type": "code",
   "execution_count": 78,
   "metadata": {},
   "outputs": [],
   "source": [
    "def div10(x):\n",
    "    if x!=0:\n",
    "        return 10/x\n",
    "    else:\n",
    "        print('Division impossible')"
   ]
  },
  {
   "cell_type": "code",
   "execution_count": null,
   "metadata": {},
   "outputs": [],
   "source": []
  },
  {
   "cell_type": "code",
   "execution_count": 82,
   "metadata": {},
   "outputs": [
    {
     "name": "stdout",
     "output_type": "stream",
     "text": [
      "Division impossible\n"
     ]
    }
   ],
   "source": [
    "div10(0)"
   ]
  },
  {
   "cell_type": "code",
   "execution_count": null,
   "metadata": {},
   "outputs": [],
   "source": [
    "In Python, the variables defined inside a function are local variables. Local variables cannot be seen (or used) outside the function."
   ]
  },
  {
   "cell_type": "code",
   "execution_count": 92,
   "metadata": {},
   "outputs": [
    {
     "name": "stdout",
     "output_type": "stream",
     "text": [
      "local variables: x =  3 y =  2\n",
      "global variables: x =  2 y =  3\n"
     ]
    }
   ],
   "source": [
    "def swap(x, y):\n",
    "    temp = x\n",
    "    x = y\n",
    "    y = temp\n",
    "    print('local variables: x = ',x , 'y = ', y)\n",
    "    return x, y\n",
    "x = 2; y = 3;\n",
    "swap(x, y)\n",
    "print('global variables: x = ',x , 'y = ', y)"
   ]
  },
  {
   "cell_type": "code",
   "execution_count": null,
   "metadata": {},
   "outputs": [],
   "source": []
  },
  {
   "cell_type": "code",
   "execution_count": null,
   "metadata": {},
   "outputs": [],
   "source": []
  },
  {
   "cell_type": "markdown",
   "metadata": {},
   "source": []
  },
  {
   "cell_type": "markdown",
   "metadata": {
    "id": "OVXoAr6PMCva"
   },
   "source": [
    "If you are used to \"thinking in C/C++/Fortran\", you might be confused as to how parameters are passed. It's called \"by association\" and behaves like \"by value\" or \"by reference\" depending on what you pass."
   ]
  },
  {
   "cell_type": "code",
   "execution_count": 96,
   "metadata": {
    "id": "TaEGCvsjMCva"
   },
   "outputs": [
    {
     "name": "stdout",
     "output_type": "stream",
     "text": [
      "33\n",
      "1\n"
     ]
    }
   ],
   "source": [
    "a=1\n",
    "def f(x):\n",
    "  x=x+32\n",
    "  return x\n",
    "\n",
    "print(f(a))\n",
    "print(a)"
   ]
  },
  {
   "cell_type": "markdown",
   "metadata": {
    "id": "uYbGS1fzc_Wh"
   },
   "source": [
    "So, you have to do:"
   ]
  },
  {
   "cell_type": "code",
   "execution_count": 99,
   "metadata": {
    "id": "nyNmr_s4MCva"
   },
   "outputs": [
    {
     "name": "stdout",
     "output_type": "stream",
     "text": [
      "33\n"
     ]
    }
   ],
   "source": [
    "a = f(a)\n",
    "print(a)"
   ]
  },
  {
   "cell_type": "markdown",
   "metadata": {
    "id": "-ybWBQ37dC9F"
   },
   "source": [
    "It is different with lists though."
   ]
  },
  {
   "cell_type": "code",
   "execution_count": null,
   "metadata": {
    "id": "DTaeGj-FMCvb"
   },
   "outputs": [],
   "source": [
    "def lf(x):\n",
    "  x[0]=999\n",
    "\n",
    "x=[1,2,3,4,5]\n",
    "lf(x)\n",
    "print(x)"
   ]
  },
  {
   "cell_type": "markdown",
   "metadata": {
    "id": "vnAqLzpjMCvb"
   },
   "source": [
    "**lambda functions**\n",
    "(usually used inside other complicated functions)"
   ]
  },
  {
   "cell_type": "code",
   "execution_count": null,
   "metadata": {
    "id": "8vjtbx4rMCvb"
   },
   "outputs": [],
   "source": [
    "x = lambda a : a + 10\n",
    "print(x(5))"
   ]
  },
  {
   "cell_type": "code",
   "execution_count": null,
   "metadata": {
    "id": "IFefcLW9MCvb"
   },
   "outputs": [],
   "source": [
    "def myfunc(n):\n",
    "  return lambda a : a * n"
   ]
  },
  {
   "cell_type": "code",
   "execution_count": null,
   "metadata": {
    "id": "dFGHtC_ZMCvc"
   },
   "outputs": [],
   "source": [
    "mymult2 = myfunc(2)"
   ]
  },
  {
   "cell_type": "code",
   "execution_count": null,
   "metadata": {
    "id": "7rEfKLgLMCvc"
   },
   "outputs": [],
   "source": [
    "type(mymult2)"
   ]
  },
  {
   "cell_type": "code",
   "execution_count": null,
   "metadata": {
    "id": "iQDtNxmRMCvc"
   },
   "outputs": [],
   "source": [
    "mymult2(3)"
   ]
  },
  {
   "cell_type": "markdown",
   "metadata": {
    "id": "pBsc-0E1Ar6K"
   },
   "source": [
    "# References\n",
    "\n",
    "1.   [Python Software Foundation](https://docs.python.org/3/tutorial/)\n",
    "2. [Google Colaboratory](https://colab.research.google.com/)\n",
    "3.   [Krishna et al. (2022) Introduction to Data Science with Python](https://nustat.github.io/DataScience_Intro_python/Introduction%20to%20Python%20and%20Jupyter%20Notebooks.html)\n",
    "3. [Serafina Di Gioia (2024), Python 101, SMR 3935](https://indico.ictp.it/event/10473)\n",
    "\n"
   ]
  }
 ],
 "metadata": {
  "colab": {
   "provenance": []
  },
  "kernelspec": {
   "display_name": "Python [conda env:base] *",
   "language": "python",
   "name": "conda-base-py"
  },
  "language_info": {
   "codemirror_mode": {
    "name": "ipython",
    "version": 3
   },
   "file_extension": ".py",
   "mimetype": "text/x-python",
   "name": "python",
   "nbconvert_exporter": "python",
   "pygments_lexer": "ipython3",
   "version": "3.12.7"
  }
 },
 "nbformat": 4,
 "nbformat_minor": 4
}
