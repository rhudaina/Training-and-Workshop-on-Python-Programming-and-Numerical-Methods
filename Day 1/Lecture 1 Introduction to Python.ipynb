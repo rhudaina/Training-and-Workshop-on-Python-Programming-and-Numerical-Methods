{
 "cells": [
  {
   "attachments": {},
   "cell_type": "markdown",
   "id": "c58b938a-8141-40ae-9ed4-49ee08c0cd42",
   "metadata": {},
   "source": [
    "<center><img src=\"poster.png\" width=\"800\"/></center>"
   ]
  },
  {
   "cell_type": "markdown",
   "id": "b2fdae8a-2211-43c6-99aa-a386595c430d",
   "metadata": {},
   "source": [
    "# Lecture 1: Introduction to Python"
   ]
  },
  {
   "cell_type": "markdown",
   "id": "bc4281b6-7565-425c-ba10-5696f584d136",
   "metadata": {},
   "source": [
    "## Scientic Computing and Numerical Analysis"
   ]
  },
  {
   "cell_type": "markdown",
   "id": "c913c658-5275-45aa-b652-daefee5c0b2b",
   "metadata": {},
   "source": [
    "#### For the purpose of scientific computing, a ``math book is not enough'' - G. Forsyth\n",
    "\n",
    "\n",
    "#### In order to get the real essence of scientific computing and numerical analysis, some coding and experimentation are important."
   ]
  },
  {
   "cell_type": "markdown",
   "id": "38113a3f-c1e1-4315-ab04-51af3382ad2c",
   "metadata": {},
   "source": [
    "## Python - History"
   ]
  },
  {
   "cell_type": "markdown",
   "id": "f8ab12db-736d-4f9f-91e6-c87fb69e9759",
   "metadata": {},
   "source": [
    "Python is a high-level programming language celebrated for its simplicity, readability, and versatility. \n",
    "\n",
    "1989: Guido van Rossum develops Python <br> 1991 : Python is published <br> 1994: First official released of Python Version 1"
   ]
  },
  {
   "cell_type": "markdown",
   "id": "ad9cc39f-baef-4b09-a73a-fb4d1b60e91f",
   "metadata": {},
   "source": [
    "### Which Companies Use Python?"
   ]
  },
  {
   "cell_type": "markdown",
   "id": "727a703d-db1e-4629-810a-f0023533f044",
   "metadata": {},
   "source": [
    "Uber, Goldman Sachs, PayPal, Netflix, Google, NASA, Instagram, Spotify, Pinterest, and more. <br> Python is also the command language for a large number of free software programs: FreeCAD, 3DBlender, Inkscape, LibreOffice, Gentoo, ParaView, XBMC, EVE Online..."
   ]
  },
  {
   "cell_type": "markdown",
   "id": "bf7da332-8670-4287-8966-8df8f8ccee9d",
   "metadata": {},
   "source": [
    "### PYPL PopularitY of Programming Language"
   ]
  },
  {
   "cell_type": "markdown",
   "id": "65390d6a-c695-4c92-9a2c-8eff173412fa",
   "metadata": {},
   "source": [
    "\n",
    "<img src=\"pypl ranking.png\" width=\"500\"/>\n"
   ]
  },
  {
   "cell_type": "markdown",
   "id": "07a6373f-b469-485d-8cd3-dc887e3cd05a",
   "metadata": {},
   "source": [
    "### TIOBE Index for January 2025"
   ]
  },
  {
   "cell_type": "markdown",
   "id": "58c0a4bf-43d4-4112-97e1-07ca1d80f51e",
   "metadata": {},
   "source": [
    "<img src=\"tiobe1.png\" width=\"500\"/>"
   ]
  },
  {
   "cell_type": "markdown",
   "id": "d798babe-7c83-46bf-8de9-ac590fc745fc",
   "metadata": {},
   "source": [
    "<img src=\"tiobe.png\" width=\"800\"/>"
   ]
  },
  {
   "cell_type": "markdown",
   "id": "0400c4c9-12d0-4212-b50a-d367079c925b",
   "metadata": {},
   "source": [
    "## Why Python?"
   ]
  },
  {
   "cell_type": "markdown",
   "id": "21bc6352-6238-43d0-afe3-30f3d80b09f8",
   "metadata": {},
   "source": [
    "<ul>\n",
    "<li>A free and portable language on any system (Windows, Mac, Linux)</li>\n",
    "<li>Not the fastest but it can be interfaced with other more powerful languages (Fortran: f2py, C: swig, boost ...)</li>\n",
    "<li>Easily integrate existing calculation codes (Fortran, C, ...), make them accessible, process their results graphically, continue their developments...</li>\n",
    "<li>Already optimized libraries and a large selection of libraries</li>\n",
    "<li>Other languages accessible by python (Java : Jython)</li>\n",
    "<li>Has a helpful \"community\" platform</li>\n",
    "<li>Nothing to declare, automatic memory management</li>\n",
    "<li>Object-oriented, interpreted and partially compiled</li>\n",
    "\n",
    "\n",
    "</ul>"
   ]
  },
  {
   "cell_type": "markdown",
   "id": "fb9058a1-9343-466d-b67d-f08d5bd0edc6",
   "metadata": {},
   "source": [
    "A large choice of libraries and open software, allowing to make :\n",
    "<ul>\n",
    "    <li>Web (Zope, Plone, Django, ...)</li>\n",
    "    <li>Databases (MySQL, Oracle, ...), networks (PyRO, ...)</li>\n",
    "    <li>Gui (Gtk, Qt, WxWidgets, ...)</li>\n",
    "    <li>Graphics (gnuplot, matplotlib, VTK, MayaVi, ...)</li>\n",
    "    <li>Scientific computing (Numpy, Scipy, SimPy, FiPy, Getfem, Sage, MDP...)</li>\n",
    "    <li>Bioinformatics, Chemistry...</li>\n",
    "</ul>"
   ]
  },
  {
   "cell_type": "markdown",
   "id": "ad57a234-f3cc-40fd-a84c-bb6b07e54c42",
   "metadata": {},
   "source": [
    "## Installation"
   ]
  },
  {
   "cell_type": "markdown",
   "id": "926e6070-05ff-49bf-9118-b2be149b44d2",
   "metadata": {},
   "source": [
    "Anaconda is a free and open source distribution of Python <br>\n",
    "• Contains most of the libraries needed for teaching <br>\n",
    "• Simplified installation and addition of libraries"
   ]
  },
  {
   "cell_type": "markdown",
   "id": "c1dc5da0-7f90-4556-99aa-971d70bb54e0",
   "metadata": {},
   "source": [
    "Anaconda - https://www.anaconda.com/download"
   ]
  },
  {
   "cell_type": "markdown",
   "id": "2b2b90c6-3b2a-4c77-927c-03698a4ef039",
   "metadata": {},
   "source": [
    "Google Collab - https://colab.research.google.com"
   ]
  },
  {
   "cell_type": "markdown",
   "id": "e7a72305-8962-46e6-83bf-a2aafe08bc94",
   "metadata": {},
   "source": [
    "## Basic Python - Python, numbers and variables"
   ]
  },
  {
   "cell_type": "code",
   "execution_count": 65,
   "id": "177632f8-e230-40e5-b420-9ff1e34e09ec",
   "metadata": {},
   "outputs": [
    {
     "name": "stdout",
     "output_type": "stream",
     "text": [
      "Hello world\n"
     ]
    }
   ],
   "source": [
    "print('Hello world')"
   ]
  },
  {
   "cell_type": "markdown",
   "id": "95b1e72b-717a-40f3-8b11-f054d9420398",
   "metadata": {},
   "source": [
    "Use `#` for a short, quick comment (or for debugging)"
   ]
  },
  {
   "cell_type": "code",
   "execution_count": null,
   "id": "b2b7aaf6-392d-459a-af79-cc69a6f0431d",
   "metadata": {},
   "outputs": [],
   "source": [
    "# print(\"This is a comment.\")\n",
    "print(\"This is not a comment.\")"
   ]
  },
  {
   "cell_type": "markdown",
   "id": "0598d82d-56a0-4fbf-88ff-5569898fe126",
   "metadata": {},
   "source": [
    "The storage places in computer programming are called variables. We store numbers (and other values) in variables. A variable is an object that has a name, like variables in mathematics.\n",
    "\n",
    "Variables in Python can contain letters (lower or upper case), numbers 0-9, and some special characters, e.g., underscore\n",
    "- variable names should start with a letter\n",
    "- be sure not to use reserved words, e.g., `print`, `if`, `for`"
   ]
  },
  {
   "cell_type": "code",
   "execution_count": 7,
   "id": "5d40e900-2572-4a47-9ab7-0948101b7f6c",
   "metadata": {},
   "outputs": [
    {
     "name": "stdout",
     "output_type": "stream",
     "text": [
      "50\n",
      "40\n"
     ]
    }
   ],
   "source": [
    "number_of_students = 50\n",
    "print( number_of_students )\n",
    "number_of_students = 40\n",
    "print( number_of_students )"
   ]
  },
  {
   "cell_type": "code",
   "execution_count": 9,
   "id": "8190886c-139b-4f19-a405-858adbd1b0fd",
   "metadata": {},
   "outputs": [
    {
     "name": "stdout",
     "output_type": "stream",
     "text": [
      "The number of students = 40\n"
     ]
    }
   ],
   "source": [
    "print( 'The number of students =', number_of_students ) "
   ]
  },
  {
   "cell_type": "code",
   "execution_count": 11,
   "id": "85de21d7-022a-4869-b5ec-b51ca9c366a4",
   "metadata": {},
   "outputs": [
    {
     "name": "stdin",
     "output_type": "stream",
     "text": [
      "Enter the number of students 60\n"
     ]
    },
    {
     "name": "stdout",
     "output_type": "stream",
     "text": [
      "The number of students =  60\n"
     ]
    }
   ],
   "source": [
    "number_of_students = input( 'Enter the number of students' )\n",
    "print( 'The number of students = ', number_of_students ) "
   ]
  },
  {
   "cell_type": "markdown",
   "id": "5dc227cb-3a81-4382-b0ea-cc357d24c764",
   "metadata": {},
   "source": [
    "Python integers have unlimited precision -- there is no limit on the size of the integer, but it can be slow."
   ]
  },
  {
   "cell_type": "code",
   "execution_count": 16,
   "id": "01d4e458-047a-4238-b235-5676b25b8285",
   "metadata": {},
   "outputs": [
    {
     "name": "stdout",
     "output_type": "stream",
     "text": [
      "430740140326085856294542631928555788313067344826842766627319926066587103283094870058228633072524398034207389449610176808454714697112851095693035063036025\n"
     ]
    }
   ],
   "source": [
    "a = 4379857389751098475175089217\n",
    "b = 4738574387589234759871587109580941579496787754315\n",
    "print(a * b * b * a)"
   ]
  },
  {
   "cell_type": "markdown",
   "id": "80fdc56f-00a8-4250-9f3e-2a1fceaf099f",
   "metadata": {},
   "source": [
    "Python floats, however, have limits. For double precision (which is used by default) you get an exponent (of 2) between -1022 and +1023 (-307 to 308 base 10) and ~16 decimal places."
   ]
  },
  {
   "cell_type": "code",
   "execution_count": 19,
   "id": "34bd93f5-d0dd-48db-a803-a46755090639",
   "metadata": {},
   "outputs": [
    {
     "name": "stdout",
     "output_type": "stream",
     "text": [
      "4.177858869331092e+265\n"
     ]
    },
    {
     "ename": "OverflowError",
     "evalue": "(34, 'Result too large')",
     "output_type": "error",
     "traceback": [
      "\u001b[0;31m---------------------------------------------------------------------------\u001b[0m",
      "\u001b[0;31mOverflowError\u001b[0m                             Traceback (most recent call last)",
      "Cell \u001b[0;32mIn[19], line 2\u001b[0m\n\u001b[1;32m      1\u001b[0m \u001b[38;5;28mprint\u001b[39m(\u001b[38;5;241m11.5473895\u001b[39m\u001b[38;5;241m*\u001b[39m\u001b[38;5;241m*\u001b[39m\u001b[38;5;241m250\u001b[39m)\n\u001b[0;32m----> 2\u001b[0m \u001b[38;5;28mprint\u001b[39m(\u001b[38;5;241m11.5473895\u001b[39m\u001b[38;5;241m*\u001b[39m\u001b[38;5;241m*\u001b[39m\u001b[38;5;241m350\u001b[39m)\n",
      "\u001b[0;31mOverflowError\u001b[0m: (34, 'Result too large')"
     ]
    }
   ],
   "source": [
    "print(11.5473895**250)\n",
    "print(11.5473895**350)"
   ]
  },
  {
   "cell_type": "markdown",
   "id": "7a78497e-db27-427f-9c50-4e3998ce07e4",
   "metadata": {},
   "source": [
    "## Basic mathematical operations"
   ]
  },
  {
   "cell_type": "markdown",
   "id": "afea42cc-ae0d-44d1-9353-ada158542e66",
   "metadata": {},
   "source": [
    "We can perform very simple calculations such as 1 + 2 by just typing 1+2 in a Jupyter notebook and pressing shift+return."
   ]
  },
  {
   "cell_type": "markdown",
   "id": "ac6e6a52-5bff-4a50-914f-037fc837ba74",
   "metadata": {},
   "source": [
    "<center><img src=\"Arithmetic table.png\" width=\"400\"/></center>\n"
   ]
  },
  {
   "cell_type": "code",
   "execution_count": 92,
   "id": "c68a79e6-a906-49ed-9b91-6456e88970b6",
   "metadata": {},
   "outputs": [
    {
     "name": "stdout",
     "output_type": "stream",
     "text": [
      "add =  13\n",
      "sub =  9\n",
      "mul =  22\n",
      "div1 =  5.5\n",
      "div2 =  5\n",
      "mod =  1\n",
      "pow =  121\n"
     ]
    }
   ],
   "source": [
    "# Examples of Arithmetic Operators\n",
    "x = 11\n",
    "y = 2\n",
    "# Addition of numbers\n",
    "add = x + y\n",
    "# Subtraction of numbers\n",
    "sub = x - y\n",
    "# Multiplication of numbers\n",
    "mul = x * y\n",
    "# Division (float) of numbers\n",
    "div1 = x / y\n",
    "# Division (floor) of numbers\n",
    "div2 = x // y\n",
    "# Modulo of both numbers\n",
    "mod = x % y\n",
    "# Raise to power\n",
    "pow = x ** y\n",
    "# print results\n",
    "print( 'add = ', add )\n",
    "print( 'sub = ', sub )\n",
    "print( 'mul = ', mul )\n",
    "print( 'div1 = ', div1 )\n",
    "print( 'div2 = ', div2 )\n",
    "print( 'mod = ', mod )\n",
    "print( 'pow = ', pow )"
   ]
  },
  {
   "cell_type": "code",
   "execution_count": 94,
   "id": "87404392-505b-4a0c-81bc-9b19970dbc21",
   "metadata": {},
   "outputs": [
    {
     "name": "stdout",
     "output_type": "stream",
     "text": [
      "7 9 12\n"
     ]
    }
   ],
   "source": [
    "a = 1 + 2 * 3; b = (1 + 2) * 3; c = 2**2 * 3\n",
    "print(a,b,c)"
   ]
  },
  {
   "cell_type": "markdown",
   "id": "99623ed3-0944-448d-81c1-03dfe0c1c5cd",
   "metadata": {},
   "source": [
    "If we want to increase the value of the variable $x$ by 1 the syntax is $x = x + 1$. If we want to decrease the value of the variable $x$ by 3 the syntax is $x = x - 3$. We type $x = 2 * x$ to double its value or $x = x/3.0$ to divide by 3. All these expressions are not equations but assignments. The operator = assigns the value of the right-hand side to the variable on left-hand side."
   ]
  },
  {
   "cell_type": "markdown",
   "id": "69ed6945-be8f-4cd3-94bf-da20b767948c",
   "metadata": {},
   "source": [
    "#### Be careful with floats: operations are not exact, just like in C/C++:"
   ]
  },
  {
   "cell_type": "code",
   "execution_count": 26,
   "id": "93ea6b26-7b5a-4260-a19b-0a0bd76d302e",
   "metadata": {},
   "outputs": [
    {
     "name": "stdout",
     "output_type": "stream",
     "text": [
      "False\n"
     ]
    }
   ],
   "source": [
    "print(0.2 + 0.1 == 0.3)"
   ]
  },
  {
   "cell_type": "markdown",
   "id": "816b09b6-ffc2-4ad7-b75a-4281f6ee5a4e",
   "metadata": {},
   "source": [
    "# Comparison Operators"
   ]
  },
  {
   "cell_type": "code",
   "execution_count": null,
   "id": "0cb4836e-75eb-4ee0-8e29-c3a1a0d09261",
   "metadata": {},
   "outputs": [],
   "source": [
    "bool(0) # false\n",
    "bool(1) # true\n",
    "\n",
    "a = 0\n",
    "b = 1\n",
    "\n",
    "print(a < b)  # strictly less than\n",
    "print(a <= b) # less than or equal\n",
    "\n",
    "print(a > b)  # strictly greater than\n",
    "print(a >= b) # greater than or equal\n",
    "\n",
    "print(a == b) # equal\n",
    "print(a != b) # not equal"
   ]
  },
  {
   "cell_type": "markdown",
   "id": "89b4d502-b3ba-409b-a0da-edd6d75357e9",
   "metadata": {},
   "source": [
    "# Getting HELP\n",
    "\n",
    "`help()` command usually tells you everything you need to know about the object."
   ]
  },
  {
   "cell_type": "code",
   "execution_count": null,
   "id": "c9e1701b-1e94-4067-8d9a-ac3ce0b9d211",
   "metadata": {},
   "outputs": [],
   "source": [
    "help('string')"
   ]
  },
  {
   "cell_type": "markdown",
   "id": "3895ed8c-efca-4726-8270-b32ceb2d92bd",
   "metadata": {},
   "source": [
    "## Mathematical functions and constants"
   ]
  },
  {
   "cell_type": "markdown",
   "id": "e3adee69-a25c-4fc0-861d-efbf36a0a530",
   "metadata": {},
   "source": [
    "There are many different Python modules. Mathematical functions can be found in the module **math** as well as in the module **numpy**. For efficiency reasons, modules are not loaded automatically. We can load an entire module (library of functions) using the command"
   ]
  },
  {
   "cell_type": "code",
   "execution_count": 109,
   "id": "b2f8de17-d26c-4ef6-b49c-329ef713ae4b",
   "metadata": {},
   "outputs": [],
   "source": [
    "#Use one of the following\n",
    "\n",
    "# import math\n",
    "# from math import *\n",
    "# import math as mt (this one is recommended)"
   ]
  },
  {
   "cell_type": "code",
   "execution_count": null,
   "id": "fa7d0512-601c-4bef-b393-fbf3ad48704c",
   "metadata": {},
   "outputs": [],
   "source": []
  },
  {
   "cell_type": "code",
   "execution_count": null,
   "id": "76f8e864-069e-4a89-8cc3-eb7176dcd671",
   "metadata": {},
   "outputs": [],
   "source": []
  },
  {
   "cell_type": "code",
   "execution_count": 44,
   "id": "4204e9f6-1b5f-4130-9db4-ce2e10088fe9",
   "metadata": {},
   "outputs": [
    {
     "name": "stdout",
     "output_type": "stream",
     "text": [
      "0.5877852522924731\n"
     ]
    }
   ],
   "source": [
    "import math as mt\n",
    "print( mt.sin(mt.pi/5) )"
   ]
  },
  {
   "cell_type": "markdown",
   "id": "b71e999f-b1ef-430d-b71e-e140105c8dec",
   "metadata": {},
   "source": [
    "`math.exp()`, `math.pow()` `math.sqrt()` `math.log()` `math.log2()` `math.log10()` `math.cos()` `math.sin()` `math.tan()` `math.acos()` `math.asin()` `math.atan()` `math.pi()` `math.e()` `math.tau()`"
   ]
  },
  {
   "cell_type": "code",
   "execution_count": 48,
   "id": "dd4264ff-b926-42d4-80d6-3b6ce291a001",
   "metadata": {},
   "outputs": [
    {
     "data": {
      "text/plain": [
       "1.4142135623730951"
      ]
     },
     "execution_count": 48,
     "metadata": {},
     "output_type": "execute_result"
    }
   ],
   "source": [
    "mt.sin(mt.pi/2)\n",
    "mt.sqrt(2)"
   ]
  },
  {
   "cell_type": "markdown",
   "id": "690c7fc8-7a8b-4e80-9724-3f9472bbe021",
   "metadata": {},
   "source": [
    "## Data structures - Strings"
   ]
  },
  {
   "cell_type": "markdown",
   "id": "89f8c049-145b-451e-9ad4-4242d8c603be",
   "metadata": {},
   "source": [
    "These structures are the following: **Strings** that resemble text messages, **tuples**, which can combine more than one variable of different types, and **lists**, which can be seen as vectors or sequences of similar objects."
   ]
  },
  {
   "cell_type": "markdown",
   "id": "06ec057a-0f7d-494e-b3fa-5fb5aa8042cc",
   "metadata": {},
   "source": [
    "A **string** (or alpharithmetic) is a sequence of characters (letters, numbers and symbols) enclosed in single or double quotes. We can use strings when we want to display messages on the screen."
   ]
  },
  {
   "cell_type": "code",
   "execution_count": 131,
   "id": "eaef7229-2e5c-414b-972e-c11be34993cb",
   "metadata": {},
   "outputs": [
    {
     "name": "stdout",
     "output_type": "stream",
     "text": [
      "Hello world!\n"
     ]
    }
   ],
   "source": [
    "print( 'Hello world!' )"
   ]
  },
  {
   "cell_type": "code",
   "execution_count": 133,
   "id": "12839543-c2bc-43af-9c5e-c43315d1a9eb",
   "metadata": {},
   "outputs": [
    {
     "name": "stdout",
     "output_type": "stream",
     "text": [
      "James Bond\n"
     ]
    }
   ],
   "source": [
    "my_name = 'James'\n",
    "my_lastname = 'Bond'\n",
    "full_name = my_name + ' ' + my_lastname\n",
    "print( full_name )"
   ]
  },
  {
   "cell_type": "code",
   "execution_count": 135,
   "id": "b513ed60-d409-4044-84fb-cd3ded0706ac",
   "metadata": {},
   "outputs": [
    {
     "name": "stdout",
     "output_type": "stream",
     "text": [
      "James\n",
      "James\n",
      "James\n",
      "es\n"
     ]
    }
   ],
   "source": [
    "my_name = 'James'\n",
    "print( my_name[:] )\n",
    "print( my_name[0:5] )\n",
    "print( my_name[:5] )\n",
    "print( my_name[3:] )"
   ]
  },
  {
   "cell_type": "markdown",
   "id": "30035702-f26e-4fb8-943c-6d1331fb2db6",
   "metadata": {},
   "source": [
    "Remark:  In Python we start counting from 0. The slice operator : can be used as follows **start:stop** where **start** is the value from which we start counting and **stop-1** is where we want to stop. We say that Python is not inclusive. Python accesses the entire array when we use the slice operator : without specifying where to start and where to stop. If we don't provide the value start then this is taken 0. If we do not provide the value stop, then the counter will reach the last entry."
   ]
  },
  {
   "cell_type": "markdown",
   "id": "df20ad5a-3c35-4f67-a1ec-570d41a40e3c",
   "metadata": {},
   "source": [
    "## Data structures - Tuples"
   ]
  },
  {
   "cell_type": "markdown",
   "id": "8509b228-08df-406a-9c77-bff81e748759",
   "metadata": {},
   "source": [
    "A **tuple** is a sequence of (not necessarily same) objects separated with commas. For clarity, tuples are usually enclosed in parentheses. For example, a tuple can be the combination 2,`Hi' or (2,`Hi'), where its first entry is the number 2 and its second entry is `Hi'. Tuples can be useful when we want to return more than one object in a function."
   ]
  },
  {
   "cell_type": "code",
   "execution_count": 140,
   "id": "cf2f4256-76c3-4384-aed0-c57e6b433b11",
   "metadata": {},
   "outputs": [
    {
     "name": "stdout",
     "output_type": "stream",
     "text": [
      "2\n",
      "Hi\n"
     ]
    }
   ],
   "source": [
    "x = ( 2, 'Hi' )\n",
    "print( x[0] )\n",
    "print( x[1] )"
   ]
  },
  {
   "cell_type": "code",
   "execution_count": null,
   "id": "26dc891c-9631-4ca4-9d46-f60d3a3592c1",
   "metadata": {},
   "outputs": [],
   "source": []
  },
  {
   "cell_type": "code",
   "execution_count": 61,
   "id": "b70d3be8-326b-40e6-91a1-a3d05b92fe9d",
   "metadata": {},
   "outputs": [
    {
     "name": "stdout",
     "output_type": "stream",
     "text": [
      "(0, 1, 2, 3, 4, 5, 6, 7, 8, 9)\n",
      "(4, 6, 8)\n",
      "('s', 't', 'r', 'i', 'n', 'g')\n"
     ]
    }
   ],
   "source": [
    "t = ()                # or t = tuple(), this is empty tuple\n",
    "t = tuple(range(10))  #create tuple from a list\n",
    "print(t)\n",
    "print(t[4::2])        #can use indexing and slicing\n",
    "t = tuple(\"string\")   #can create from the string\n",
    "print(t)"
   ]
  },
  {
   "cell_type": "markdown",
   "id": "2e137926-a046-46fc-841e-d6036a9eefea",
   "metadata": {},
   "source": [
    "## Data structures - Lists"
   ]
  },
  {
   "cell_type": "markdown",
   "id": "093e67e8-10ca-42d2-84ff-5374f184f04a",
   "metadata": {},
   "source": [
    "A **list** is a data structure that resembles a vector and contains data linked as in a chain. Lists can change size by adding entries anywhere we like. The list can contain only objects of the same type (i.e. numbers only, or strings only, etc.)."
   ]
  },
  {
   "cell_type": "code",
   "execution_count": 155,
   "id": "94d41457-8b31-44c3-9153-6d11baf5e81b",
   "metadata": {},
   "outputs": [
    {
     "name": "stdout",
     "output_type": "stream",
     "text": [
      "5\n",
      "3\n",
      "7\n"
     ]
    }
   ],
   "source": [
    "list = [5, 3, 7]\n",
    "print(list[0])\n",
    "print(list[1])\n",
    "print(list[2])"
   ]
  },
  {
   "cell_type": "markdown",
   "id": "b2667332-3f45-4d0c-9df1-6478dbefbf7c",
   "metadata": {},
   "source": [
    "a list is a periodic structure, make changes to an entry of a list, add a new entry at the end of a list"
   ]
  },
  {
   "cell_type": "code",
   "execution_count": 157,
   "id": "4898b6f9-e277-471f-9140-4eaa9f12d023",
   "metadata": {},
   "outputs": [
    {
     "name": "stdout",
     "output_type": "stream",
     "text": [
      "7\n"
     ]
    }
   ],
   "source": [
    "list = [5, 3, 7]\n",
    "print(list[-1])"
   ]
  },
  {
   "cell_type": "code",
   "execution_count": 159,
   "id": "003ae4a3-c19b-462c-9f15-d59d4417631d",
   "metadata": {},
   "outputs": [
    {
     "name": "stdout",
     "output_type": "stream",
     "text": [
      "[5, 9, 7]\n"
     ]
    }
   ],
   "source": [
    "list[1] = 9\n",
    "print(list)"
   ]
  },
  {
   "cell_type": "code",
   "execution_count": 161,
   "id": "30b6be61-3d83-404f-8cfa-48a8d36ee6c5",
   "metadata": {},
   "outputs": [
    {
     "name": "stdout",
     "output_type": "stream",
     "text": [
      "[5, 9, 7, 10]\n"
     ]
    }
   ],
   "source": [
    "list.append(10)\n",
    "print(list)"
   ]
  },
  {
   "cell_type": "code",
   "execution_count": 165,
   "id": "8dfa03b6-8a0f-4b5c-88ed-4f532dedd5ea",
   "metadata": {},
   "outputs": [
    {
     "name": "stdout",
     "output_type": "stream",
     "text": [
      "6\n"
     ]
    }
   ],
   "source": [
    "grades = [9.0, 6.7, 8.5, 7.6, 9.8, 7.0]\n",
    "n = len(grades)\n",
    "print(n)"
   ]
  },
  {
   "cell_type": "markdown",
   "id": "03645ba5-0f89-4846-a52c-e97a2ab502e7",
   "metadata": {},
   "source": [
    "add new entries to the end of the list using the operator +, "
   ]
  },
  {
   "cell_type": "code",
   "execution_count": 176,
   "id": "16c1e5e9-23af-407d-a495-78602b29385c",
   "metadata": {},
   "outputs": [
    {
     "name": "stdout",
     "output_type": "stream",
     "text": [
      "[9.0, 6.7, 8.5, 7.6, 9.8, 7.0, 6.2, 8.2, 5.9]\n"
     ]
    }
   ],
   "source": [
    "grades = grades + [6.2, 8.2, 5.9]\n",
    "print(grades)"
   ]
  },
  {
   "cell_type": "markdown",
   "id": "c4250ef4-b673-4e1b-bbd1-818b14915740",
   "metadata": {},
   "source": [
    "The slice operator : can be used again in order to extract certain parts of a list."
   ]
  },
  {
   "cell_type": "code",
   "execution_count": 178,
   "id": "e87744e5-1985-4730-91f7-f9a4215a9372",
   "metadata": {},
   "outputs": [
    {
     "name": "stdout",
     "output_type": "stream",
     "text": [
      "[8.5, 7.6, 9.8]\n"
     ]
    }
   ],
   "source": [
    "print(grades[2:5])"
   ]
  },
  {
   "cell_type": "markdown",
   "id": "3f188afb-30d6-4e76-b419-3cf9fd9c677a",
   "metadata": {},
   "source": [
    "Adding two lists results in a new list"
   ]
  },
  {
   "cell_type": "code",
   "execution_count": 180,
   "id": "f4007983-8d2e-48d4-8fdd-374f2989b6b5",
   "metadata": {},
   "outputs": [
    {
     "name": "stdout",
     "output_type": "stream",
     "text": [
      "[9, 6, 8, 7, 1, 2, 3]\n"
     ]
    }
   ],
   "source": [
    "list1 = [9, 6, 8, 7]\n",
    "list2 = [1, 2, 3]\n",
    "list3 = list1 + list2\n",
    "print(list3)"
   ]
  },
  {
   "cell_type": "markdown",
   "id": "2a5574ed-e174-4e57-8aa2-1dafb891cd7c",
   "metadata": {},
   "source": [
    "## Data structures - List of list"
   ]
  },
  {
   "cell_type": "markdown",
   "id": "0052ae38-860d-4d4d-8d01-054958064c06",
   "metadata": {},
   "source": [
    "Python does not have a built-in type for matrices. However, we can think of a matrix in Python as a list of lists. The entries of this list (matrix) represent the matrix rows and are lists. For example, the matrix \n",
    "$$A=\\left(\\begin{array}{cc}\n",
    "        1 & 2 \\\\\n",
    "        3 & 4\n",
    "    \\end{array}\\right),$$ is represented in Python as A = [[1,2],[3,4]]."
   ]
  },
  {
   "cell_type": "code",
   "execution_count": 189,
   "id": "28a60b1e-9580-4233-a2a8-4ff39ec9f79b",
   "metadata": {},
   "outputs": [
    {
     "name": "stdout",
     "output_type": "stream",
     "text": [
      "[[1, 2], [3, 4]]\n"
     ]
    }
   ],
   "source": [
    "A = [[1,2],[3,4]]\n",
    "print(A)"
   ]
  },
  {
   "cell_type": "markdown",
   "id": "69dea6d6-df6a-40c8-9cfa-a3df5d20ef92",
   "metadata": {},
   "source": [
    "access the entry of the Pythonic matrix"
   ]
  },
  {
   "cell_type": "code",
   "execution_count": 192,
   "id": "79caecf6-d41c-49d5-a906-205644838e27",
   "metadata": {},
   "outputs": [
    {
     "name": "stdout",
     "output_type": "stream",
     "text": [
      "2\n"
     ]
    }
   ],
   "source": [
    "a12 = A[0][1]\n",
    "print(a12)"
   ]
  },
  {
   "cell_type": "markdown",
   "id": "8da27233-acd7-44b0-b7e9-7fdac261855a",
   "metadata": {},
   "source": [
    "Remakrs: For scientific computations with matrices we use a different data structure called **array**. This data structure is similar to the Pythonic list of lists but is equipped with the usual linear algebra properties and operations. For this reason, we focus on matrix computations using **arrays**."
   ]
  },
  {
   "cell_type": "markdown",
   "id": "5665b17d-5f8d-468c-85ea-87c65d97d393",
   "metadata": {},
   "source": [
    "## Matrices and Python - The NumPy module"
   ]
  },
  {
   "cell_type": "markdown",
   "id": "dabed1b9-8d0e-4c9c-8cf2-2a2e8340451e",
   "metadata": {},
   "source": [
    "NumPy is a Python module that defines a number of data structures and functions specialized for scientific computing. Like every other module, we need to import its functions in the beginning of our code. This can be done with one of the following commands:"
   ]
  },
  {
   "cell_type": "code",
   "execution_count": 211,
   "id": "c775acbc-2eb2-4277-bee9-108f01a12963",
   "metadata": {},
   "outputs": [],
   "source": [
    "# Use only one of the following\n",
    "\n",
    "# import numpy\n",
    "# import numpy as np\n",
    "# from numpy import *\n",
    "# from numpy import function"
   ]
  },
  {
   "cell_type": "markdown",
   "id": "6d2853e2-ba10-4828-b513-182c96423ba3",
   "metadata": {},
   "source": [
    "We usually import the module numpy in the beginning of our code. Most commonly, NumPy is imported via the command **import numpy as np**. NumPy's most important data structures is the n-dimensional array ndarray.\n",
    "\n",
    "A NumPy array is very similar to a list of lists and is actually constructed by a list of lists. We can define the simple $3 \\times  2$ matrix $A=\\left(\\begin{array}{cc}\n",
    "        1 & 2 \\\\\n",
    "        3 & 4 \\\\\n",
    "        5 & 6\n",
    "    \\end{array}\\right)$ using the function np.array and appropriate list of lists as input. The output will be a new array. In Python (and also in NumPy) indices start from 0. "
   ]
  },
  {
   "cell_type": "code",
   "execution_count": 68,
   "id": "81fdeb1e-651d-48a3-8e33-918acd5285a5",
   "metadata": {},
   "outputs": [
    {
     "name": "stdout",
     "output_type": "stream",
     "text": [
      "[[1 2]\n",
      " [3 4]\n",
      " [5 6]]\n"
     ]
    }
   ],
   "source": [
    "import numpy as np\n",
    "\n",
    "A = np.array( [[1, 2], [3, 4], [5, 6]] )\n",
    "print(A)"
   ]
  },
  {
   "cell_type": "code",
   "execution_count": 217,
   "id": "03808212-bb4e-4f3e-b5a6-1fc32fcda07c",
   "metadata": {},
   "outputs": [
    {
     "name": "stdout",
     "output_type": "stream",
     "text": [
      "a(1,2) =  2\n"
     ]
    }
   ],
   "source": [
    "print(\"a(1,2) = \", A[0,1])"
   ]
  },
  {
   "cell_type": "markdown",
   "id": "a4176eba-ff4f-4a08-8a09-10bfcbcd413e",
   "metadata": {},
   "source": [
    "To modify the value of the entry"
   ]
  },
  {
   "cell_type": "code",
   "execution_count": 219,
   "id": "a070d577-0bfc-4246-81e8-8843fb5f10cb",
   "metadata": {},
   "outputs": [
    {
     "name": "stdout",
     "output_type": "stream",
     "text": [
      "[[ 1  2]\n",
      " [ 3 10]\n",
      " [ 5  6]]\n"
     ]
    }
   ],
   "source": [
    "A[1,1]=10\n",
    "print(A)"
   ]
  },
  {
   "cell_type": "code",
   "execution_count": 222,
   "id": "ef2c18b3-ad24-4df8-8e18-66bb8ca5aa3b",
   "metadata": {},
   "outputs": [
    {
     "name": "stdout",
     "output_type": "stream",
     "text": [
      "[[ 1  3]\n",
      " [ 3 10]\n",
      " [ 5  6]]\n"
     ]
    }
   ],
   "source": [
    "A[0,1] = A[0,1] + 1\n",
    "print(A)"
   ]
  },
  {
   "cell_type": "markdown",
   "id": "e204eaab-1009-4f51-9b2d-3568e9f354b0",
   "metadata": {},
   "source": [
    "## Matrices and Python - Slicing"
   ]
  },
  {
   "cell_type": "markdown",
   "id": "2fc960da-719d-4164-9373-ccae025b7fc2",
   "metadata": {},
   "source": [
    "The slice operator : can be used to extract parts of a NumPy array."
   ]
  },
  {
   "cell_type": "code",
   "execution_count": 254,
   "id": "db1451ab-3fff-4e63-b1ab-295759284985",
   "metadata": {
    "scrolled": true
   },
   "outputs": [
    {
     "name": "stdout",
     "output_type": "stream",
     "text": [
      "[1 3 5]\n",
      "<class 'numpy.ndarray'>\n"
     ]
    }
   ],
   "source": [
    "A = np.array( [[1, 2], [3, 4], [5, 6]] )\n",
    "print(A[:,0])\n",
    "print(type(A[:,0]))"
   ]
  },
  {
   "cell_type": "markdown",
   "id": "dbe64b9b-4730-4f53-ac3c-dee093faf488",
   "metadata": {},
   "source": [
    "we can extract rows instead of columns"
   ]
  },
  {
   "cell_type": "code",
   "execution_count": null,
   "id": "caa945ba-9a3d-4c5e-a8ae-ea4b26d1d7a9",
   "metadata": {},
   "outputs": [],
   "source": [
    "print(A[1,:])"
   ]
  },
  {
   "cell_type": "markdown",
   "id": "27cad506-ee1c-4dac-8e6d-9aa756598e99",
   "metadata": {},
   "source": [
    "For example, consider the following $3\\times 3$ matrix\n",
    "$B=\\left(\\begin{array}{ccc}\n",
    "    1 & 2 & 3 \\\\\n",
    "    4 & 5 & 6 \\\\\n",
    "    7 & 8 & 9 \\\\\n",
    "\\end{array}\\right),$ for which we extract the $2\\times 2$ block consisting of the first 2 columns and 2 rows $C = \\left(\\begin{array}{cc}\n",
    "    1 & 2 \\\\\n",
    "    4 & 5\n",
    "\\end{array}\\right)$, using the following lines of code"
   ]
  },
  {
   "cell_type": "code",
   "execution_count": 237,
   "id": "4e1d2f27-d747-42bf-b7c9-5280bde4eaa2",
   "metadata": {},
   "outputs": [
    {
     "name": "stdout",
     "output_type": "stream",
     "text": [
      "[[1 2]\n",
      " [4 5]]\n"
     ]
    }
   ],
   "source": [
    "B = np.array( [[1, 2, 3],\n",
    "    [4, 5, 6],\n",
    "    [7, 8, 9]] )\n",
    "C = B[0:2, 0:2]\n",
    "print(C)"
   ]
  },
  {
   "cell_type": "markdown",
   "id": "e0fe6ba8-b39c-499c-8aad-7a0f265f0369",
   "metadata": {},
   "source": [
    "## Matrices and Python - Vectors and arrays"
   ]
  },
  {
   "cell_type": "markdown",
   "id": "1663dd3b-a3ee-482d-940f-346ee8f005ba",
   "metadata": {},
   "source": [
    "consider the vector $a = (1, 2, 3)$ as a $1\\times3$ matrix:"
   ]
  },
  {
   "cell_type": "code",
   "execution_count": 241,
   "id": "ef3f3a70-1272-456e-9bd8-9f91161ebcf9",
   "metadata": {},
   "outputs": [
    {
     "name": "stdout",
     "output_type": "stream",
     "text": [
      "(1, 3)\n"
     ]
    }
   ],
   "source": [
    "a = np.array( [[1, 2, 3]] )\n",
    "print(a.shape)"
   ]
  },
  {
   "cell_type": "markdown",
   "id": "4b2e4742-0fd3-4c74-8d9b-e6b65eeadcd0",
   "metadata": {},
   "source": [
    "Here we call vectors (row or column) arrays with shape ($n,)$ instead of $(n,1)$ or $(1,n)$. This can be done by using single square brackets instead of double in the definition of an array:"
   ]
  },
  {
   "cell_type": "code",
   "execution_count": 256,
   "id": "029e648e-7530-4501-adb7-e5dfc6669eaa",
   "metadata": {},
   "outputs": [
    {
     "name": "stdout",
     "output_type": "stream",
     "text": [
      "(3,)\n"
     ]
    }
   ],
   "source": [
    "a = np.array( [1, 2, 3] )\n",
    "print(a.shape)"
   ]
  },
  {
   "cell_type": "code",
   "execution_count": 258,
   "id": "c156511d-15a3-45d4-be2f-e8423c509a0d",
   "metadata": {},
   "outputs": [
    {
     "name": "stdout",
     "output_type": "stream",
     "text": [
      "2\n"
     ]
    }
   ],
   "source": [
    "print(a[1])"
   ]
  },
  {
   "cell_type": "markdown",
   "id": "3334a57c-1686-4954-b29f-625f2ade722a",
   "metadata": {},
   "source": [
    "use the command reshape"
   ]
  },
  {
   "cell_type": "code",
   "execution_count": 260,
   "id": "565d9f7a-758c-4dbd-9a8b-22c13fa9ae10",
   "metadata": {},
   "outputs": [
    {
     "name": "stdout",
     "output_type": "stream",
     "text": [
      "b= [[1 2 3]]\n",
      "(1, 3)\n",
      "c= [[1 2 3]]\n",
      "(1, 3)\n"
     ]
    }
   ],
   "source": [
    "b = a.reshape((1,3))\n",
    "c = a.reshape((1,-1))\n",
    "print('b=', b)\n",
    "print(b.shape)\n",
    "print('c=', c)\n",
    "print(c.shape)"
   ]
  },
  {
   "cell_type": "markdown",
   "id": "b9039cd5-8577-4503-8262-9eafac99eccc",
   "metadata": {},
   "source": [
    "## Special matrices, methods and properties"
   ]
  },
  {
   "cell_type": "markdown",
   "id": "01452a88-0a66-4bc5-ac64-ea2595efad9e",
   "metadata": {},
   "source": [
    "create automatically an $n\\times m$ matrix with all entries zero"
   ]
  },
  {
   "cell_type": "code",
   "execution_count": 263,
   "id": "0f67706a-305d-48e2-8679-3cef3fe02843",
   "metadata": {},
   "outputs": [
    {
     "name": "stdout",
     "output_type": "stream",
     "text": [
      "[[0. 0. 0. 0.]\n",
      " [0. 0. 0. 0.]\n",
      " [0. 0. 0. 0.]]\n"
     ]
    }
   ],
   "source": [
    "A = np.zeros( (3,4) )\n",
    "print(A)"
   ]
  },
  {
   "cell_type": "code",
   "execution_count": 265,
   "id": "13699588-cac7-46fe-8ce9-6c1f8aa7cc58",
   "metadata": {},
   "outputs": [
    {
     "name": "stdout",
     "output_type": "stream",
     "text": [
      "(3, 4)\n",
      "2\n",
      "12\n"
     ]
    }
   ],
   "source": [
    "print(np.shape(A))\n",
    "print(A.ndim)\n",
    "print(A.size)"
   ]
  },
  {
   "cell_type": "markdown",
   "id": "6539cb12-c298-4b36-ba1b-3dc198551167",
   "metadata": {},
   "source": [
    "we create a $3\\times3$ identity matrix by typing"
   ]
  },
  {
   "cell_type": "code",
   "execution_count": 267,
   "id": "7fdb55da-e723-42e8-9a5c-ad0eb1fe15dd",
   "metadata": {},
   "outputs": [
    {
     "name": "stdout",
     "output_type": "stream",
     "text": [
      "[[1. 0. 0.]\n",
      " [0. 1. 0.]\n",
      " [0. 0. 1.]]\n"
     ]
    }
   ],
   "source": [
    "I = np.eye(3)\n",
    "print(I)"
   ]
  },
  {
   "cell_type": "markdown",
   "id": "6691ae1a-a48a-4cb3-b12a-174df942cb6a",
   "metadata": {},
   "source": [
    "create an $n\\times m$ matrix full of ones"
   ]
  },
  {
   "cell_type": "code",
   "execution_count": 284,
   "id": "6af8dd9d-fb2b-47ff-9b13-f55aa1d63c2a",
   "metadata": {},
   "outputs": [
    {
     "name": "stdout",
     "output_type": "stream",
     "text": [
      "[[1. 1.]\n",
      " [1. 1.]\n",
      " [1. 1.]]\n"
     ]
    }
   ],
   "source": [
    "A = np.ones( (3,2) )\n",
    "print(A)"
   ]
  },
  {
   "cell_type": "markdown",
   "id": "c081251d-dee7-408a-ae1d-928f6755246c",
   "metadata": {},
   "source": [
    "we can extract the upper and lower triangular parts of a matrix by typing"
   ]
  },
  {
   "cell_type": "code",
   "execution_count": 286,
   "id": "ba7b1654-a963-4781-b373-1b8243806821",
   "metadata": {},
   "outputs": [
    {
     "name": "stdout",
     "output_type": "stream",
     "text": [
      "A = \n",
      "[[1 2 3]\n",
      " [4 5 6]\n",
      " [7 8 9]]\n",
      "L = \n",
      "[[1 0 0]\n",
      " [4 5 0]\n",
      " [7 8 9]]\n",
      "U = \n",
      "[[1 2 3]\n",
      " [0 5 6]\n",
      " [0 0 9]]\n"
     ]
    }
   ],
   "source": [
    "A = np.array( [[1, 2, 3],\n",
    "    [4, 5, 6],\n",
    "    [7, 8, 9]] )\n",
    "L = np.tril(A)\n",
    "U = np.triu(A)\n",
    "print('A = '); print(A)\n",
    "print('L = '); print(L)\n",
    "print('U = '); print(U)"
   ]
  },
  {
   "cell_type": "markdown",
   "id": "4502d5a7-3cc8-4074-9a3a-9cf3255c3716",
   "metadata": {},
   "source": [
    "generate its transpose matrix"
   ]
  },
  {
   "cell_type": "code",
   "execution_count": 288,
   "id": "05b90df9-ecd4-44af-87e3-122f4498edb9",
   "metadata": {},
   "outputs": [
    {
     "name": "stdout",
     "output_type": "stream",
     "text": [
      "[[1 4 7]\n",
      " [2 5 8]\n",
      " [3 6 9]]\n"
     ]
    }
   ],
   "source": [
    "A = np.array( [[1, 2, 3],\n",
    "    [4, 5, 6],\n",
    "    [7, 8, 9]] )\n",
    "B = np.transpose(A)\n",
    "print(B)"
   ]
  },
  {
   "cell_type": "markdown",
   "id": "6b3a21f8-75f9-4837-aede-1d78ae469759",
   "metadata": {},
   "source": [
    "add two or more matrices"
   ]
  },
  {
   "cell_type": "code",
   "execution_count": 292,
   "id": "693d8058-2270-45a2-9a9c-64df0d0baf98",
   "metadata": {},
   "outputs": [
    {
     "name": "stdout",
     "output_type": "stream",
     "text": [
      "[[10 10 10]\n",
      " [10 10 10]\n",
      " [10 10 10]]\n"
     ]
    }
   ],
   "source": [
    "A = np.array( [[1, 2, 3],\n",
    "    [4, 5, 6],\n",
    "    [7, 8, 9]] )\n",
    "B = np.array( [[9, 8, 7],\n",
    "    [6, 5, 4],\n",
    "    [3, 2, 1]] )\n",
    "C = A + B\n",
    "print(C)"
   ]
  },
  {
   "cell_type": "markdown",
   "id": "351c0182-2dee-48a2-abc7-7e6853718f91",
   "metadata": {},
   "source": [
    "The matrix C is a new matrix and is unrelated to A and B. In the same way we can subtract, multiply a matrix with a scalar etc. For example, we can write"
   ]
  },
  {
   "cell_type": "code",
   "execution_count": 294,
   "id": "1ee0daf9-fc25-4c70-8db1-cdbd1cfc80fe",
   "metadata": {},
   "outputs": [
    {
     "name": "stdout",
     "output_type": "stream",
     "text": [
      "[[-8 -6 -4]\n",
      " [-2  0  2]\n",
      " [ 4  6  8]]\n",
      "[[ 2.  4.  6.]\n",
      " [ 8. 10. 12.]\n",
      " [14. 16. 18.]]\n",
      "[[5. 5. 5.]\n",
      " [5. 5. 5.]\n",
      " [5. 5. 5.]]\n",
      "[[-14. -13. -12.]\n",
      " [-11. -10.  -9.]\n",
      " [ -8.  -7.  -6.]]\n"
     ]
    }
   ],
   "source": [
    "D = A - B\n",
    "E = 2.0 * A\n",
    "F = C / 2.0\n",
    "G = A - 3.0*F\n",
    "print(D)\n",
    "print(E)\n",
    "print(F)\n",
    "print(G)"
   ]
  },
  {
   "cell_type": "markdown",
   "id": "0eac53e8-320d-458f-8433-3a52a9cbe800",
   "metadata": {},
   "source": [
    "## Matrix multiplication"
   ]
  },
  {
   "cell_type": "markdown",
   "id": "1912e7f4-b05e-40b6-9904-03612bd3f70e",
   "metadata": {},
   "source": [
    "The operator $*$ with NumPy arrays does not perform an actual matrix multiplication. It performs an element by element multiplication between two arrays. On the other hand, the operator $@$ performs the usual matrix multiplication. For example,"
   ]
  },
  {
   "cell_type": "code",
   "execution_count": 297,
   "id": "4f7b7b84-6cbf-4da2-baaa-6da8bb839dbb",
   "metadata": {},
   "outputs": [
    {
     "name": "stdout",
     "output_type": "stream",
     "text": [
      "C=\n",
      "[[ 5 12]\n",
      " [21 32]]\n",
      "D=\n",
      "[[19 22]\n",
      " [43 50]]\n"
     ]
    }
   ],
   "source": [
    "A = np.array( [[1, 2],\n",
    "    [3, 4]] )\n",
    "B = np.array( [[5, 6],\n",
    "    [7, 8]] )\n",
    "C = A * B\n",
    "print('C='); print(C)\n",
    "D = A @ B\n",
    "print('D='); print(D)"
   ]
  },
  {
   "cell_type": "markdown",
   "id": "0b0d86ff-4fb6-46f6-af90-273bd0f96f3a",
   "metadata": {},
   "source": [
    "Matrix multiplication can be also performed using the NumPy function dot."
   ]
  },
  {
   "cell_type": "code",
   "execution_count": 315,
   "id": "73f9bdfc-9690-4ec1-9d35-bdbc40330914",
   "metadata": {},
   "outputs": [
    {
     "name": "stdout",
     "output_type": "stream",
     "text": [
      "[[21 24 27]\n",
      " [47 54 61]]\n"
     ]
    }
   ],
   "source": [
    "A = np.array( [[1, 2],\n",
    "    [3, 4]] )\n",
    "B = np.array( [[5, 6, 7],\n",
    "               [8, 9, 10]] )\n",
    "C = np.dot(A,B)\n",
    "print(C)"
   ]
  },
  {
   "cell_type": "markdown",
   "id": "a5e72e83-0503-4663-be6b-7b605facd631",
   "metadata": {},
   "source": [
    "## Inverse matrix, determinant of a matrix"
   ]
  },
  {
   "cell_type": "markdown",
   "id": "a92ed041-e06d-41dc-96b1-004bd3388fcd",
   "metadata": {},
   "source": [
    "Computation of the inverse of a matrix A"
   ]
  },
  {
   "cell_type": "markdown",
   "id": "bf288f92-bfca-4243-83ad-cc093aeecb35",
   "metadata": {},
   "source": []
  },
  {
   "cell_type": "code",
   "execution_count": 318,
   "id": "d077e047-9841-4490-86b6-f19655a07a20",
   "metadata": {},
   "outputs": [
    {
     "name": "stdout",
     "output_type": "stream",
     "text": [
      "[[-2.   1. ]\n",
      " [ 1.5 -0.5]]\n"
     ]
    }
   ],
   "source": [
    "import numpy.linalg as npl\n",
    "\n",
    "A = np.array( [[1, 2],\n",
    "[3, 4]] )\n",
    "Ainv = npl.inv(A)\n",
    "print(Ainv)"
   ]
  },
  {
   "cell_type": "markdown",
   "id": "7f738535-f6be-48e3-a753-52c6af4f55d2",
   "metadata": {},
   "source": [
    "A determinant of a matrix can be computed approximately using the function \\textbf{det} of the module numpy.linalg. For example,"
   ]
  },
  {
   "cell_type": "code",
   "execution_count": 321,
   "id": "e4cc652d-73ce-44e4-80d4-81979ce6754a",
   "metadata": {},
   "outputs": [
    {
     "name": "stdout",
     "output_type": "stream",
     "text": [
      "64.99999999999999\n"
     ]
    }
   ],
   "source": [
    "import numpy as np\n",
    "from numpy.linalg import det\n",
    "A = np.array( [[ 1, 4, 2, 3],\n",
    "    [ 0, 1, 4, 4],\n",
    "    [-1, 0, 1, 0],\n",
    "    [ 2, 0, 4, 1]] )\n",
    "print(det(A))"
   ]
  },
  {
   "cell_type": "code",
   "execution_count": null,
   "id": "59aef809-e94f-4030-8fc7-6f0211137463",
   "metadata": {},
   "outputs": [],
   "source": []
  },
  {
   "cell_type": "markdown",
   "id": "4ae4d5b7-c15c-4081-93c8-15d5dc52f813",
   "metadata": {},
   "source": [
    "## Linear system"
   ]
  },
  {
   "cell_type": "markdown",
   "id": "8f82505d-5580-474e-8d01-8d010b301d19",
   "metadata": {},
   "source": [
    "To solve numerically a system of linear equations $Ax = b$ we use NumPy and its function **solve**. For example, to solve the previous linear system we type"
   ]
  },
  {
   "cell_type": "code",
   "execution_count": 326,
   "id": "286f39a4-69ea-4dc4-9eca-aa9eda372bd3",
   "metadata": {},
   "outputs": [
    {
     "name": "stdout",
     "output_type": "stream",
     "text": [
      "[[1.]\n",
      " [1.]\n",
      " [1.]\n",
      " [1.]]\n"
     ]
    }
   ],
   "source": [
    "from numpy.linalg import solve\n",
    "A = np.array( [[ 2.0, -1.0, 0.0 , 0.0],\n",
    "    [-1.0, 3.0, -1.0, 0.0],\n",
    "    [ 0.0, -1.0, 3.0, -1.0],\n",
    "    [ 0.0, 0.0 ,-1.0, 2.0]] )\n",
    "b = np.ones((4,1))\n",
    "x = solve(A,b)\n",
    "print(x)"
   ]
  },
  {
   "cell_type": "code",
   "execution_count": null,
   "id": "1bbe02e8-0101-47de-a542-ba05ecb84e4f",
   "metadata": {},
   "outputs": [],
   "source": []
  },
  {
   "cell_type": "code",
   "execution_count": 70,
   "id": "1d74d842-d276-4244-8bd9-6e8e0fc1a9ea",
   "metadata": {},
   "outputs": [
    {
     "name": "stdout",
     "output_type": "stream",
     "text": [
      "A: [[ 1 77  3]\n",
      " [ 4  5  6]\n",
      " [ 7  8  9]]\n",
      "B: [[ 5. 10.]\n",
      " [15. 20.]\n",
      " [25. 30.]]\n",
      "dot product\n",
      " [[1235. 1640.]\n",
      " [ 245.  320.]\n",
      " [ 380.  500.]]\n",
      "Matrix product\n",
      " [[1235. 1640.]\n",
      " [ 245.  320.]\n",
      " [ 380.  500.]]\n",
      "Inner product\n",
      " [[5939  407  650]\n",
      " [ 407   77  122]\n",
      " [ 650  122  194]]\n",
      "Outer product\n",
      " [[   5.   10.   15.   20.   25.   30.]\n",
      " [ 385.  770. 1155. 1540. 1925. 2310.]\n",
      " [  15.   30.   45.   60.   75.   90.]\n",
      " [  20.   40.   60.   80.  100.  120.]\n",
      " [  25.   50.   75.  100.  125.  150.]\n",
      " [  30.   60.   90.  120.  150.  180.]\n",
      " [  35.   70.  105.  140.  175.  210.]\n",
      " [  40.   80.  120.  160.  200.  240.]\n",
      " [  45.   90.  135.  180.  225.  270.]]\n",
      "Trace\n",
      " 15\n",
      "Transpose\n",
      " [[ 1  4  7]\n",
      " [77  5  8]\n",
      " [ 3  6  9]]\n",
      "Matrix Power\n",
      " [[330 486 492]\n",
      " [ 66 381  96]\n",
      " [102 651 150]]\n",
      "Inverse\n",
      " [[-0.00666667 -1.48666667  0.99333333]\n",
      " [ 0.01333333 -0.02666667  0.01333333]\n",
      " [-0.00666667  1.18       -0.67333333]]\n",
      "Determinant\n",
      " 450.00000000000006\n"
     ]
    }
   ],
   "source": [
    "A = np.array([[1,77,3],[4,5,6],[7,8,9]])\n",
    "B = np.linspace(5,30,6).reshape(3,2)\n",
    "print('A:',A)\n",
    "print('B:',B)\n",
    "print('dot product\\n',np.dot(A,B))\n",
    "print('Matrix product\\n',np.matmul(A,B)) #different from dot for dimensions>2\n",
    "print('Inner product\\n',np.inner(A,A))\n",
    "print('Trace\\n',np.trace(A))\n",
    "print('Transpose\\n',A.T)\n",
    "print('Matrix Power\\n',np.linalg.matrix_power(A,2))\n",
    "print('Inverse\\n',np.linalg.inv(A))\n",
    "print('Determinant\\n',np.linalg.det(A))"
   ]
  },
  {
   "cell_type": "markdown",
   "id": "0f62f227-27ae-4c95-b474-9b6979035092",
   "metadata": {},
   "source": [
    "## Statistics"
   ]
  },
  {
   "cell_type": "code",
   "execution_count": 343,
   "id": "c2a84b1c-4a6b-4830-ae9d-5cd0bf8de954",
   "metadata": {},
   "outputs": [
    {
     "name": "stdout",
     "output_type": "stream",
     "text": [
      "3.1 3.0 0.9 6.7 3.0700000000000007 1.7521415467935233\n"
     ]
    }
   ],
   "source": [
    "x = np.array([3.5, 1.1, 3.2, 2.8, 6.7, 4.4, 0.9, 2.2])\n",
    "A = np.mean(x)\n",
    "B = np.median(x)\n",
    "C = x.min()\n",
    "D = x.max()\n",
    "E = x.var()\n",
    "F = x.std()\n",
    "print(A, B, C, D, E, F)"
   ]
  },
  {
   "cell_type": "code",
   "execution_count": null,
   "id": "5faccc89-72a8-4c3d-b1b0-84e57d81b06d",
   "metadata": {},
   "outputs": [],
   "source": [
    "A = np.linspace(0,1,9)\n",
    "print('A:',A)\n",
    "print('sum:               ',np.sum(A))\n",
    "print('product:           ',np.prod(A))\n",
    "print('mean:              ',np.mean(A))\n",
    "print('standard deviation:',np.std(A))\n",
    "print('variance:          ',np.var(A))\n",
    "print('minimum:           ',np.min(A))\n",
    "print('maximum:           ',np.max(A))\n",
    "print('median:            ',np.median(A))\n",
    "print('index of min:      ',np.argmin(A))\n",
    "print('index of max:      ',np.argmax(A))"
   ]
  },
  {
   "cell_type": "code",
   "execution_count": null,
   "id": "49535a87-dc46-4063-8142-562ecabcb87f",
   "metadata": {},
   "outputs": [],
   "source": []
  },
  {
   "cell_type": "markdown",
   "id": "84cc78f1-d820-4c19-9726-fe6f6b27440d",
   "metadata": {},
   "source": [
    "## Random Numbers"
   ]
  },
  {
   "cell_type": "code",
   "execution_count": null,
   "id": "c55d44de-2128-4189-9ab3-6431ec068eb0",
   "metadata": {},
   "outputs": [],
   "source": []
  },
  {
   "cell_type": "code",
   "execution_count": null,
   "id": "ac4d0e2b-1e2c-4fed-9d9e-a2555ada5eae",
   "metadata": {},
   "outputs": [],
   "source": []
  },
  {
   "cell_type": "code",
   "execution_count": 20,
   "id": "72074bec-4884-4f4c-a785-f9b6b1bc6be8",
   "metadata": {},
   "outputs": [
    {
     "data": {
      "text/plain": [
       "0.11093899749009617"
      ]
     },
     "execution_count": 20,
     "metadata": {},
     "output_type": "execute_result"
    }
   ],
   "source": [
    "import numpy as np\n",
    "np.random.rand()"
   ]
  },
  {
   "cell_type": "code",
   "execution_count": 18,
   "id": "83634f88-739b-436a-9d1b-8192bcd989d7",
   "metadata": {},
   "outputs": [
    {
     "data": {
      "text/plain": [
       "0.6831356136047286"
      ]
     },
     "execution_count": 18,
     "metadata": {},
     "output_type": "execute_result"
    }
   ],
   "source": [
    "np.random.randn()"
   ]
  },
  {
   "cell_type": "code",
   "execution_count": 25,
   "id": "d7dd7852-73a5-4509-ad46-0f13f94408b7",
   "metadata": {},
   "outputs": [
    {
     "data": {
      "text/plain": [
       "array([0.79237218, 0.39233412, 0.09576777, 0.91429581, 0.78702996])"
      ]
     },
     "execution_count": 25,
     "metadata": {},
     "output_type": "execute_result"
    }
   ],
   "source": [
    "np.random.rand(5)"
   ]
  },
  {
   "cell_type": "code",
   "execution_count": null,
   "id": "242d5910-1563-41ff-9860-e8ed9a60897a",
   "metadata": {},
   "outputs": [],
   "source": []
  },
  {
   "cell_type": "code",
   "execution_count": 27,
   "id": "d5167524-cd61-4173-967b-38adc5a33535",
   "metadata": {},
   "outputs": [
    {
     "data": {
      "text/plain": [
       "array([[ 0.21069651,  0.6832547 ,  0.91718557,  0.15575058],\n",
       "       [-1.38648664,  0.57447951,  1.52903377,  0.85133039]])"
      ]
     },
     "execution_count": 27,
     "metadata": {},
     "output_type": "execute_result"
    }
   ],
   "source": [
    "np.random.randn(2, 4)"
   ]
  },
  {
   "cell_type": "code",
   "execution_count": 30,
   "id": "8d57c525-66b6-473c-86cb-7b1456a78bf9",
   "metadata": {},
   "outputs": [
    {
     "data": {
      "text/plain": [
       "array([4, 5, 1, 4, 1, 0, 7, 1, 9, 2])"
      ]
     },
     "execution_count": 30,
     "metadata": {},
     "output_type": "execute_result"
    }
   ],
   "source": [
    "np.random.randint(10, size=10)"
   ]
  },
  {
   "cell_type": "code",
   "execution_count": 33,
   "id": "53abbc22-363d-4d5e-ad79-069d8c52ca40",
   "metadata": {},
   "outputs": [
    {
     "data": {
      "text/plain": [
       "array([[19, 10, 12, 17, 15, 14, 16, 16, 19, 10],\n",
       "       [11, 15, 18, 15, 18, 11, 14, 17, 16, 17]])"
      ]
     },
     "execution_count": 33,
     "metadata": {},
     "output_type": "execute_result"
    }
   ],
   "source": [
    "np.random.randint(low=10, high=20, size=(2, 10))"
   ]
  },
  {
   "cell_type": "markdown",
   "id": "6bf4703a-88c8-4081-8ec1-9c677751dd30",
   "metadata": {},
   "source": [
    "## References"
   ]
  },
  {
   "cell_type": "code",
   "execution_count": null,
   "id": "05b13a06-5197-49f1-83be-f1125e08525b",
   "metadata": {},
   "outputs": [],
   "source": []
  },
  {
   "cell_type": "code",
   "execution_count": null,
   "id": "fcf07b93-5038-476e-b315-fa6666ff5472",
   "metadata": {},
   "outputs": [],
   "source": []
  },
  {
   "cell_type": "markdown",
   "id": "830a6dec-c892-4aa6-befb-dcf205ec1566",
   "metadata": {},
   "source": [
    "1.\tMitsotakis, Dimitrios. (2023). Computational Mathematics: An introduction to Numerical Analysis and Scientific Computing with Python. CRC Press\n",
    "2. Johansson, Robert. (2019). Numerical Python: Scientific Computing and Data Science Applications with Numpy, SciPy and Matplotlib. Second Edition. Apress Media LLC: Welmoed Spahr"
   ]
  },
  {
   "cell_type": "code",
   "execution_count": null,
   "id": "2e70ece8-d4e7-4fbd-a7d7-7dcbd100fa9c",
   "metadata": {},
   "outputs": [],
   "source": []
  }
 ],
 "metadata": {
  "kernelspec": {
   "display_name": "Python [conda env:base] *",
   "language": "python",
   "name": "conda-base-py"
  },
  "language_info": {
   "codemirror_mode": {
    "name": "ipython",
    "version": 3
   },
   "file_extension": ".py",
   "mimetype": "text/x-python",
   "name": "python",
   "nbconvert_exporter": "python",
   "pygments_lexer": "ipython3",
   "version": "3.12.7"
  }
 },
 "nbformat": 4,
 "nbformat_minor": 5
}
