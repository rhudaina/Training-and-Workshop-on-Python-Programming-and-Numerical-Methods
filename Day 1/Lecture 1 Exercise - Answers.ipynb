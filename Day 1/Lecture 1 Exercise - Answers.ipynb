{
 "cells": [
  {
   "cell_type": "markdown",
   "id": "856638ba-0da1-4380-aec6-bf5ad1350e11",
   "metadata": {},
   "source": [
    "<center><img src=\"poster.png\" width=\"800\"/></center>"
   ]
  },
  {
   "cell_type": "markdown",
   "id": "e8b37892-996a-4476-aef2-a72c724b0e54",
   "metadata": {},
   "source": [
    "# Lecture 1: Exercises"
   ]
  },
  {
   "cell_type": "markdown",
   "id": "f1cd4fd4-8f1a-4266-9715-e7877de4b1af",
   "metadata": {},
   "source": [
    "## Exercise 1"
   ]
  },
  {
   "cell_type": "markdown",
   "id": "ccf3592d-0832-4ed5-a8cb-1f2b0b75b6ce",
   "metadata": {},
   "source": [
    "Write a Pyhton program using NumPy to:\n",
    "1. Create a 7×7 array with 1 on the first and last rows and columns and 0 elsewhere.\n",
    "2. Create an 8 × 8 array with ones on a diagonal and zeros elsewhere.\n",
    "3. Create a 5 × 5 matrix with row values ranging from 0 to 4.\n",
    "4. Compute the multiplication of two random 10 × 10 matrices.\n",
    "5. Compute the determinant of a random 100 × 100 square array."
   ]
  },
  {
   "cell_type": "code",
   "execution_count": 20,
   "id": "8f4f3796-297c-45b6-ae28-10b3d3a4c95b",
   "metadata": {},
   "outputs": [],
   "source": [
    "import numpy as np"
   ]
  },
  {
   "cell_type": "code",
   "execution_count": 30,
   "id": "bf5e0085-a154-4459-9af5-fafc46bde5b6",
   "metadata": {},
   "outputs": [
    {
     "name": "stdout",
     "output_type": "stream",
     "text": [
      "[[1 1 1 1 1 1 1]\n",
      " [1 0 0 0 0 0 1]\n",
      " [1 0 0 0 0 0 1]\n",
      " [1 0 0 0 0 0 1]\n",
      " [1 0 0 0 0 0 1]\n",
      " [1 0 0 0 0 0 1]\n",
      " [1 1 1 1 1 1 1]]\n"
     ]
    }
   ],
   "source": [
    "A = np.array([[1, 1, 1, 1, 1, 1, 1],\n",
    "             [1, 0, 0, 0, 0, 0, 1],\n",
    "             [1, 0, 0, 0, 0, 0, 1],\n",
    "              [1, 0, 0, 0, 0, 0, 1],\n",
    "              [1, 0, 0, 0, 0, 0, 1],\n",
    "              [1, 0, 0, 0, 0, 0, 1],\n",
    "              [1, 1, 1, 1, 1, 1, 1]])\n",
    "print(A)"
   ]
  },
  {
   "cell_type": "code",
   "execution_count": 34,
   "id": "1191fc5c-9b83-4e97-9b49-d93d5d22bafb",
   "metadata": {},
   "outputs": [
    {
     "name": "stdout",
     "output_type": "stream",
     "text": [
      "[[1. 0. 0. 0. 0. 0. 0. 0.]\n",
      " [0. 1. 0. 0. 0. 0. 0. 0.]\n",
      " [0. 0. 1. 0. 0. 0. 0. 0.]\n",
      " [0. 0. 0. 1. 0. 0. 0. 0.]\n",
      " [0. 0. 0. 0. 1. 0. 0. 0.]\n",
      " [0. 0. 0. 0. 0. 1. 0. 0.]\n",
      " [0. 0. 0. 0. 0. 0. 1. 0.]\n",
      " [0. 0. 0. 0. 0. 0. 0. 1.]]\n"
     ]
    }
   ],
   "source": [
    "B = np.eye(8)\n",
    "print(B)"
   ]
  },
  {
   "cell_type": "code",
   "execution_count": 60,
   "id": "fdb0733f-590e-4109-b1d3-b3e8fba6aad1",
   "metadata": {},
   "outputs": [
    {
     "name": "stdout",
     "output_type": "stream",
     "text": [
      "[[3 4 3 0 2]\n",
      " [3 3 0 1 1]\n",
      " [2 2 1 3 4]\n",
      " [2 4 1 2 3]\n",
      " [1 0 1 4 2]]\n"
     ]
    }
   ],
   "source": [
    "C = np.random.randint(5, size = (5,5))\n",
    "print(C)"
   ]
  },
  {
   "cell_type": "code",
   "execution_count": 68,
   "id": "d2993dc2-7d12-4909-ba39-4cc519bc4ad8",
   "metadata": {},
   "outputs": [
    {
     "name": "stdout",
     "output_type": "stream",
     "text": [
      "[[1 5 5 9 8 1 7 6 1 1]\n",
      " [6 6 7 0 1 7 7 0 2 4]\n",
      " [7 3 3 4 0 0 5 4 1 8]\n",
      " [2 1 9 1 7 5 6 0 6 0]\n",
      " [7 6 5 1 0 3 9 4 2 0]\n",
      " [0 9 9 1 1 7 0 5 0 3]\n",
      " [1 6 1 1 4 6 3 8 7 8]\n",
      " [4 1 7 6 3 4 4 0 8 8]\n",
      " [6 5 5 5 7 3 6 2 4 2]\n",
      " [7 7 5 1 9 8 9 4 9 0]] [[6 9 7 3 2 6 9 4 8 0]\n",
      " [5 0 2 5 5 8 0 6 8 0]\n",
      " [0 8 8 6 7 6 0 5 9 6]\n",
      " [9 4 9 0 1 8 7 1 2 6]\n",
      " [0 9 1 7 9 8 7 0 1 0]\n",
      " [5 7 4 0 6 1 8 0 5 0]\n",
      " [8 6 9 7 7 7 5 9 0 4]\n",
      " [5 3 6 0 2 0 4 4 2 5]\n",
      " [7 6 1 7 2 0 2 4 7 2]\n",
      " [3 2 9 8 2 7 8 2 3 9]] [[ 6 45 35 27 16  6 63 24  8  0]\n",
      " [30  0 14  0  5 56  0  0 16  0]\n",
      " [ 0 24 24 24  0  0  0 20  9 48]\n",
      " [18  4 81  0  7 40 42  0 12  0]\n",
      " [ 0 54  5  7  0 24 63  0  2  0]\n",
      " [ 0 63 36  0  6  7  0  0  0  0]\n",
      " [ 8 36  9  7 28 42 15 72  0 32]\n",
      " [20  3 42  0  6  0 16  0 16 40]\n",
      " [42 30  5 35 14  0 12  8 28  4]\n",
      " [21 14 45  8 18 56 72  8 27  0]]\n"
     ]
    }
   ],
   "source": [
    "D = np.random.randint(10, size = (10,10))\n",
    "E = np.random.randint(10, size = (10,10))\n",
    "F = D*E\n",
    "print(D, E, F)"
   ]
  },
  {
   "cell_type": "code",
   "execution_count": 72,
   "id": "d7b385ed-17a1-4e27-8503-66b13c99f029",
   "metadata": {},
   "outputs": [
    {
     "name": "stdout",
     "output_type": "stream",
     "text": [
      "[[4 2 9 ... 1 6 4]\n",
      " [8 9 8 ... 3 6 0]\n",
      " [8 2 3 ... 4 1 5]\n",
      " ...\n",
      " [0 5 4 ... 4 1 0]\n",
      " [7 4 7 ... 3 9 7]\n",
      " [9 3 4 ... 7 4 8]] 1.624885815482087e+125\n"
     ]
    }
   ],
   "source": [
    "from numpy.linalg import det\n",
    "G = np.random.randint(10, size = (100,100))\n",
    "print(G,det(G))"
   ]
  },
  {
   "cell_type": "markdown",
   "id": "f266d518-a3a4-4d90-a87b-be0b53d4e49a",
   "metadata": {},
   "source": [
    "## Exercise 2"
   ]
  },
  {
   "cell_type": "markdown",
   "id": "b5090be7-32fc-4389-bf38-ececb904c39a",
   "metadata": {},
   "source": [
    "Write the commands for each of the following operations:\n",
    "1. Create a row vector $x$ of 5 equally spaced elements between 2 and 3.\n",
    "2. Add 1 to the second element\n",
    "3. Create a second row vector $y$ of the same dimension with elements equal to the successive even integers starting with 4.\n",
    "4. Create the matrix $A$, whose first row is equal to $x$, whose second row is a line of ones, and whose third row is equal to $y$.\n",
    "5. Define a row vector $z$, whose elements are equal to the mean value of the columns of $A$."
   ]
  },
  {
   "cell_type": "code",
   "execution_count": 90,
   "id": "60fc561e-df15-4176-ae71-4d5c87390c9a",
   "metadata": {},
   "outputs": [
    {
     "name": "stdout",
     "output_type": "stream",
     "text": [
      "[2.   2.25 2.5  2.75 3.  ]\n",
      "[3.   2.25 2.5  2.75 3.  ]\n",
      "[[3.   2.25 2.5  2.75 3.  ]\n",
      " [1.   1.   1.   1.   1.  ]\n",
      " [4.   5.   6.   7.   8.  ]]\n",
      "[2.66666667 2.75       3.16666667]\n"
     ]
    }
   ],
   "source": [
    "x = np.linspace(2,3,5)\n",
    "print(x)\n",
    "x[0] = x[0]+1\n",
    "print(x)\n",
    "y = [4, 5, 6, 7, 8]\n",
    "A = np.zeros((3,5))\n",
    "A[0,:] = x\n",
    "A[1,:] = 1\n",
    "A[2,:] = y\n",
    "print(A)\n",
    "z = np.array([np.mean(A[:,0]), np.mean(A[:,1]), np.mean(A[:,2])])\n",
    "print(z)"
   ]
  },
  {
   "cell_type": "markdown",
   "id": "d65287a2-dafd-4309-82a0-e6a9603f6ca9",
   "metadata": {},
   "source": [
    "## Exercise 3"
   ]
  },
  {
   "cell_type": "markdown",
   "id": "6d880da2-45a9-41db-a020-dcb5019d5865",
   "metadata": {},
   "source": [
    "Create two matrices A and B: $$A=\\left(\\begin{array}{cc}\n",
    "    1 & 2  \\\\\n",
    "    4 & -1  \\\\\n",
    "\\end{array}\\right) \\text{ and } B=\\left(\\begin{array}{cc}\n",
    "    4 & -2  \\\\\n",
    "    -6 & 3  \\\\\n",
    "\\end{array}\\right).$$\n",
    "\n",
    "1. Compute the matrices $C_1 = A + B$ and $C_2 = A − B$.\n",
    "2. Compute the matrix products $D_1 = A \\cdot B$ and $D_2 = B \\cdot A$ (element wise).\n",
    "3. Are A and B singular? If not, then compute their inverse."
   ]
  },
  {
   "cell_type": "code",
   "execution_count": 112,
   "id": "755b26ac-1cef-41da-ad0a-0214861183d1",
   "metadata": {},
   "outputs": [
    {
     "name": "stdout",
     "output_type": "stream",
     "text": [
      "[[ 1  2]\n",
      " [ 4 -1]] [[ 4 -2]\n",
      " [-6  3]]\n",
      "[[  4  -4]\n",
      " [-24  -3]]\n"
     ]
    }
   ],
   "source": [
    "A = np.array([[1,2], [4,-1]])\n",
    "B = np.array([[4,-2], [-6,3]])\n",
    "print(A,B)\n",
    "C1 = A+B\n",
    "C2 = A-B\n",
    "D_1 = A@B\n",
    "D_2 = B*A\n",
    "print(D_2)"
   ]
  },
  {
   "cell_type": "code",
   "execution_count": 114,
   "id": "7e87345d-75c8-43db-ae95-3beb35526a29",
   "metadata": {},
   "outputs": [
    {
     "name": "stdout",
     "output_type": "stream",
     "text": [
      "[[ 0.11111111  0.22222222]\n",
      " [ 0.44444444 -0.11111111]] [[-4.50359963e+15 -3.00239975e+15]\n",
      " [-9.00719925e+15 -6.00479950e+15]]\n"
     ]
    }
   ],
   "source": [
    "import numpy.linalg as npl\n",
    "Ainv = npl.inv(A)\n",
    "Binv = npl.inv(B)\n",
    "print(Ainv, Binv)"
   ]
  },
  {
   "cell_type": "code",
   "execution_count": null,
   "id": "3bf48078-8188-43ca-9fee-8b0dc4746c71",
   "metadata": {},
   "outputs": [],
   "source": []
  }
 ],
 "metadata": {
  "kernelspec": {
   "display_name": "Python [conda env:base] *",
   "language": "python",
   "name": "conda-base-py"
  },
  "language_info": {
   "codemirror_mode": {
    "name": "ipython",
    "version": 3
   },
   "file_extension": ".py",
   "mimetype": "text/x-python",
   "name": "python",
   "nbconvert_exporter": "python",
   "pygments_lexer": "ipython3",
   "version": "3.12.7"
  }
 },
 "nbformat": 4,
 "nbformat_minor": 5
}
