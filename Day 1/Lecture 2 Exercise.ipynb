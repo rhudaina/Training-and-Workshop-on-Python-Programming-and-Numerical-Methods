{
 "cells": [
  {
   "cell_type": "markdown",
   "id": "a50802b2-c26c-4b83-a9b4-f59c0e988fd4",
   "metadata": {},
   "source": [
    "<center><img src=\"poster.png\" width=\"800\"/></center>"
   ]
  },
  {
   "cell_type": "markdown",
   "id": "181fb39a-7924-4ba5-b620-2fca2b0983d4",
   "metadata": {},
   "source": [
    "# Lecture 2: Exercises"
   ]
  },
  {
   "cell_type": "markdown",
   "id": "947f5bfb-6ccd-441b-be80-18e37477cc65",
   "metadata": {},
   "source": [
    "## Exercise 1"
   ]
  },
  {
   "cell_type": "markdown",
   "id": "50bad828-3298-45bc-bd14-94892cb7b555",
   "metadata": {},
   "source": [
    "In one Python figure, plot the following functions in the interval [2.495, 2.505] using 500 evenly spaced points.\n",
    "1.  $f(x) = 32x^5-400x^4 + 2000x^3-5000x^2 + 6250x-3125$\n",
    "2.  $g(x) = −3125 + x(6250 + x(−5000 + x(2000 + x(−400 + x(32)))))$\n",
    "3.  $h(x) = (2x − 5)^5$"
   ]
  },
  {
   "cell_type": "markdown",
   "id": "86da2094-d321-438e-8419-594950bfebb4",
   "metadata": {},
   "source": [
    "## Exercise 2"
   ]
  },
  {
   "cell_type": "markdown",
   "id": "af38394d-49be-4a0f-aaf3-55530f63eaff",
   "metadata": {},
   "source": [
    "Consider the dataset biomass.txt. In the Taita Hills in Kenya, a citizen-science project was set up to assess the affect of forest degradation on ground-dwelling invertebrate biomass. Citizens were asked to place invertebrate traps at “random” locations in forests. After a few days, the traps were emptied by the citizens and the biomass of the captured invertebrates was quantified by a biologist. The outcome of interest is a standardized biomass variable (biomass). Forest degradation was assessed by the citizens, based on a visual survey, that scored multiple aspects of the forest (type of trees, signs of logging, littering, etc.) Based on this, a variable degradation was defined (0: pristine, 1: moderate degradation, 2: severe degradation). The variable days represents the number of days before the trap 1. was emptied."
   ]
  },
  {
   "cell_type": "markdown",
   "id": "8fea1308-fd28-4432-8c91-859b9a1322ff",
   "metadata": {},
   "source": [
    "1. Give summary statistics for the variables (e.g., mean, median, variance, sd, ...)\n",
    "2. Visualize the relationship between biomass and degradation and between biomass and days (e.g. plot them against each other)."
   ]
  },
  {
   "cell_type": "markdown",
   "id": "d661d49f-0416-4447-aa50-ac9378f0157c",
   "metadata": {},
   "source": [
    "### Exercise 3\n",
    "\n",
    "Replicate the following plot (exact):\n",
    "<center><img src=\"exercise3.png\" width=\"800\"/></center>\n",
    "where the upper green graph is $y=e^{-x^2}$ and the blue graph is $y=cos(40x)\\cdot e^{-x^2}$ and add labels, title, and legends."
   ]
  },
  {
   "cell_type": "code",
   "execution_count": null,
   "id": "69963735-73ae-4a63-9c72-5a0d2562416f",
   "metadata": {},
   "outputs": [],
   "source": []
  },
  {
   "cell_type": "code",
   "execution_count": null,
   "id": "25d16589-84ae-4e8f-b6ad-3dfee09b9a0b",
   "metadata": {},
   "outputs": [],
   "source": []
  },
  {
   "cell_type": "code",
   "execution_count": null,
   "id": "53ca64eb-f2a0-401f-a555-f400dc3cbdda",
   "metadata": {},
   "outputs": [],
   "source": []
  },
  {
   "cell_type": "code",
   "execution_count": null,
   "id": "7cdfd04a-83e9-4e0f-8454-8728d7e31a9c",
   "metadata": {},
   "outputs": [],
   "source": []
  },
  {
   "cell_type": "code",
   "execution_count": null,
   "id": "f9158f02-a28b-4ebe-ae1e-5ea080383660",
   "metadata": {},
   "outputs": [],
   "source": []
  }
 ],
 "metadata": {
  "kernelspec": {
   "display_name": "Python [conda env:base] *",
   "language": "python",
   "name": "conda-base-py"
  },
  "language_info": {
   "codemirror_mode": {
    "name": "ipython",
    "version": 3
   },
   "file_extension": ".py",
   "mimetype": "text/x-python",
   "name": "python",
   "nbconvert_exporter": "python",
   "pygments_lexer": "ipython3",
   "version": "3.12.7"
  }
 },
 "nbformat": 4,
 "nbformat_minor": 5
}
