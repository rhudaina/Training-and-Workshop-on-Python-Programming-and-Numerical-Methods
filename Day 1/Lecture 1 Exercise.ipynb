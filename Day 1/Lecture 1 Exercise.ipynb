{
 "cells": [
  {
   "cell_type": "markdown",
   "id": "6b74b478-036f-42fa-a89a-8b9d98e1e42f",
   "metadata": {},
   "source": [
    "<center><img src=\"poster.png\" width=\"800\"/></center>"
   ]
  },
  {
   "cell_type": "markdown",
   "id": "94993772-2b1d-4cc7-8657-b7c5dd7ea3e9",
   "metadata": {},
   "source": [
    "# Lecture 1: Exercises"
   ]
  },
  {
   "cell_type": "markdown",
   "id": "fba080af-915e-4292-bc1d-bd4ea8302fe0",
   "metadata": {},
   "source": [
    "## Exercise 1"
   ]
  },
  {
   "cell_type": "markdown",
   "id": "83db6aca-4088-4b47-9ee8-7803b0e248d5",
   "metadata": {},
   "source": [
    "Write a Pyhton program using NumPy to:\n",
    "1. Create a 7×7 array with 1 on the first and last rows and columns and 0 elsewhere.\n",
    "2. Create an 8 × 8 array with ones on a diagonal and zeros elsewhere.\n",
    "3. Create a 5 × 5 matrix with row values ranging from 0 to 4.\n",
    "4. Compute the multiplication of two random 10 × 10 matrices.\n",
    "5. Compute the determinant of a random 100 × 100 square array.\n",
    "6. Print a zero vector of size 10 but the fifth value which is 1\n",
    "7. Create vector `z` with values ranging from 10 to 49\n",
    "8. Print vector `z` in reverse order"
   ]
  },
  {
   "cell_type": "markdown",
   "id": "49c13f1b-cd2e-4dcd-ab69-dc729bc1a251",
   "metadata": {},
   "source": [
    "## Exercise 2"
   ]
  },
  {
   "cell_type": "markdown",
   "id": "f9edea7d-13d2-40bc-9e80-99c90473d3ec",
   "metadata": {},
   "source": [
    "Write the commands for each of the following operations:\n",
    "1. Create a row vector $x$ of 5 equally spaced elements between 2 and 3.\n",
    "2. Add 1 to the second element\n",
    "3. Create a second row vector $y$ of the same dimension with elements equal to the successive even integers starting with 4.\n",
    "4. Create the matrix $A$, whose first row is equal to $x$, whose second row is a line of ones, and whose third row is equal to $y$.\n",
    "5. Define a row vector $z$, whose elements are equal to the mean value of the columns of $A$.\n",
    "6. Create a 5x5 matrix with values 1,2,3,4 just below the diagonal.\n",
    "7. Print a 10x10 array with 1 on the border and 0 inside"
   ]
  },
  {
   "cell_type": "markdown",
   "id": "0293b72d-86c7-4d20-a868-af797249b310",
   "metadata": {},
   "source": [
    "## Exercise 3"
   ]
  },
  {
   "cell_type": "markdown",
   "id": "f9e5eafc-7efa-4234-99a1-fb91deb0b5da",
   "metadata": {},
   "source": [
    "Create two matrices A and B: $$A=\\left(\\begin{array}{cc}\n",
    "    1 & 2  \\\\\n",
    "    4 & -1  \\\\\n",
    "\\end{array}\\right) \\text{ and } B=\\left(\\begin{array}{cc}\n",
    "    4 & -2  \\\\\n",
    "    -6 & 3  \\\\\n",
    "\\end{array}\\right).$$\n",
    "\n",
    "1. Compute the matrices $C_1 = A + B$ and $C_2 = A − B$.\n",
    "2. Compute the matrix products $D_1 = A \\cdot B$ and $D_2 = B \\cdot A$ (element wise).\n",
    "3. Are A and B singular? If not, then compute their inverse."
   ]
  },
  {
   "cell_type": "code",
   "execution_count": null,
   "id": "40bb8e45-2317-4d6b-adee-653e1dd19c10",
   "metadata": {},
   "outputs": [],
   "source": []
  },
  {
   "cell_type": "code",
   "execution_count": null,
   "id": "866ec181-3955-40f5-a08c-3a0302cc0b57",
   "metadata": {},
   "outputs": [],
   "source": []
  }
 ],
 "metadata": {
  "kernelspec": {
   "display_name": "Python [conda env:base] *",
   "language": "python",
   "name": "conda-base-py"
  },
  "language_info": {
   "codemirror_mode": {
    "name": "ipython",
    "version": 3
   },
   "file_extension": ".py",
   "mimetype": "text/x-python",
   "name": "python",
   "nbconvert_exporter": "python",
   "pygments_lexer": "ipython3",
   "version": "3.12.7"
  }
 },
 "nbformat": 4,
 "nbformat_minor": 5
}
