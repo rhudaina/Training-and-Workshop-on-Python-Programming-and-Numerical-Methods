{
 "cells": [
  {
   "cell_type": "markdown",
   "id": "515b3544-a270-4f68-9300-22c86d9c431b",
   "metadata": {},
   "source": [
    "# Hands-on Activity"
   ]
  },
  {
   "cell_type": "markdown",
   "id": "c686d28f-79a9-48bb-8aa6-a33ed7714162",
   "metadata": {},
   "source": [
    "1. Use Euler, RK4, and implicit Euler's method, with $h = 0.1$, to solve the IVP\n",
    "$$ \\dfrac{dy}{dt} = ty + t^3, \\quad 0 \\leq t \\leq 1, \\quad y(0) = 1. $$"
   ]
  },
  {
   "cell_type": "code",
   "execution_count": null,
   "id": "09f67bdd-817f-46c5-997a-cbd6a16ca0bc",
   "metadata": {},
   "outputs": [],
   "source": []
  },
  {
   "cell_type": "markdown",
   "id": "18d1de40-fd0d-4313-861b-9d4d3e105a5a",
   "metadata": {},
   "source": [
    "2. Write a code for solving system of IVPs using RK4. Test your code by solving the example:\n",
    "\n",
    "\n",
    "Convert $y'' - ty = 0$ to an equivalent system of IVP and solve it on the interval  $[0,1]$ using Euler's method with $h = 0.25$ and initial conditions $y(0) = y'(0) = 1$."
   ]
  },
  {
   "cell_type": "code",
   "execution_count": null,
   "id": "d94ef836-b311-4e59-a6c7-e831fff8c924",
   "metadata": {},
   "outputs": [],
   "source": []
  },
  {
   "cell_type": "markdown",
   "id": "f691bcfe-c4c6-4c19-b037-4e46cc29b121",
   "metadata": {},
   "source": [
    "3. Solve the two-point BVP using the finite difference method with $h = 0.2$\n",
    "$$ y'' = 4y, \\ 0 \\leq t \\leq 1, $$\n",
    "with boundary conditions\n",
    "$$ y(0) = 1, \\qquad y(1) = 3. $$"
   ]
  },
  {
   "cell_type": "code",
   "execution_count": null,
   "id": "b3474ce7-8617-454c-abbc-bcfdedb517f2",
   "metadata": {},
   "outputs": [],
   "source": []
  },
  {
   "cell_type": "markdown",
   "id": "6878b96a-ad0e-459d-9937-4145bfb846dd",
   "metadata": {},
   "source": [
    "4. Consider the BVP\n",
    "$$\n",
    "\\left \\{\n",
    "\\begin{aligned}\n",
    "\\dfrac{\\partial ^2 u}{\\partial x^2} + \\dfrac{\\partial ^2 u}{\\partial y^2} & = -2\\pi^2 \\sin(\\pi x) \\sin(\\pi y), \\quad 0<x<1, \\quad 0<y<1 \\quad \\\\\n",
    "u(x,y) & = 0 \\quad \\text{if } x = 0,1 \\text{ or } y = 0,1\n",
    "\\end{aligned}\n",
    "\\right .\n",
    "$$\n",
    "where $u$ is some time-independent function. Divide the $x$-interval [0,1] and $y$-interval [0,1] both into $n$ equal parts."
   ]
  },
  {
   "cell_type": "code",
   "execution_count": null,
   "id": "4e87d87c-d21e-4877-82d8-92e1b75d5bb6",
   "metadata": {},
   "outputs": [],
   "source": []
  },
  {
   "cell_type": "markdown",
   "id": "931a8fc2-8289-4d85-88b2-2073aa89ab04",
   "metadata": {},
   "source": [
    "5. Apply the bisection and Newton's Method to find the minimum of \n",
    "\t$$f(x)=x^6 + 3x^4 - 12x^3 + x^2 - x -7.$$"
   ]
  },
  {
   "cell_type": "code",
   "execution_count": null,
   "id": "ec528a86-a5cf-4994-be91-b0115e0142ea",
   "metadata": {},
   "outputs": [],
   "source": []
  }
 ],
 "metadata": {
  "kernelspec": {
   "display_name": "Python [conda env:base] *",
   "language": "python",
   "name": "conda-base-py"
  },
  "language_info": {
   "codemirror_mode": {
    "name": "ipython",
    "version": 3
   },
   "file_extension": ".py",
   "mimetype": "text/x-python",
   "name": "python",
   "nbconvert_exporter": "python",
   "pygments_lexer": "ipython3",
   "version": "3.12.7"
  }
 },
 "nbformat": 4,
 "nbformat_minor": 5
}
