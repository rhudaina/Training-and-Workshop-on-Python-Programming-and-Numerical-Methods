{
 "cells": [
  {
   "cell_type": "markdown",
   "id": "5413cdbe-ce2d-4cd8-bd1a-1d03c2dd6c49",
   "metadata": {},
   "source": [
    "# Univariate Optimization "
   ]
  },
  {
   "cell_type": "markdown",
   "id": "5077fbfa-f234-4f75-b9df-737f827caacc",
   "metadata": {},
   "source": [
    "The problem $\\max \\text{ or } \\min\\ f(x) $ over all possible values of $x$ is transformed to a root-finding problem: find $x$ such that\n",
    "$$ f'(x) = 0. $$\n",
    "\n",
    "Now we use methods of solving nonlinear equations to solve the problem."
   ]
  },
  {
   "cell_type": "markdown",
   "id": "faec458d-722a-420a-8c5b-86f9755d9020",
   "metadata": {},
   "source": [
    "## Newton's Method for solving $f'(x) = 0$"
   ]
  },
  {
   "cell_type": "markdown",
   "id": "84cd563a-daef-4ed7-9381-865c9b13c130",
   "metadata": {},
   "source": [
    "$$ x_{n+1} = x_n - \\dfrac{f'(x_n)}{f''(x_n)}. $$"
   ]
  },
  {
   "cell_type": "markdown",
   "id": "37050430-c8b5-4274-8f86-ff0f1798a36e",
   "metadata": {},
   "source": [
    "Example: Apply Newton's method to minimize (with tol$=1e-5$)\n",
    "    $$ f(x)=-12x+3x^4+2x^6.$$"
   ]
  },
  {
   "cell_type": "markdown",
   "id": "c6c95dce-bb5a-4efd-8b11-84eb69b4a505",
   "metadata": {},
   "source": [
    "This problem is equivalent to \n",
    "$$ f'(x) = -12 + 12x^3 + 12x^5 = 0.$$"
   ]
  },
  {
   "cell_type": "code",
   "execution_count": 91,
   "id": "328577ac-b7e1-45ab-b7e6-598c20cffc29",
   "metadata": {},
   "outputs": [],
   "source": [
    "import numpy as np\n",
    "\n",
    "def newtons_method(g,gp,x0,tol,max_iter):\n",
    "    x = x0\n",
    "    res = abs(g(x))\n",
    "    i = 0\n",
    "    while res > tol:\n",
    "        gx = g(x)\n",
    "        gpx = gp(x)\n",
    "\n",
    "        # Check for division by zero or very small derivative\n",
    "        if abs(gpx) < 1e-10:\n",
    "            print(\"Warning: Derivative is close to zero. Method may not converge.\")\n",
    "            return None \n",
    "            \n",
    "        # Newton update\n",
    "        x_iter = x - (gx / gpx)\n",
    "        res = abs(g(x_iter))\n",
    "        i += 1\n",
    "\n",
    "        if i > max_iter:\n",
    "            print(\"Method failed after \" + str(i)  + \" iterations.\")\n",
    "            return None\n",
    "            \n",
    "        x = x_iter\n",
    "    \n",
    "    return x, i"
   ]
  },
  {
   "cell_type": "code",
   "execution_count": 93,
   "id": "d2e9e4fc-7482-4b40-ae47-a0fac8b6d552",
   "metadata": {},
   "outputs": [
    {
     "name": "stdout",
     "output_type": "stream",
     "text": [
      "Approximate optimal solution: 0.8376197750843168\n",
      "residual: 1.4101230405572096e-08\n",
      "Iterations: 26\n"
     ]
    }
   ],
   "source": [
    "# Example\n",
    "def g(x):\n",
    "    return -12 + 12*(x**3) + 12*(x**5)\n",
    "\n",
    "def gp(x):\n",
    "    return 36*(x**2) + 60*(x**4)\n",
    "\n",
    "xopt, i = newtons_method(g,gp,x0=-1.0,tol=1e-6,max_iter=100)\n",
    "\n",
    "print(f\"Approximate optimal solution: {xopt}\")\n",
    "print(f\"residual: {g(xopt)}\")\n",
    "print(f\"Iterations: {i}\")"
   ]
  },
  {
   "cell_type": "markdown",
   "id": "3c5b2990-de85-4dcb-8830-ae4534fdb019",
   "metadata": {},
   "source": [
    "## Bisection Method for solving $f'(x) = 0$"
   ]
  },
  {
   "cell_type": "markdown",
   "id": "69043b3a-19ff-4718-bb28-a91cf2484639",
   "metadata": {},
   "source": [
    "Example: Apply bisection method to minimize (with tol$=1e-5$)\n",
    "    $$ f(x)=-12x+3x^4+2x^6.$$"
   ]
  },
  {
   "cell_type": "markdown",
   "id": "a6430600-bf9a-4c25-8163-8cd3a50f9c6d",
   "metadata": {},
   "source": [
    "This problem is equivalent to \n",
    "$$ f'(x) = -12 + 12x^3 + 12x^5 = 0.$$"
   ]
  },
  {
   "cell_type": "code",
   "execution_count": 98,
   "id": "b76223f0-8acf-4b54-8016-b932b8943493",
   "metadata": {},
   "outputs": [],
   "source": [
    "def bisection(g,a,b,tol,max_iter):\n",
    "  if g(a) * g(b) >= 0:\n",
    "    print(\"The function must have opposite signs at the endpoints of the interval.\")\n",
    "    return None \n",
    "\n",
    "  i = 0\n",
    "  while (b - a) / 2 > tol:\n",
    "    c = (a + b) / 2\n",
    "    if g(c) == 0:\n",
    "      return c, i\n",
    "    elif g(c) * g(a) < 0:\n",
    "      b = c\n",
    "    else:\n",
    "      a = c\n",
    "    i += 1\n",
    "    if i > max_iter:\n",
    "        print(\"Method failed after \" + str(i)  + \" iterations.\")\n",
    "\n",
    "  x = (a + b) / 2\n",
    "  return x, i"
   ]
  },
  {
   "cell_type": "code",
   "execution_count": 100,
   "id": "ebc4f43f-52be-49de-9410-b470726ad1f7",
   "metadata": {},
   "outputs": [
    {
     "name": "stdout",
     "output_type": "stream",
     "text": [
      "Approximate optimal solution: 0.8376235961914062\n",
      "residual: 0.00020938542101411883\n",
      "Iterations: 16\n"
     ]
    }
   ],
   "source": [
    "# Example\n",
    "def g(x):\n",
    "    return -12 + 12*(x**3) + 12*(x**5)\n",
    "\n",
    "xopt, i = bisection(g,a=0,b=1,tol=1e-5,max_iter=100)\n",
    "\n",
    "print(f\"Approximate optimal solution: {xopt}\")\n",
    "print(f\"residual: {g(xopt)}\")\n",
    "print(f\"Iterations: {i}\")"
   ]
  },
  {
   "cell_type": "markdown",
   "id": "fd4551e0-1bb0-46b4-b406-08bc2914ac47",
   "metadata": {},
   "source": [
    "# Multivariate Optimization "
   ]
  },
  {
   "cell_type": "markdown",
   "id": "9c46790c-0acf-4d78-81ed-1f5793c39e9e",
   "metadata": {},
   "source": [
    "To optimize $f(\\mathbf{x})$, we have to solve for $\\mathbf{x}$ such that\n",
    "$$ \\nabla f(\\mathbf{x}) = 0. $$"
   ]
  },
  {
   "cell_type": "markdown",
   "id": "1ed4e8b4-4a9c-4240-82da-5efa92ccd07e",
   "metadata": {},
   "source": [
    "## Steepest descent method"
   ]
  },
  {
   "cell_type": "markdown",
   "id": "79dd5e1c-4f2d-4fe5-b92e-f2a94a7a33a9",
   "metadata": {},
   "source": [
    "$$ \\mathbf{x}'=\\mathbf{x}'+t^*\\nabla f(\\mathbf{x}'). $$\n",
    "\n",
    "Use $\\nabla f(\\mathbf{x}')$ for maximization problems, while $-\\nabla f(x)$ for minimization."
   ]
  },
  {
   "cell_type": "markdown",
   "id": "1c0f89ed-91cc-42c4-8879-efe6c38dd514",
   "metadata": {},
   "source": [
    "NOTE. We usually use a search procedure for one-variable unconstrained optimization to find $t=t^*$ that maximizes/minimizes $f(\\mathbf{x}'+t\\nabla f(\\mathbf{x}'))$ over $t\\geq 0$.\n",
    "\n",
    "In this workshop, we assume a constant $t^*$."
   ]
  },
  {
   "cell_type": "markdown",
   "id": "7a80b86e-1a75-45c2-ae95-8966a819394e",
   "metadata": {},
   "source": [
    "Example: Use the steepest descent method to find the optimal solution of \n",
    "\t$$ \\min f(\\mathbf{x})= 2x_1x_2+2x_2-x_1^2-2x_2^2. $$"
   ]
  },
  {
   "cell_type": "code",
   "execution_count": 124,
   "id": "81355b33-a73c-4a1c-adbc-f521478cf5f8",
   "metadata": {},
   "outputs": [],
   "source": [
    "import numpy as np\n",
    "\n",
    "def steepest_descent(f,grad_f,x0,stepsize=0.01,tol=1e-6,max_iter=1000):\n",
    "    x = x0\n",
    "    i = 0\n",
    "    relchangex = np.linalg.norm(x)\n",
    "\n",
    "    while relchangex > tol:\n",
    "        gradient = grad_f(x)\n",
    "        x_new = x - stepsize*gradient\n",
    "        relchangex = np.linalg.norm(x-x_new)/np.linalg.norm(x)\n",
    "        i += 1\n",
    "        if i > max_iter:\n",
    "            break\n",
    "        x = x_new\n",
    "\n",
    "    return x, i, relchangex\n"
   ]
  },
  {
   "cell_type": "code",
   "execution_count": 148,
   "id": "592b6875-086d-4545-87b5-ef0dfcc17516",
   "metadata": {},
   "outputs": [
    {
     "name": "stdout",
     "output_type": "stream",
     "text": [
      "Approximate minimum: [0.99972647 0.99983095]\n",
      "residual: 0.00024564707973828443\n",
      "relative change in iterates: 1.7373716228217525e-06\n",
      "Number of iterations: 1001\n"
     ]
    }
   ],
   "source": [
    "def f(x):\n",
    "    return -(2*x[0]*x[1] + 2*x[1] - x[0]**2 - 2*(x[1]**2))\n",
    "\n",
    "def grad_f(x):\n",
    "    return -(np.array([2*x[1] - 2*x[0], 2*x[0] + 2 - 4*x[1]]))\n",
    "\n",
    "x0 = [0.5, 0.5]  # Initial guess\n",
    "xopt, i, relchangex = steepest_descent(f, grad_f, x0)\n",
    "\n",
    "print(\"Approximate minimum:\", xopt)\n",
    "print(\"residual:\", np.linalg.norm(grad_f(xopt)))\n",
    "print(\"relative change in iterates:\", relchangex)\n",
    "print(\"Number of iterations:\", i)"
   ]
  },
  {
   "cell_type": "markdown",
   "id": "737e3ae2-c294-4c3c-ab9b-cc6d64655ab2",
   "metadata": {},
   "source": [
    "## Newton's Method"
   ]
  },
  {
   "cell_type": "markdown",
   "id": "9f71c5ab-c18d-4012-91e4-615e8eca3efc",
   "metadata": {},
   "source": [
    "[1] Start with an initial guess $\\mathbf{x}^0$.\n",
    "\n",
    "[2] Solve the equation for $s$ (Newton step)\n",
    "$$ J_f s = -\\nabla f(\\mathbf{x}).$$\n",
    "\n",
    "\n",
    "[3] Update:\n",
    "$$\\mathbf{x}'=\\mathbf{x} + s $$"
   ]
  },
  {
   "cell_type": "markdown",
   "id": "1b342bba-199f-4a06-9b30-1b3f4854f64f",
   "metadata": {},
   "source": [
    "# Hands-on Activity"
   ]
  },
  {
   "cell_type": "markdown",
   "id": "5b21c3e6-f805-4836-a9dd-db1aca5afec0",
   "metadata": {},
   "source": [
    "1) Apply the bisection and Newton's Method to find the minimum of \n",
    "\t$$f(x)=x^6 + 3x^4 - 12x^3 + x^2 - x -7.$$"
   ]
  },
  {
   "cell_type": "code",
   "execution_count": null,
   "id": "75a533c5-e853-49d9-bdb5-03ad274cd3dc",
   "metadata": {},
   "outputs": [],
   "source": []
  },
  {
   "cell_type": "markdown",
   "id": "7114bc00-ea3a-4191-bf3d-666f42cbbf0b",
   "metadata": {},
   "source": [
    "2. Write a code for solving optimization problems using Newton's method. Test your code using the previous example\n",
    "$$ \\min f(x_1,x_2)= -2x_1x_2-2x_2+x_1^2+2x_2^2. $$"
   ]
  },
  {
   "cell_type": "code",
   "execution_count": null,
   "id": "610c7be9-45dc-44f3-a0a7-fdb41ac6a4ec",
   "metadata": {},
   "outputs": [],
   "source": []
  },
  {
   "cell_type": "markdown",
   "id": "33b29c75-61a2-4bec-a2e3-940c92783381",
   "metadata": {},
   "source": [
    "3. Apply steepest descent and Newton's Method to find the minimum of \n",
    "\t$$ f(x_1,x_2)=1+2x_1+x_1^2-4x_2+2x_2^2. $$"
   ]
  },
  {
   "cell_type": "code",
   "execution_count": null,
   "id": "9fa55368-b4a2-4c6c-8c42-1ee3118a5a4c",
   "metadata": {},
   "outputs": [],
   "source": []
  }
 ],
 "metadata": {
  "kernelspec": {
   "display_name": "Python [conda env:base] *",
   "language": "python",
   "name": "conda-base-py"
  },
  "language_info": {
   "codemirror_mode": {
    "name": "ipython",
    "version": 3
   },
   "file_extension": ".py",
   "mimetype": "text/x-python",
   "name": "python",
   "nbconvert_exporter": "python",
   "pygments_lexer": "ipython3",
   "version": "3.12.7"
  }
 },
 "nbformat": 4,
 "nbformat_minor": 5
}
