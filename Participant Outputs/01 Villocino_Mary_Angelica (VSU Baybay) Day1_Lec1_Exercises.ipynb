{
  "cells": [
    {
      "cell_type": "markdown",
      "id": "94993772-2b1d-4cc7-8657-b7c5dd7ea3e9",
      "metadata": {
        "id": "94993772-2b1d-4cc7-8657-b7c5dd7ea3e9"
      },
      "source": [
        "# Lecture 1: Exercises"
      ]
    },
    {
      "cell_type": "markdown",
      "id": "fba080af-915e-4292-bc1d-bd4ea8302fe0",
      "metadata": {
        "id": "fba080af-915e-4292-bc1d-bd4ea8302fe0"
      },
      "source": [
        "## Exercise 1"
      ]
    },
    {
      "cell_type": "markdown",
      "id": "83db6aca-4088-4b47-9ee8-7803b0e248d5",
      "metadata": {
        "id": "83db6aca-4088-4b47-9ee8-7803b0e248d5"
      },
      "source": [
        "Write a Pyhton program using NumPy to:\n",
        "1. Create a 7×7 array with 1 on the first and last rows and columns and 0 elsewhere.\n",
        "2. Create an 8 × 8 array with ones on a diagonal and zeros elsewhere.\n",
        "3. Create a 5 × 5 matrix with row values ranging from 0 to 4.\n",
        "4. Compute the multiplication of two random 10 × 10 matrices.\n",
        "5. Compute the determinant of a random 100 × 100 square array.\n",
        "6. Print a zero vector of size 10 but the fifth value which is 1\n",
        "7. Create vector `z` with values ranging from 10 to 49\n",
        "8. Print vector `z` in reverse order"
      ]
    },
    {
      "cell_type": "code",
      "execution_count": null,
      "id": "33eb7f04-8d40-48be-8eaa-a9e576de9b81",
      "metadata": {
        "id": "33eb7f04-8d40-48be-8eaa-a9e576de9b81"
      },
      "outputs": [],
      "source": [
        "import numpy as np"
      ]
    },
    {
      "cell_type": "code",
      "execution_count": null,
      "id": "607c4577-ba9a-44db-b5d0-a7a1ba316a79",
      "metadata": {
        "id": "607c4577-ba9a-44db-b5d0-a7a1ba316a79",
        "outputId": "9198a05e-45e0-440c-b75e-1c13cb33cba4"
      },
      "outputs": [
        {
          "name": "stdout",
          "output_type": "stream",
          "text": [
            "[[1. 1. 1. 1. 1. 1. 1.]\n",
            " [1. 0. 0. 0. 0. 0. 1.]\n",
            " [1. 0. 0. 0. 0. 0. 1.]\n",
            " [1. 0. 0. 0. 0. 0. 1.]\n",
            " [1. 0. 0. 0. 0. 0. 1.]\n",
            " [1. 0. 0. 0. 0. 0. 1.]\n",
            " [1. 1. 1. 1. 1. 1. 1.]]\n"
          ]
        }
      ],
      "source": [
        "A = np.zeros((7,7))\n",
        "# print(A)\n",
        "A[0,0] = A[0,0]+1\n",
        "A[0,1] = A[0,1]+1\n",
        "A[0,2] = A[0,2]+1\n",
        "A[0,3] = A[0,3]+1\n",
        "A[0,4] = A[0,4]+1\n",
        "A[0,5] = A[0,5]+1\n",
        "A[0,6] = A[0,6]+1\n",
        "\n",
        "A[1,0] = A[1,0]+1\n",
        "A[2,0] = A[2,0]+1\n",
        "A[3,0] = A[3,0]+1\n",
        "A[4,0] = A[4,0]+1\n",
        "A[5,0] = A[5,0]+1\n",
        "A[6,0] = A[6,0]+1\n",
        "\n",
        "A[6,1] = A[6,1]+1\n",
        "A[6,2] = A[6,2]+1\n",
        "A[6,3] = A[6,3]+1\n",
        "A[6,4] = A[6,4]+1\n",
        "A[6,5] = A[6,5]+1\n",
        "A[6,6] = A[6,6]+1\n",
        "\n",
        "A[1,6] = A[1,6]+1\n",
        "A[2,6] = A[2,6]+1\n",
        "A[3,6] = A[3,6]+1\n",
        "A[4,6] = A[4,6]+1\n",
        "A[5,6] = A[5,6]+1\n",
        "\n",
        "\n",
        "print(A)"
      ]
    },
    {
      "cell_type": "code",
      "execution_count": null,
      "id": "55d94231-b4e9-49bc-ad4d-776dc81f5e91",
      "metadata": {
        "id": "55d94231-b4e9-49bc-ad4d-776dc81f5e91",
        "outputId": "aac2e198-a9b0-46cc-ba0f-317181671f36"
      },
      "outputs": [
        {
          "name": "stdout",
          "output_type": "stream",
          "text": [
            "[[1. 1. 1. 1. 1. 1. 1.]\n",
            " [1. 0. 0. 0. 0. 0. 1.]\n",
            " [1. 0. 0. 0. 0. 0. 1.]\n",
            " [1. 0. 0. 0. 0. 0. 1.]\n",
            " [1. 0. 0. 0. 0. 0. 1.]\n",
            " [1. 0. 0. 0. 0. 0. 1.]\n",
            " [1. 1. 1. 1. 1. 1. 1.]]\n"
          ]
        }
      ],
      "source": [
        "A = np.zeros((7,7))\n",
        "A[0,:] = 1\n",
        "A[6,:]=1\n",
        "A[:,0] = 1\n",
        "A[:,6]=1\n",
        "print(A)"
      ]
    },
    {
      "cell_type": "code",
      "execution_count": null,
      "id": "8cd1c46c-e51a-432a-95d0-fcd13c435533",
      "metadata": {
        "id": "8cd1c46c-e51a-432a-95d0-fcd13c435533",
        "outputId": "eda16513-1fdf-41af-e873-f76fc4082238"
      },
      "outputs": [
        {
          "name": "stdout",
          "output_type": "stream",
          "text": [
            "[[1. 0. 0. 0. 0. 0. 0. 0.]\n",
            " [0. 1. 0. 0. 0. 0. 0. 0.]\n",
            " [0. 0. 1. 0. 0. 0. 0. 0.]\n",
            " [0. 0. 0. 1. 0. 0. 0. 0.]\n",
            " [0. 0. 0. 0. 1. 0. 0. 0.]\n",
            " [0. 0. 0. 0. 0. 1. 0. 0.]\n",
            " [0. 0. 0. 0. 0. 0. 1. 0.]\n",
            " [0. 0. 0. 0. 0. 0. 0. 1.]]\n"
          ]
        }
      ],
      "source": [
        "B= np.eye(8)\n",
        "print(B)"
      ]
    },
    {
      "cell_type": "code",
      "execution_count": null,
      "id": "dce96cfb-c79b-46fd-bcc3-dccedb94271d",
      "metadata": {
        "id": "dce96cfb-c79b-46fd-bcc3-dccedb94271d",
        "outputId": "6d2c270c-51b1-442b-de9b-23b274c29af2"
      },
      "outputs": [
        {
          "data": {
            "text/plain": [
              "array([[3, 2, 1, 0, 3],\n",
              "       [2, 2, 3, 2, 1],\n",
              "       [3, 1, 3, 1, 0],\n",
              "       [0, 0, 2, 1, 3],\n",
              "       [2, 0, 0, 2, 1]])"
            ]
          },
          "execution_count": 137,
          "metadata": {},
          "output_type": "execute_result"
        }
      ],
      "source": [
        "np.random.randint(0,4, size=(5,5))"
      ]
    },
    {
      "cell_type": "code",
      "execution_count": null,
      "id": "05d1fe1f-59a4-4381-b559-d5e1eb2a204a",
      "metadata": {
        "id": "05d1fe1f-59a4-4381-b559-d5e1eb2a204a",
        "outputId": "bf7de27a-703f-411f-8f14-c7988408f583"
      },
      "outputs": [
        {
          "name": "stdout",
          "output_type": "stream",
          "text": [
            "[[ 6  6 10  7  2  3  6  6  0  0]\n",
            " [ 2  9  6  6  9  9  2  2  5  6]\n",
            " [ 4  6  3  1  0  5  6  9  9  5]\n",
            " [ 0  5 10  3  3  4 10  0  1  9]\n",
            " [ 1  0  4  0  5  4  7  9  8  3]\n",
            " [ 8  4  0  4  9  9  0  7  2 10]\n",
            " [10  8  6  7  8 10  2  4 10  8]\n",
            " [ 4  9  1  9  0 10 10 10  3  8]\n",
            " [ 1  4  5  2  2  9  6  3  8  8]\n",
            " [ 6  0  9 10  5 10  0  7  4  2]]\n",
            "[[ 4  5  5  7  3  6 10  7  1  6]\n",
            " [ 1  9  4  8  4  8  2  9  9  9]\n",
            " [ 4  6  4  5  4  0  5  5 10  4]\n",
            " [ 1  8  2  6  0  5  8 10  1  7]\n",
            " [10  0  3  1  8  7  2  3  7  6]\n",
            " [ 4  7  5  4  2  4  2  9  7  0]\n",
            " [ 5  9  3  4  2  7  6  7  2  3]\n",
            " [ 4  4  6  8  3  2  4  7  7  1]\n",
            " [ 6  6  8 10  2  7  2  6  5  8]\n",
            " [ 9  0  0  0  1  9  7 10  6  9]]\n",
            "[[24 30 50 49  6 18 60 42  0  0]\n",
            " [ 2 81 24 48 36 72  4 18 45 54]\n",
            " [16 36 12  5  0  0 30 45 90 20]\n",
            " [ 0 40 20 18  0 20 80  0  1 63]\n",
            " [10  0 12  0 40 28 14 27 56 18]\n",
            " [32 28  0 16 18 36  0 63 14  0]\n",
            " [50 72 18 28 16 70 12 28 20 24]\n",
            " [16 36  6 72  0 20 40 70 21  8]\n",
            " [ 6 24 40 20  4 63 12 18 40 64]\n",
            " [54  0  0  0  5 90  0 70 24 18]]\n"
          ]
        }
      ],
      "source": [
        "A = np.random.randint(11, size=(10,10))\n",
        "B = np.random.randint(11, size=(10,10))\n",
        "C = A*B\n",
        "print(A)\n",
        "print(B)\n",
        "print(C)"
      ]
    },
    {
      "cell_type": "code",
      "execution_count": null,
      "id": "1ad11c94-c162-47ff-bc44-16e6cfe1ce38",
      "metadata": {
        "id": "1ad11c94-c162-47ff-bc44-16e6cfe1ce38",
        "outputId": "db4cd0ef-185c-4bfe-ff2b-2b809dcec379"
      },
      "outputs": [
        {
          "name": "stdout",
          "output_type": "stream",
          "text": [
            "[[32 29 31 ...  7  1 42]\n",
            " [25  4 19 ...  3 17 49]\n",
            " [19 40 11 ... 11 39 17]\n",
            " ...\n",
            " [23 48 35 ... 26 26 21]\n",
            " [38 39 28 ...  3 19 31]\n",
            " [37 43 27 ...  4 41  1]]\n",
            "-3.465100425972734e+194\n"
          ]
        }
      ],
      "source": [
        "A = np.random.randint(50, size=(100,100))\n",
        "B = np.linalg.det(A)\n",
        "print(A)\n",
        "print(B)"
      ]
    },
    {
      "cell_type": "code",
      "execution_count": null,
      "id": "8575d90c-75c8-4f57-bf7c-1aa2497dcfea",
      "metadata": {
        "id": "8575d90c-75c8-4f57-bf7c-1aa2497dcfea",
        "outputId": "25dd8978-aa6a-430d-9ae5-c6b90c4ddc2e"
      },
      "outputs": [
        {
          "name": "stdout",
          "output_type": "stream",
          "text": [
            "[0. 0. 0. 0. 1. 0. 0. 0. 0. 0.]\n"
          ]
        }
      ],
      "source": [
        "C = np.zeros(10)\n",
        "C[4] =1\n",
        "print(C)\n",
        "\n"
      ]
    },
    {
      "cell_type": "code",
      "execution_count": null,
      "id": "7f099bc4-d81a-47ac-bad8-ef5015057f3d",
      "metadata": {
        "id": "7f099bc4-d81a-47ac-bad8-ef5015057f3d",
        "outputId": "47586833-02d9-4e47-894e-3070f7697c51"
      },
      "outputs": [
        {
          "name": "stdout",
          "output_type": "stream",
          "text": [
            "[28 41 19 31 20]\n",
            "[20 31 19 41 28]\n"
          ]
        }
      ],
      "source": [
        "Z = np.random.randint(low=10, high=49, size = 5)\n",
        "X = np.flip(Z)\n",
        "print(Z)\n",
        "print(X)"
      ]
    },
    {
      "cell_type": "code",
      "execution_count": null,
      "id": "3587fa41-05d7-4762-aec8-07ab8da224be",
      "metadata": {
        "id": "3587fa41-05d7-4762-aec8-07ab8da224be",
        "outputId": "498de1b3-f653-4b2f-c695-bac9d060fe65"
      },
      "outputs": [
        {
          "name": "stdout",
          "output_type": "stream",
          "text": [
            "[11 15 46 25 37]\n",
            "[37 25 46 15 11]\n"
          ]
        }
      ],
      "source": [
        "Z = np.random.randint(low=10, high=49, size = 5)\n",
        "X = Z[::-1]\n",
        "print(Z)\n",
        "print(X)"
      ]
    },
    {
      "cell_type": "markdown",
      "id": "49c13f1b-cd2e-4dcd-ab69-dc729bc1a251",
      "metadata": {
        "id": "49c13f1b-cd2e-4dcd-ab69-dc729bc1a251"
      },
      "source": [
        "## Exercise 2"
      ]
    },
    {
      "cell_type": "markdown",
      "id": "f9edea7d-13d2-40bc-9e80-99c90473d3ec",
      "metadata": {
        "id": "f9edea7d-13d2-40bc-9e80-99c90473d3ec"
      },
      "source": [
        "Write the commands for each of the following operations:\n",
        "1. Create a row vector $x$ of 5 equally spaced elements between 2 and 3.\n",
        "2. Add 1 to the second element\n",
        "3. Create a second row vector $y$ of the same dimension with elements equal to the successive even integers starting with 4.\n",
        "4. Create the matrix $A$, whose first row is equal to $x$, whose second row is a line of ones, and whose third row is equal to $y$.\n",
        "5. Define a row vector $z$, whose elements are equal to the mean value of the columns of $A$.\n",
        "6. Create a 5x5 matrix with values 1,2,3,4 just below the diagonal.\n",
        "7. Print a 10x10 array with 1 on the border and 0 inside"
      ]
    },
    {
      "cell_type": "code",
      "execution_count": null,
      "id": "8aaf170c-0e51-4829-8142-1e0101a6c196",
      "metadata": {
        "id": "8aaf170c-0e51-4829-8142-1e0101a6c196"
      },
      "outputs": [],
      "source": [
        "import numpy as np"
      ]
    },
    {
      "cell_type": "code",
      "execution_count": null,
      "id": "91cbad16-b0a8-4306-8aa7-ce97b8699324",
      "metadata": {
        "id": "91cbad16-b0a8-4306-8aa7-ce97b8699324",
        "outputId": "a49773f7-1dc3-48a2-bd9e-49f4ed224797"
      },
      "outputs": [
        {
          "name": "stdout",
          "output_type": "stream",
          "text": [
            "[2.   2.25 2.5  2.75 3.  ]\n"
          ]
        }
      ],
      "source": [
        "A = np.linspace(2,3,5)\n",
        "print(A)"
      ]
    },
    {
      "cell_type": "code",
      "execution_count": null,
      "id": "7eb5735e-eeb7-4688-b151-46141b4ee62f",
      "metadata": {
        "id": "7eb5735e-eeb7-4688-b151-46141b4ee62f",
        "outputId": "523da8b0-5663-4325-b903-02149c6a1454"
      },
      "outputs": [
        {
          "name": "stdout",
          "output_type": "stream",
          "text": [
            "[2.   3.25 2.5  2.75 3.  ]\n"
          ]
        }
      ],
      "source": [
        "B = np.linspace(2,3,5)\n",
        "B[1] = B[1]+1\n",
        "print(B)"
      ]
    },
    {
      "cell_type": "code",
      "execution_count": null,
      "id": "8dbb714d-c95a-4aea-b03d-a9a601df5927",
      "metadata": {
        "id": "8dbb714d-c95a-4aea-b03d-a9a601df5927",
        "outputId": "b3e9ca41-392b-4bc0-a574-c8ff1759c3b4"
      },
      "outputs": [
        {
          "name": "stdout",
          "output_type": "stream",
          "text": [
            "[ 4.  6.  8. 10. 12.]\n"
          ]
        }
      ],
      "source": [
        "C=np.linspace(4.0,12.0,5)\n",
        "print(C)"
      ]
    },
    {
      "cell_type": "code",
      "execution_count": null,
      "id": "32e41c73-f988-41ee-a622-b2fdb00c1c75",
      "metadata": {
        "id": "32e41c73-f988-41ee-a622-b2fdb00c1c75",
        "outputId": "7f8327c2-175b-4442-9c72-2357bf137dc0"
      },
      "outputs": [
        {
          "name": "stdout",
          "output_type": "stream",
          "text": [
            "[1. 1. 1. 1. 1.]\n"
          ]
        }
      ],
      "source": [
        "D = np.ones(5)\n",
        "print(D)"
      ]
    },
    {
      "cell_type": "code",
      "execution_count": null,
      "id": "3e0a35a9-15c9-4a2b-852c-aac717a104da",
      "metadata": {
        "id": "3e0a35a9-15c9-4a2b-852c-aac717a104da",
        "outputId": "f5892bda-7ee3-4480-fedc-e73084c861a8"
      },
      "outputs": [
        {
          "name": "stdout",
          "output_type": "stream",
          "text": [
            "[[[ 2.    2.25  2.5   2.75  3.  ]]\n",
            "\n",
            " [[ 1.    1.    1.    1.    1.  ]]\n",
            "\n",
            " [[ 4.    6.    8.   10.   12.  ]]]\n"
          ]
        }
      ],
      "source": [
        "F = np.array([[A],[D],[C]])\n",
        "print(F)"
      ]
    },
    {
      "cell_type": "code",
      "execution_count": null,
      "id": "6984e4bd-2fa2-4d4f-abc1-dc4a45faa81d",
      "metadata": {
        "id": "6984e4bd-2fa2-4d4f-abc1-dc4a45faa81d",
        "outputId": "c6ea7293-e948-4423-ab5f-f1d66f937959"
      },
      "outputs": [
        {
          "name": "stdout",
          "output_type": "stream",
          "text": [
            "[[2.33333333 3.08333333 3.83333333 4.58333333 5.33333333]]\n"
          ]
        }
      ],
      "source": [
        "G=np.mean(F,axis=0)\n",
        "print(G)"
      ]
    },
    {
      "cell_type": "code",
      "execution_count": null,
      "id": "8091db60-a4f9-40e0-92ae-b3ce09d6dd12",
      "metadata": {
        "id": "8091db60-a4f9-40e0-92ae-b3ce09d6dd12",
        "outputId": "be9e12db-c89e-4e3b-f863-7cb87c668ee2"
      },
      "outputs": [
        {
          "name": "stdout",
          "output_type": "stream",
          "text": [
            "[[0. 0. 0. 0. 0.]\n",
            " [1. 0. 0. 0. 0.]\n",
            " [0. 2. 0. 0. 0.]\n",
            " [0. 0. 3. 0. 0.]\n",
            " [0. 0. 0. 4. 0.]]\n"
          ]
        }
      ],
      "source": [
        "L=np.zeros((5,5))\n",
        "L[1,0]=1\n",
        "L[2,1]=2\n",
        "L[3,2]=3\n",
        "L[4,3]=4\n",
        "\n",
        "print(L)"
      ]
    },
    {
      "cell_type": "code",
      "execution_count": null,
      "id": "981a2d2d-4249-49b8-bfc2-c55eb22d2531",
      "metadata": {
        "id": "981a2d2d-4249-49b8-bfc2-c55eb22d2531",
        "outputId": "0de206fc-7540-40fd-d7aa-dc6df4e22c2e"
      },
      "outputs": [
        {
          "name": "stdout",
          "output_type": "stream",
          "text": [
            "[[1. 1. 1. 1. 1. 1. 1. 1. 1. 1.]\n",
            " [1. 0. 0. 0. 0. 0. 0. 0. 0. 1.]\n",
            " [1. 0. 0. 0. 0. 0. 0. 0. 0. 1.]\n",
            " [1. 0. 0. 0. 0. 0. 0. 0. 0. 1.]\n",
            " [1. 0. 0. 0. 0. 0. 0. 0. 0. 1.]\n",
            " [1. 0. 0. 0. 0. 0. 0. 0. 0. 1.]\n",
            " [1. 0. 0. 0. 0. 0. 0. 0. 0. 1.]\n",
            " [1. 0. 0. 0. 0. 0. 0. 0. 0. 1.]\n",
            " [1. 0. 0. 0. 0. 0. 0. 0. 0. 1.]\n",
            " [1. 1. 1. 1. 1. 1. 1. 1. 1. 1.]]\n"
          ]
        }
      ],
      "source": [
        "O = np.zeros((10,10))\n",
        "O[0,:] = 1\n",
        "O[9,:]=1\n",
        "O[:,0] = 1\n",
        "O[:,9]=1\n",
        "print(O)"
      ]
    },
    {
      "cell_type": "markdown",
      "id": "0293b72d-86c7-4d20-a868-af797249b310",
      "metadata": {
        "id": "0293b72d-86c7-4d20-a868-af797249b310"
      },
      "source": [
        "## Exercise 3"
      ]
    },
    {
      "cell_type": "code",
      "execution_count": null,
      "id": "24b730f4-f6bc-4707-b3cd-f93811a380a5",
      "metadata": {
        "id": "24b730f4-f6bc-4707-b3cd-f93811a380a5"
      },
      "outputs": [],
      "source": [
        "import numpy as np"
      ]
    },
    {
      "cell_type": "markdown",
      "id": "f9e5eafc-7efa-4234-99a1-fb91deb0b5da",
      "metadata": {
        "id": "f9e5eafc-7efa-4234-99a1-fb91deb0b5da"
      },
      "source": [
        "Create two matrices A and B: $$A=\\left(\\begin{array}{cc}\n",
        "    1 & 2  \\\\\n",
        "    4 & -1  \\\\\n",
        "\\end{array}\\right) \\text{ and } B=\\left(\\begin{array}{cc}\n",
        "    4 & -2  \\\\\n",
        "    -6 & 3  \\\\\n",
        "\\end{array}\\right).$$\n",
        "\n",
        "1. Compute the matrices $C_1 = A + B$ and $C_2 = A − B$.\n",
        "2. Compute the matrix products $D_1 = A \\cdot B$ and $D_2 = B \\cdot A$ (element wise).\n",
        "3. Are A and B singular? If not, then compute their inverse."
      ]
    },
    {
      "cell_type": "code",
      "execution_count": null,
      "id": "03275cf8-64aa-4ab3-b909-0330d937a86c",
      "metadata": {
        "id": "03275cf8-64aa-4ab3-b909-0330d937a86c",
        "outputId": "03d946f8-969b-46a3-a227-61668c9d2249"
      },
      "outputs": [
        {
          "name": "stdout",
          "output_type": "stream",
          "text": [
            "[[ 1  2]\n",
            " [ 4 -1]]\n",
            "[[ 4 -2]\n",
            " [-6  3]]\n"
          ]
        }
      ],
      "source": [
        "A=np.array([[1,2],[4,-1]])\n",
        "B=np.array([[4,-2],[-6,3]])\n",
        "print(A)\n",
        "print(B)"
      ]
    },
    {
      "cell_type": "code",
      "execution_count": null,
      "id": "40bb8e45-2317-4d6b-adee-653e1dd19c10",
      "metadata": {
        "id": "40bb8e45-2317-4d6b-adee-653e1dd19c10",
        "outputId": "de3538dc-2009-4961-8647-968569279c2f"
      },
      "outputs": [
        {
          "name": "stdout",
          "output_type": "stream",
          "text": [
            "[[ 5  0]\n",
            " [-2  2]]\n"
          ]
        }
      ],
      "source": [
        "C_1 = A+B\n",
        "print(C_1)"
      ]
    },
    {
      "cell_type": "code",
      "execution_count": null,
      "id": "866ec181-3955-40f5-a08c-3a0302cc0b57",
      "metadata": {
        "id": "866ec181-3955-40f5-a08c-3a0302cc0b57"
      },
      "outputs": [],
      "source": [
        "C_2=A-B"
      ]
    },
    {
      "cell_type": "code",
      "execution_count": null,
      "id": "9ca68502-54af-4f8a-aed2-859e25c0616c",
      "metadata": {
        "id": "9ca68502-54af-4f8a-aed2-859e25c0616c",
        "outputId": "d8b9d5ab-ae25-4aa8-8a97-aae6febeb807"
      },
      "outputs": [
        {
          "name": "stdout",
          "output_type": "stream",
          "text": [
            "[[-3  4]\n",
            " [10 -4]]\n"
          ]
        }
      ],
      "source": [
        "print(C_2)"
      ]
    },
    {
      "cell_type": "code",
      "execution_count": null,
      "id": "16ee1084-042f-4f15-9888-95a87d66b72d",
      "metadata": {
        "id": "16ee1084-042f-4f15-9888-95a87d66b72d",
        "outputId": "fc175a1a-db34-4bd3-b5d5-f30c75e4eb4d"
      },
      "outputs": [
        {
          "name": "stdout",
          "output_type": "stream",
          "text": [
            "[[ -8   4]\n",
            " [ 22 -11]]\n"
          ]
        }
      ],
      "source": [
        "D_1=np.dot(A,B)\n",
        "print(D_1)"
      ]
    },
    {
      "cell_type": "code",
      "execution_count": null,
      "id": "3324ebf3-6e12-485d-b1b0-1e1c27490577",
      "metadata": {
        "id": "3324ebf3-6e12-485d-b1b0-1e1c27490577",
        "outputId": "1271d8fb-491c-4f5f-dbea-b5a325918d63"
      },
      "outputs": [
        {
          "name": "stdout",
          "output_type": "stream",
          "text": [
            "[[ -4  10]\n",
            " [  6 -15]]\n"
          ]
        }
      ],
      "source": [
        "D_2=np.dot(B,A)\n",
        "print(D_2)"
      ]
    },
    {
      "cell_type": "code",
      "execution_count": null,
      "id": "ad12f685-8dc4-43b0-a969-783a6504b41a",
      "metadata": {
        "id": "ad12f685-8dc4-43b0-a969-783a6504b41a",
        "outputId": "9f74781f-a451-460f-a6d5-11a5bea3416e"
      },
      "outputs": [
        {
          "data": {
            "text/plain": [
              "array([[ 0.11111111,  0.22222222],\n",
              "       [ 0.44444444, -0.11111111]])"
            ]
          },
          "execution_count": 29,
          "metadata": {},
          "output_type": "execute_result"
        }
      ],
      "source": [
        "np.linalg.inv(A)"
      ]
    },
    {
      "cell_type": "code",
      "execution_count": null,
      "id": "606dc695-a798-48bf-afc8-e1a0c06ead45",
      "metadata": {
        "id": "606dc695-a798-48bf-afc8-e1a0c06ead45",
        "outputId": "c1d572b4-ab13-4425-c387-49619980b307"
      },
      "outputs": [
        {
          "data": {
            "text/plain": [
              "array([[-4.50359963e+15, -3.00239975e+15],\n",
              "       [-9.00719925e+15, -6.00479950e+15]])"
            ]
          },
          "execution_count": 31,
          "metadata": {},
          "output_type": "execute_result"
        }
      ],
      "source": [
        "np.linalg.inv(B)"
      ]
    },
    {
      "cell_type": "code",
      "execution_count": null,
      "id": "163bd4d4-a0a7-4f1e-80d9-ba7543129fba",
      "metadata": {
        "id": "163bd4d4-a0a7-4f1e-80d9-ba7543129fba"
      },
      "outputs": [],
      "source": []
    }
  ],
  "metadata": {
    "kernelspec": {
      "display_name": "Python [conda env:base] *",
      "language": "python",
      "name": "conda-base-py"
    },
    "language_info": {
      "codemirror_mode": {
        "name": "ipython",
        "version": 3
      },
      "file_extension": ".py",
      "mimetype": "text/x-python",
      "name": "python",
      "nbconvert_exporter": "python",
      "pygments_lexer": "ipython3",
      "version": "3.12.7"
    },
    "colab": {
      "provenance": []
    }
  },
  "nbformat": 4,
  "nbformat_minor": 5
}