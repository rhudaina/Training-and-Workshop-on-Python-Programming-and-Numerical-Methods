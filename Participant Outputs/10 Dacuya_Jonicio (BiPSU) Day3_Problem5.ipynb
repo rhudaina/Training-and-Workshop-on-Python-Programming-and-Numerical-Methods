{
  "cells": [
    {
      "cell_type": "markdown",
      "id": "515b3544-a270-4f68-9300-22c86d9c431b",
      "metadata": {
        "id": "515b3544-a270-4f68-9300-22c86d9c431b"
      },
      "source": [
        "# Hands-on Activity"
      ]
    },
    {
      "cell_type": "markdown",
      "id": "931a8fc2-8289-4d85-88b2-2073aa89ab04",
      "metadata": {
        "id": "931a8fc2-8289-4d85-88b2-2073aa89ab04"
      },
      "source": [
        "5. Apply the bisection and Newton's Method to find the minimum of\n",
        "\t$$f(x)=x^6 + 3x^4 - 12x^3 + x^2 - x -7.$$"
      ]
    },
    {
      "cell_type": "code",
      "execution_count": null,
      "id": "ec528a86-a5cf-4994-be91-b0115e0142ea",
      "metadata": {
        "id": "ec528a86-a5cf-4994-be91-b0115e0142ea"
      },
      "outputs": [],
      "source": [
        "import numpy as np\n",
        "def bisection(g,a,b,tol,max_iter):\n",
        "  if g(a) * g(b) >= 0:\n",
        "    print(\"The function must have opposite signs at the endpoints of the interval.\")\n",
        "    return None\n",
        "\n",
        "  i = 0\n",
        "  while (b - a) / 2 > tol:\n",
        "    c = (a + b) / 2\n",
        "    if g(c) == 0:\n",
        "      return c, i\n",
        "    elif g(c) * g(a) < 0:\n",
        "      b = c\n",
        "    else:\n",
        "      a = c\n",
        "    i += 1\n",
        "    if i > max_iter:\n",
        "        print(\"Method failed after \" + str(i)  + \" iterations.\")\n",
        "\n",
        "  x = (a + b) / 2\n",
        "  return x, i"
      ]
    },
    {
      "cell_type": "code",
      "source": [
        "# Example\n",
        "def g(x):\n",
        "    return (6*x**5)+(12*x**3)-(36*x**2)+(x)-1\n",
        "\n",
        "xopt, i = bisection(g,a=1,b=2,tol=1e-5,max_iter=100)\n",
        "\n",
        "print(f\"Approximate optimal solution: {xopt}\")\n",
        "print(f\"residual: {g(xopt)}\")\n",
        "print(f\"Iterations: {i}\")"
      ],
      "metadata": {
        "colab": {
          "base_uri": "https://localhost:8080/"
        },
        "id": "A4IYTu2G28-s",
        "outputId": "6cdd0bd8-e080-4f36-c005-c918219a37b0"
      },
      "id": "A4IYTu2G28-s",
      "execution_count": null,
      "outputs": [
        {
          "output_type": "stream",
          "name": "stdout",
          "text": [
            "Approximate optimal solution: 1.4518814086914062\n",
            "residual: -2.0356943494448387e-05\n",
            "Iterations: 16\n"
          ]
        }
      ]
    },
    {
      "cell_type": "code",
      "source": [
        "#Newthons Method\n",
        "import numpy as np\n",
        "\n",
        "def newtons_method(g,gp,x0,tol,max_iter):\n",
        "    x = x0\n",
        "    res = abs(g(x))\n",
        "    i = 0\n",
        "    while res > tol:\n",
        "        gx = g(x)\n",
        "        gpx = gp(x)\n",
        "\n",
        "        # Check for division by zero or very small derivative\n",
        "        if abs(gpx) < 1e-10:\n",
        "            print(\"Warning: Derivative is close to zero. Method may not converge.\")\n",
        "            return None\n",
        "\n",
        "        # Newton update\n",
        "        x_iter = x - (gx / gpx)\n",
        "        res = abs(g(x_iter))\n",
        "        i += 1\n",
        "\n",
        "        if i > max_iter:\n",
        "            print(\"Method failed after \" + str(i)  + \" iterations.\")\n",
        "            return None\n",
        "\n",
        "        x = x_iter\n",
        "\n",
        "    return x, i"
      ],
      "metadata": {
        "id": "PdBNrTJf2_6N"
      },
      "id": "PdBNrTJf2_6N",
      "execution_count": null,
      "outputs": []
    },
    {
      "cell_type": "code",
      "source": [
        "#Newthons\n",
        "def g(x):\n",
        "    return (6*x**5)+(12*x**3)-(36*x**2)+(x)-1\n",
        "\n",
        "def gp(x):\n",
        "    return 30*(x**4) + 36*(x**2)-72*x+1\n",
        "\n",
        "xopt, i = newtons_method(g,gp,x0=1.45,tol=1e-6,max_iter=100)\n",
        "\n",
        "print(f\"Approximate optimal solution: {xopt}\")\n",
        "print(f\"residual: {g(xopt)}\")\n",
        "print(f\"Iterations: {i}\")"
      ],
      "metadata": {
        "colab": {
          "base_uri": "https://localhost:8080/"
        },
        "id": "hAGw8Ap53GbK",
        "outputId": "6b3aa626-4d1d-4376-a1b5-ba81b0ce30ed"
      },
      "id": "hAGw8Ap53GbK",
      "execution_count": null,
      "outputs": [
        {
          "output_type": "stream",
          "name": "stdout",
          "text": [
            "Approximate optimal solution: 1.4518816014490927\n",
            "residual: 9.050485916262119e-09\n",
            "Iterations: 2\n"
          ]
        }
      ]
    },
    {
      "cell_type": "code",
      "source": [],
      "metadata": {
        "id": "GuBhJPvn3KrX"
      },
      "id": "GuBhJPvn3KrX",
      "execution_count": null,
      "outputs": []
    }
  ],
  "metadata": {
    "kernelspec": {
      "display_name": "Python [conda env:base] *",
      "language": "python",
      "name": "conda-base-py"
    },
    "language_info": {
      "codemirror_mode": {
        "name": "ipython",
        "version": 3
      },
      "file_extension": ".py",
      "mimetype": "text/x-python",
      "name": "python",
      "nbconvert_exporter": "python",
      "pygments_lexer": "ipython3",
      "version": "3.12.7"
    },
    "colab": {
      "provenance": []
    }
  },
  "nbformat": 4,
  "nbformat_minor": 5
}