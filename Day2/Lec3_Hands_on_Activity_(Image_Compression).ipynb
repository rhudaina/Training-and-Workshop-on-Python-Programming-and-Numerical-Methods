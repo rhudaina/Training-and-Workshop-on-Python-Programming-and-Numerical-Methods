{
  "nbformat": 4,
  "nbformat_minor": 0,
  "metadata": {
    "colab": {
      "provenance": []
    },
    "kernelspec": {
      "name": "python3",
      "display_name": "Python 3"
    },
    "language_info": {
      "name": "python"
    }
  },
  "cells": [
    {
      "cell_type": "markdown",
      "source": [
        "### 2. Take a picture with a new friend from this workshop. Convert your colored digital image to blue B, green G, and red R intensity matrices. For each intensity matrix (channel), take its singular value decomposition and plot the singular values and corresponding image variance. Determine the lowest possible $p$ so that the truncated SVDs yield at least 80% image variance in all color channels. Plot the corresponding compressed colored image.\n"
      ],
      "metadata": {
        "id": "iNrOCn_mrm-F"
      }
    },
    {
      "cell_type": "code",
      "source": [
        "import cv2\n",
        "Img = cv2.imread(\"photo.jpg\", cv2.IMREAD_COLOR);\n",
        "B = Img[:,:,0]\n",
        "G = Img[:,:,1]\n",
        "R = Img[:,:,2]"
      ],
      "metadata": {
        "id": "Itpr6GXXrlQW"
      },
      "execution_count": null,
      "outputs": []
    },
    {
      "cell_type": "code",
      "source": [
        "import matplotlib.pyplot as plt\n",
        "Img = cv2.merge([R,G,B])     # switch to RGB\n",
        "\n",
        "plt.imshow(Img, vmin = 0, vmax = 255)\n",
        "plt.axis(\"off\")\n",
        "plt.show()"
      ],
      "metadata": {
        "id": "9uCAaYgAto7w"
      },
      "execution_count": null,
      "outputs": []
    },
    {
      "cell_type": "code",
      "source": [],
      "metadata": {
        "id": "pUlAYF3moAhT"
      },
      "execution_count": null,
      "outputs": []
    },
    {
      "cell_type": "code",
      "source": [
        "ApproxImg = ApproxImg.astype(np.uint8)\n",
        "\n",
        "plt.imshow(ApproxImg)\n",
        "plt.axis(\"off\")\n",
        "plt.show()"
      ],
      "metadata": {
        "id": "EU302JwEtwzQ"
      },
      "execution_count": null,
      "outputs": []
    }
  ]
}