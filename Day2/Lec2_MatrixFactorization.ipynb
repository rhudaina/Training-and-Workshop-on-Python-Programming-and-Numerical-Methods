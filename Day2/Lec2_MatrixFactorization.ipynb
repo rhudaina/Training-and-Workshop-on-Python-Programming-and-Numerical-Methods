{
  "nbformat": 4,
  "nbformat_minor": 0,
  "metadata": {
    "colab": {
      "provenance": []
    },
    "kernelspec": {
      "name": "python3",
      "display_name": "Python 3"
    },
    "language_info": {
      "name": "python"
    }
  },
  "cells": [
    {
      "cell_type": "markdown",
      "source": [
        "# BLAS and LAPACK"
      ],
      "metadata": {
        "id": "c2ctbZIqI-VD"
      }
    },
    {
      "cell_type": "markdown",
      "source": [
        "Regardless of what language you're using, chances are if you're doing numerical linear algebra, you are able to take advantage of libraries of code which implement most common linear algebra routines and factorizations.\n",
        "* [BLAS (Basic Linear Algebra Subprograms)](https://www.netlib.org/blas/) - routines that provide standard building blocks for performing basic vector and matrix operations\n",
        "* [LAPACK (Linear Algebra PACKage)](https://www.netlib.org/lapack/) - routines for solving systems of simultaneous linear equations, least-squares solutions of linear systems of equations, eigenvalue problems, and singular value problems\n",
        "\n",
        "\n"
      ],
      "metadata": {
        "id": "E55g6oDAI7nS"
      }
    },
    {
      "cell_type": "markdown",
      "source": [
        "The [NumPy linear algebra](https://numpy.org/doc/stable/reference/routines.linalg.html#module-numpy.linalg) functions rely on BLAS and LAPACK to provide efficient low level implementations of standard linear algebra algorithms.\n",
        "\n",
        "You can view what BLAS and LAPACK libraries NumPy is using:"
      ],
      "metadata": {
        "id": "uA-UzzQaJPvP"
      }
    },
    {
      "cell_type": "code",
      "source": [
        "import numpy as np\n",
        "np.__config__.show()"
      ],
      "metadata": {
        "id": "56gi8WS45FSM"
      },
      "execution_count": null,
      "outputs": []
    },
    {
      "cell_type": "markdown",
      "source": [
        "[SciPy (Scientific Python)](https://docs.scipy.org/doc/scipy/tutorial/index.html) is a collection of mathematical algorithms and convenience functions built on NumPy. It adds significant power to Python by providing the user with high-level commands and classes for manipulating and visualizing data.\n",
        "\n",
        "The SciPy library also contains a linalg submodule, and there is overlap in the functionality provided by the SciPy and NumPy submodules."
      ],
      "metadata": {
        "id": "9dkOU0NQJb-Z"
      }
    },
    {
      "cell_type": "code",
      "source": [
        "import scipy as sp\n",
        "sp.__config__.show()"
      ],
      "metadata": {
        "id": "9G84MHn-JclO"
      },
      "execution_count": null,
      "outputs": []
    },
    {
      "cell_type": "markdown",
      "source": [
        "# LU Factorization\n"
      ],
      "metadata": {
        "id": "vTyMmZONJueM"
      }
    },
    {
      "cell_type": "markdown",
      "source": [
        "For numerical stability, this is often computed with a *pivoting* strategy, which means there is also row or column permutation matrix $P$ in the factorization:\n",
        "$$ A = PLU$$\n",
        "where $L$ is lower-triangular and $U$ is upper triangular.  "
      ],
      "metadata": {
        "id": "6TBTAKzgJxi2"
      }
    },
    {
      "cell_type": "code",
      "source": [
        "n = 1000\n",
        "A = np.random.randn(n, n)\n",
        "x = np.random.rand(n)\n",
        "y = A @ x\n",
        "\n",
        "P, L, U = sp.linalg.lu(A)"
      ],
      "metadata": {
        "id": "Rp8GmijEJvoz"
      },
      "execution_count": null,
      "outputs": []
    },
    {
      "cell_type": "code",
      "source": [
        "sp.linalg.norm(P @ L @ U - A)"
      ],
      "metadata": {
        "id": "s5TGFkFRJ4f4"
      },
      "execution_count": null,
      "outputs": []
    },
    {
      "cell_type": "markdown",
      "source": [
        "The nice thing about triangular matrices is that they can solve linear systems in $O(n^2)$ time, instead of $O(n^3)$ time for general matrices, using the forward or backward substitution algorithms via `scipy.linalg.solve_triangular`. See [documentation](https://docs.scipy.org/doc/scipy-1.13.0/reference/generated/scipy.linalg.solve_triangular.html)"
      ],
      "metadata": {
        "id": "Ft1vGpuqJ64A"
      }
    },
    {
      "cell_type": "code",
      "source": [
        "from scipy.linalg import solve_triangular\n",
        "\n",
        "z = solve_triangular(L, P.T @ y, lower=True)  # forward substitution\n",
        "x_lu = solve_triangular(U, z, lower=False)    # backward substitution"
      ],
      "metadata": {
        "id": "wju3vIh-J7TL"
      },
      "execution_count": null,
      "outputs": []
    },
    {
      "cell_type": "code",
      "source": [
        "sp.linalg.norm(x_lu - x)"
      ],
      "metadata": {
        "id": "aW_l6UFiKTwE"
      },
      "execution_count": null,
      "outputs": []
    },
    {
      "cell_type": "markdown",
      "source": [
        "Let us define a function that solves a given linear system using LU factorization and check its computational cost."
      ],
      "metadata": {
        "id": "MvX4llr1KVvU"
      }
    },
    {
      "cell_type": "code",
      "source": [
        "def solve_lu(A, y):\n",
        "  ''' solves Ax = y using LU factorization '''\n",
        "  P, L, U = sp.linalg.lu(A)\n",
        "  z = solve_triangular(L, P.T @ y, lower=True)\n",
        "  x = solve_triangular(U, z, lower=False)\n",
        "  return x"
      ],
      "metadata": {
        "id": "5D-LOROjKWaC"
      },
      "execution_count": null,
      "outputs": []
    },
    {
      "cell_type": "code",
      "source": [
        "%timeit solve_lu(A,y)"
      ],
      "metadata": {
        "id": "cypYUKs0KYgA"
      },
      "execution_count": null,
      "outputs": []
    },
    {
      "cell_type": "markdown",
      "source": [
        "Alternatively, we can do the following:"
      ],
      "metadata": {
        "id": "13KYsp2VKhHy"
      }
    },
    {
      "cell_type": "code",
      "source": [
        "k = 7\n",
        "size = [2**(i+4) for i in range(k)]\n",
        "print(size)"
      ],
      "metadata": {
        "id": "XWmdA4j8KgZO"
      },
      "execution_count": null,
      "outputs": []
    },
    {
      "cell_type": "code",
      "source": [
        "import time\n",
        "\n",
        "time_lu = np.zeros(k)\n",
        "\n",
        "for i in range(k):\n",
        "  n = 2**(i+4)\n",
        "  A = np.random.randn(n, n)\n",
        "  x = np.random.rand(n)\n",
        "  y = A @ x\n",
        "\n",
        "  t_start = time.time()\n",
        "  x_lu = solve_lu(A,y)\n",
        "  t_end = time.time()\n",
        "  time_lu[i] = t_end - t_start"
      ],
      "metadata": {
        "id": "bixbSrQXKk0R"
      },
      "execution_count": null,
      "outputs": []
    },
    {
      "cell_type": "code",
      "source": [
        "import matplotlib.pyplot as plt\n",
        "\n",
        "plt.plot(size, time_lu)\n",
        "plt.xscale('log', base=2)\n",
        "plt.xlabel('size of matrix')\n",
        "plt.ylabel('time')\n",
        "plt.show()"
      ],
      "metadata": {
        "id": "RPaTTNbBKneH"
      },
      "execution_count": null,
      "outputs": []
    },
    {
      "cell_type": "markdown",
      "source": [
        "# QR Factorization"
      ],
      "metadata": {
        "id": "2ZR0b4otLcZf"
      }
    },
    {
      "cell_type": "markdown",
      "source": [
        "We decompose matrix $$A = QR$$ into a matrix $Q$ with orthonormal columns, and an upper triangular matrix $R$.  "
      ],
      "metadata": {
        "id": "kMCcwCxgLeiS"
      }
    },
    {
      "cell_type": "code",
      "source": [
        "n = 1000\n",
        "m = 500\n",
        "A = np.random.randn(n, m)\n",
        "\n",
        "Q, R = np.linalg.qr(A)\n",
        "print(Q.shape, R.shape)\n",
        "\n",
        "np.linalg.norm(Q @ R  - A)"
      ],
      "metadata": {
        "id": "JEyyIQWBLdF7"
      },
      "execution_count": null,
      "outputs": []
    },
    {
      "cell_type": "code",
      "source": [
        "Q, R = np.linalg.qr(A, mode='complete')\n",
        "print(Q.shape, R.shape)\n",
        "\n",
        "np.linalg.norm(Q @ R  - A)"
      ],
      "metadata": {
        "id": "KWGuITb8Lix-"
      },
      "execution_count": null,
      "outputs": []
    },
    {
      "cell_type": "markdown",
      "source": [
        "Using `scipy`:"
      ],
      "metadata": {
        "id": "9-zd2UiQLkyn"
      }
    },
    {
      "cell_type": "code",
      "source": [
        "Q, R = sp.linalg.qr(A, mode='economic')\n",
        "print(Q.shape, R.shape)\n",
        "\n",
        "sp.linalg.norm(Q @ R  - A)"
      ],
      "metadata": {
        "id": "IRtz2CkgLlDP"
      },
      "execution_count": null,
      "outputs": []
    },
    {
      "cell_type": "code",
      "source": [
        "def solve_qr(A, y):\n",
        "  ''' solves least squares problem ||Ax - y|| using QR factorization '''\n",
        "  Q, R = sp.linalg.qr(A, mode='economic')\n",
        "  z = Q.T @ y\n",
        "  x = solve_triangular(R, z, lower=False)\n",
        "  return x"
      ],
      "metadata": {
        "id": "P1mfE0ZGL4Ng"
      },
      "execution_count": null,
      "outputs": []
    },
    {
      "cell_type": "code",
      "source": [
        "x = np.random.rand(m)\n",
        "y = A @ x\n",
        "\n",
        "x_qr = solve_qr(A, y)\n",
        "sp.linalg.norm(x_qr - x)"
      ],
      "metadata": {
        "id": "c_qZhYIcTopL"
      },
      "execution_count": null,
      "outputs": []
    },
    {
      "cell_type": "markdown",
      "source": [
        "## Least Squares Data Fitting\n",
        "\n"
      ],
      "metadata": {
        "id": "q5BZZT2dTG4z"
      }
    },
    {
      "cell_type": "markdown",
      "source": [
        "QR factorization is used for least-squares solutions."
      ],
      "metadata": {
        "id": "LsB0dN3fLorY"
      }
    },
    {
      "cell_type": "markdown",
      "source": [
        "Consider the problem of fitting a model to data in order to reduce the effects of noise in the measurements.\n"
      ],
      "metadata": {
        "id": "FyDaAV6FTIyP"
      }
    },
    {
      "cell_type": "code",
      "source": [
        "n = 100\n",
        "t = np.linspace(0,10,n)\n",
        "y = 2*t + 3 + np.random.randn(n); # noisy data\n",
        "\n",
        "plt.plot(t,y,'r.')\n",
        "plt.show()"
      ],
      "metadata": {
        "id": "aLuqeqVPL8SN"
      },
      "execution_count": null,
      "outputs": []
    },
    {
      "cell_type": "code",
      "source": [
        "A = np.ones((n,2))\n",
        "A[:,0] = t\n",
        "\n",
        "x = solve_qr(A, y)\n",
        "\n",
        "plt.plot(t, y, 'r.')\n",
        "plt.plot(t, A @ x, 'b')\n",
        "plt.show()"
      ],
      "metadata": {
        "id": "Afo7SljJTUFO"
      },
      "execution_count": null,
      "outputs": []
    },
    {
      "cell_type": "markdown",
      "source": [
        "## Multilinear Regression"
      ],
      "metadata": {
        "id": "B7kV64RuTeUe"
      }
    },
    {
      "cell_type": "code",
      "source": [
        "A = np.loadtxt('hald_ingredients.csv',delimiter=',')\n",
        "y = np.loadtxt('hald_heat.csv',delimiter=',')\n",
        "\n",
        "x = solve_qr(A, y)\n",
        "print(x)"
      ],
      "metadata": {
        "id": "Uj142gh9T-4n"
      },
      "execution_count": null,
      "outputs": []
    },
    {
      "cell_type": "code",
      "source": [
        "plt.plot(y, 'b', label='heat data')\n",
        "plt.plot(A@x, 'r', label='solution')\n",
        "plt.xlabel('cement mixtures')\n",
        "plt.ylabel('heat')\n",
        "plt.legend()\n",
        "plt.show()"
      ],
      "metadata": {
        "id": "VCBSzMo6UXf2"
      },
      "execution_count": null,
      "outputs": []
    },
    {
      "cell_type": "markdown",
      "source": [
        "## Computational Cost"
      ],
      "metadata": {
        "id": "3b7bjgyQTh9M"
      }
    },
    {
      "cell_type": "code",
      "source": [
        "k = 7\n",
        "size = [2**(i+4) for i in range(k)]\n",
        "print(size)"
      ],
      "metadata": {
        "id": "5eDBIk3dL913"
      },
      "execution_count": null,
      "outputs": []
    },
    {
      "cell_type": "code",
      "source": [
        "import time\n",
        "\n",
        "time_qr = np.zeros(k)\n",
        "\n",
        "for i in range(k):\n",
        "  n = 2**(i+4)\n",
        "  m = 2**(i+3)\n",
        "  A = np.random.randn(n, m)\n",
        "  x = np.random.rand(m)\n",
        "  y = A @ x\n",
        "\n",
        "  t_start = time.time()\n",
        "  x_qr = solve_qr(A,y)\n",
        "  t_end = time.time()\n",
        "  time_qr[i] = t_end - t_start"
      ],
      "metadata": {
        "id": "t-mtORQFL_vL"
      },
      "execution_count": null,
      "outputs": []
    },
    {
      "cell_type": "code",
      "source": [
        "import matplotlib.pyplot as plt\n",
        "\n",
        "plt.plot(size, time_qr)\n",
        "plt.xscale('log', base=2)\n",
        "plt.xlabel('size of matrix')\n",
        "plt.ylabel('time')\n",
        "plt.show()"
      ],
      "metadata": {
        "id": "qUR6YkdOMCjt"
      },
      "execution_count": null,
      "outputs": []
    },
    {
      "cell_type": "markdown",
      "source": [
        "# Eigenvalue Decomposition"
      ],
      "metadata": {
        "id": "bUgpAcJLMls5"
      }
    },
    {
      "cell_type": "markdown",
      "source": [
        "A vector $x$ is an eigenvector of $A$ with eigenvalue $\\lambda$ if $Ax = x \\lambda$.  An eigenvalue decomposition is a decomposition $A = X \\Lambda X^{-1}$ where $\\Lambda$ is a diagonal matrix.  We can compute such a decomposition using `eig`:"
      ],
      "metadata": {
        "id": "6IOsj9UQMoHX"
      }
    },
    {
      "cell_type": "code",
      "source": [
        "n = 1000\n",
        "A = np.random.randn(n, n)\n",
        "Lam, X = sp.linalg.eig(A)"
      ],
      "metadata": {
        "id": "5OmWpGJfMmhW"
      },
      "execution_count": null,
      "outputs": []
    },
    {
      "cell_type": "markdown",
      "source": [
        "The columns of $X$ are eigenvectors, and eigenvalues are diagonal entries of $\\Lambda$"
      ],
      "metadata": {
        "id": "VSUDou__Mr2q"
      }
    },
    {
      "cell_type": "code",
      "source": [
        "x = X[:,0]\n",
        "sp.linalg.norm(A @ x - Lam[0] * x)"
      ],
      "metadata": {
        "id": "7YMN5Up5MsOm"
      },
      "execution_count": null,
      "outputs": []
    },
    {
      "cell_type": "markdown",
      "source": [
        "When $A$ is symmetric (or Hermitian), there exists and orthonormal basis where every basis element is an eigenvector.  In this case, we can write $A = U\\Lambda U^H$.  There is a special function `eigh` for such a situation."
      ],
      "metadata": {
        "id": "3s4DuYauM0-U"
      }
    },
    {
      "cell_type": "code",
      "source": [
        "A = np.random.randn(n,n)\n",
        "A = A + A.T               # make symmetric\n",
        "Lam, U = sp.linalg.eigh(A)"
      ],
      "metadata": {
        "id": "012DqLIaM1gb"
      },
      "execution_count": null,
      "outputs": []
    },
    {
      "cell_type": "code",
      "source": [
        "x = U[:,0]\n",
        "sp.linalg.norm(A @ x - Lam[0] * x)"
      ],
      "metadata": {
        "id": "1uciUdTmM6CY"
      },
      "execution_count": null,
      "outputs": []
    },
    {
      "cell_type": "code",
      "source": [
        "sp.linalg.norm(U @ U.T - np.eye(n))"
      ],
      "metadata": {
        "id": "J5IKOlCLNL3H"
      },
      "execution_count": null,
      "outputs": []
    },
    {
      "cell_type": "markdown",
      "source": [
        "Both eigenvector decompositions `eig` and `eigh` take $O(n^3)$ time for a $n\\times n$ matrix.\n",
        "\n",
        "Let us investigate which is faster in practice on a symmetric matrix."
      ],
      "metadata": {
        "id": "1K9pW1y4NN1B"
      }
    },
    {
      "cell_type": "code",
      "source": [
        "k = 7\n",
        "size = [2**(i+4) for i in range(k)]\n",
        "print(size)"
      ],
      "metadata": {
        "id": "WDc9Jn7LNOXS"
      },
      "execution_count": null,
      "outputs": []
    },
    {
      "cell_type": "code",
      "source": [
        "import time\n",
        "\n",
        "t_eig = np.zeros(k)\n",
        "t_eigh = np.zeros(k)\n",
        "\n",
        "\n",
        "for i in range(k):\n",
        "  n = 2**(i+4)\n",
        "  A = np.random.randn(n,n)\n",
        "  A = A + A.T\n",
        "\n",
        "  t_start = time.time()\n",
        "  _, X = sp.linalg.eig(A)\n",
        "  t_end = time.time()\n",
        "  t_eig[i] = t_end - t_start\n",
        "\n",
        "  t_start = time.time()\n",
        "  _, U = sp.linalg.eigh(A)\n",
        "  t_end = time.time()\n",
        "  t_eigh[i] = t_end - t_start"
      ],
      "metadata": {
        "id": "j6AzWXoZNRzR"
      },
      "execution_count": null,
      "outputs": []
    },
    {
      "cell_type": "code",
      "source": [
        "import matplotlib.pyplot as plt\n",
        "\n",
        "plt.plot(size, t_eig, label ='eig')\n",
        "plt.plot(size, t_eigh, label ='eigh')\n",
        "plt.xscale('log', base=2)\n",
        "plt.xlabel('size of matrix')\n",
        "plt.ylabel('time')\n",
        "plt.legend()\n",
        "plt.show()"
      ],
      "metadata": {
        "id": "t0ZZ33oZNT_4"
      },
      "execution_count": null,
      "outputs": []
    },
    {
      "cell_type": "markdown",
      "source": [
        "Solving $Ax = y$ translates to solving\n",
        "$$X \\Lambda X^{-1}x = y.$$\n",
        "Since $X$ is orthogonal, then $XX^T = X^TX = I$. Hence, we have\n",
        "$$x = X\\Lambda^{-1}X^Ty$$\n",
        "where $\\Lambda^{-1}$ is a diagonal matrix whose diagonal entries are the reciprocal of the eigenvalues.\n"
      ],
      "metadata": {
        "id": "ePiRzIk9NdMj"
      }
    },
    {
      "cell_type": "code",
      "source": [
        "def solve_eigh(A, y):\n",
        "  ''' solves Ax = y using eigenvalue decomposition with eigh '''\n",
        "  Lam, U = sp.linalg.eigh(A)\n",
        "  x = U @ np.diag(1/Lam) @ U.T @ y\n",
        "  return x"
      ],
      "metadata": {
        "id": "D0EGH3X2Ncqg"
      },
      "execution_count": null,
      "outputs": []
    },
    {
      "cell_type": "code",
      "source": [
        "import time\n",
        "\n",
        "time_lu = np.zeros(k)\n",
        "time_qr = np.zeros(k)\n",
        "time_eigh = np.zeros(k)\n",
        "\n",
        "for i in range(k):\n",
        "  n = 2**(i+4)\n",
        "  A = np.random.randn(n,n)\n",
        "  A = A + A.T\n",
        "  x = np.random.randn(n)\n",
        "  y = A @ x\n",
        "\n",
        "  t_start = time.time()\n",
        "  x = solve_lu(A,y)\n",
        "  t_end = time.time()\n",
        "  time_lu[i] = t_end - t_start\n",
        "\n",
        "  t_start = time.time()\n",
        "  x = solve_qr(A,y)\n",
        "  t_end = time.time()\n",
        "  time_qr[i] = t_end - t_start\n",
        "\n",
        "  t_start = time.time()\n",
        "  x = solve_eigh(A,y)\n",
        "  t_end = time.time()\n",
        "  time_eigh[i] = t_end - t_start"
      ],
      "metadata": {
        "id": "JGEo50jSNhDy"
      },
      "execution_count": null,
      "outputs": []
    },
    {
      "cell_type": "code",
      "source": [
        "import matplotlib.pyplot as plt\n",
        "\n",
        "plt.plot(size, time_lu, label ='LU')\n",
        "plt.plot(size, time_qr, label ='QR')\n",
        "plt.plot(size, time_eigh, label ='eigh')\n",
        "plt.xscale('log', base=2)\n",
        "plt.yscale('log', base=10)\n",
        "plt.xlabel('size of matrix')\n",
        "plt.ylabel('time')\n",
        "plt.legend()\n",
        "plt.show()"
      ],
      "metadata": {
        "id": "4J3GAp_rNkNX"
      },
      "execution_count": null,
      "outputs": []
    },
    {
      "cell_type": "markdown",
      "source": [
        "# Singular Value Decomposition (SVD)"
      ],
      "metadata": {
        "id": "kJfWB05wOV0D"
      }
    },
    {
      "cell_type": "markdown",
      "source": [
        "The singular value decomposition is an extremely useful practical and theoretical tool.  We can decompose a $m\\times n$ matrix $A$ as $A = U \\Sigma V^T$, where $U$ is a $m \\times m$ matrix with orthonormal columns (called left singular vectors), $V$ is a $n\\times n$ matrix with orthonormal columns (called right singular vectors), and $\\Sigma$ is a diagonal matrix with positive entries decreasing in magnitude (called singular values)."
      ],
      "metadata": {
        "id": "M5qhebPVOZ2X"
      }
    },
    {
      "cell_type": "markdown",
      "source": [
        "One way to visualize the action of a matrix is seeing how it maps the unit sphere.  The image is an ellipsoid, and the right singular vectors give the directions of the axes, and the singular values give the lengths of these axes."
      ],
      "metadata": {
        "id": "XEOMBHKkOjkX"
      }
    },
    {
      "cell_type": "code",
      "source": [
        "theta = np.linspace(0, 2*np.pi, num=200, endpoint=True)\n",
        "xx = np.vstack((np.cos(theta), np.sin(theta)))\n",
        "\n",
        "plt.plot(xx[0], xx[1])\n",
        "plt.axis('equal')\n",
        "plt.show()"
      ],
      "metadata": {
        "id": "-Kp2S7jQPSvc"
      },
      "execution_count": null,
      "outputs": []
    },
    {
      "cell_type": "code",
      "source": [
        "n = 2\n",
        "A = np.random.randn(n,n)\n",
        "U, S, Vt = sp.linalg.svd(A)\n",
        "\n",
        "print(U)\n",
        "print(U[0])\n",
        "print('singular values:', S)\n",
        "print(S*U[0])"
      ],
      "metadata": {
        "id": "RrgcutVAPzSz"
      },
      "execution_count": null,
      "outputs": []
    },
    {
      "cell_type": "code",
      "source": [
        "yy = A @ xx\n",
        "\n",
        "plt.plot(yy[0], yy[1])\n",
        "plt.scatter(S*U[0], S*U[1])\n",
        "plt.axis('equal')\n",
        "plt.show()"
      ],
      "metadata": {
        "id": "wq-qfe08OYaG"
      },
      "execution_count": null,
      "outputs": []
    },
    {
      "cell_type": "markdown",
      "source": [
        "Computing the SVD takes $O(n^3)$ time for a $n\\times n$ matrix, just like all the other matrix factorizations we've seen."
      ],
      "metadata": {
        "id": "4tknsHw8SaWP"
      }
    },
    {
      "cell_type": "code",
      "source": [
        "n = 1000\n",
        "A = np.random.randn(n, n//5)\n",
        "\n",
        "U, S, Vh = np.linalg.svd(A)\n",
        "print(U.shape, S.shape, Vh.shape)"
      ],
      "metadata": {
        "id": "x06tRMIlOoFb"
      },
      "execution_count": null,
      "outputs": []
    },
    {
      "cell_type": "code",
      "source": [
        "U, S, Vh = np.linalg.svd(A, full_matrices=False)\n",
        "print(U.shape, S.shape, Vh.shape)"
      ],
      "metadata": {
        "id": "q9Vz65i5SfBX"
      },
      "execution_count": null,
      "outputs": []
    },
    {
      "cell_type": "markdown",
      "source": [
        "Using `scipy`:"
      ],
      "metadata": {
        "id": "L8LN8vsjShB-"
      }
    },
    {
      "cell_type": "code",
      "source": [
        "U, S, Vh = sp.linalg.svd(A)\n",
        "print(U.shape, S.shape, Vh.shape)"
      ],
      "metadata": {
        "id": "b4CAA6HuShcX"
      },
      "execution_count": null,
      "outputs": []
    },
    {
      "cell_type": "code",
      "source": [
        "U, S, Vh = sp.linalg.svd(A, full_matrices = False)\n",
        "print(U.shape, S.shape, Vh.shape)\n",
        "\n",
        "sp.linalg.norm(U @ np.diag(S) @ Vh  - A)"
      ],
      "metadata": {
        "id": "gk_eQZN5Skm5"
      },
      "execution_count": null,
      "outputs": []
    },
    {
      "cell_type": "markdown",
      "source": [
        "Define a function that solves linear system $Ax = y$ using SVD"
      ],
      "metadata": {
        "id": "YCUX52AMSlZp"
      }
    },
    {
      "cell_type": "code",
      "source": [
        "def solve_svd(A, y):\n",
        "  ''' solves Ax = y using SVD '''\n",
        "  U, S, Vh = sp.linalg.svd(A, full_matrices = False)\n",
        "  x = Vh.T @ np.diag(1/S) @ U.T @ y\n",
        "  return x"
      ],
      "metadata": {
        "id": "zB2JdgxwSnMP"
      },
      "execution_count": null,
      "outputs": []
    },
    {
      "cell_type": "code",
      "source": [
        "x = np.random.randn(n//5)\n",
        "y = A @ x\n",
        "x_svd = solve_svd(A,y)\n",
        "sp.linalg.norm(x_svd - x)"
      ],
      "metadata": {
        "id": "HNNEaj5FSqYu"
      },
      "execution_count": null,
      "outputs": []
    },
    {
      "cell_type": "markdown",
      "source": [
        "## Least Squares Data Fitting\n",
        "\n"
      ],
      "metadata": {
        "id": "UhEWBts0ppAw"
      }
    },
    {
      "cell_type": "markdown",
      "source": [
        "SVD can also be used to solve least-squares problems.\n",
        "\n",
        "Consider the problem of fitting a model to data in order to reduce the effects of noise in the measurements.\n"
      ],
      "metadata": {
        "id": "Yw2MZyU0pj6j"
      }
    },
    {
      "cell_type": "code",
      "source": [
        "n = 100\n",
        "t = np.linspace(0,10,n)\n",
        "y = 2*t + 3 + np.random.randn(n); # noisy data\n",
        "\n",
        "plt.plot(t,y,'r.')\n",
        "plt.show()"
      ],
      "metadata": {
        "id": "54HzYI0TpkRR"
      },
      "execution_count": null,
      "outputs": []
    },
    {
      "cell_type": "code",
      "source": [
        "A = np.ones((n,2))\n",
        "A[:,0] = t\n",
        "\n",
        "x = solve_svd(A, y)\n",
        "\n",
        "plt.plot(t, y, 'r.')\n",
        "plt.plot(t, A @ x, 'b')\n",
        "plt.show()"
      ],
      "metadata": {
        "id": "EqpYjbKWp2vp"
      },
      "execution_count": null,
      "outputs": []
    },
    {
      "cell_type": "markdown",
      "source": [
        "## Multilinear Regression"
      ],
      "metadata": {
        "id": "amptK2gXp766"
      }
    },
    {
      "cell_type": "markdown",
      "source": [
        "Consider the same cement problem."
      ],
      "metadata": {
        "id": "QWHyDtXZp-o_"
      }
    },
    {
      "cell_type": "code",
      "source": [
        "A = np.loadtxt('hald_ingredients.csv',delimiter=',')\n",
        "y = np.loadtxt('hald_heat.csv',delimiter=',')\n",
        "\n",
        "x_qr  = solve_qr(A, y)\n",
        "x_svd = solve_svd(A, y)"
      ],
      "metadata": {
        "id": "Zr-MLpeep-2z"
      },
      "execution_count": null,
      "outputs": []
    },
    {
      "cell_type": "code",
      "source": [
        "plt.plot(y, 'k', label='heat data')\n",
        "plt.plot(A @ x_qr, 'b', label='QR')\n",
        "plt.plot(A @ x_svd, 'r', label='SVD')\n",
        "plt.xlabel('cement mixtures')\n",
        "plt.ylabel('heat')\n",
        "plt.legend()\n",
        "plt.show()"
      ],
      "metadata": {
        "id": "QE5lc5S3qEi7"
      },
      "execution_count": null,
      "outputs": []
    }
  ]
}