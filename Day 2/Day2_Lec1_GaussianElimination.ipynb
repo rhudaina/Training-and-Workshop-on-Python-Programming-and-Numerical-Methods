{
  "nbformat": 4,
  "nbformat_minor": 0,
  "metadata": {
    "colab": {
      "provenance": []
    },
    "kernelspec": {
      "name": "python3",
      "display_name": "Python 3"
    },
    "language_info": {
      "name": "python"
    }
  },
  "cells": [
    {
      "cell_type": "code",
      "source": [
        "import numpy as np"
      ],
      "metadata": {
        "id": "O5MOUPM88UY0"
      },
      "execution_count": null,
      "outputs": []
    },
    {
      "cell_type": "markdown",
      "source": [
        "# Naive Gauss Elimination"
      ],
      "metadata": {
        "id": "Tw1ixYbG8QM5"
      }
    },
    {
      "cell_type": "markdown",
      "source": [
        "Find $x = (x_1, x_2,x_3,x_4)$ such that\n",
        "\n",
        "$$\\left\\{\n",
        "\\begin{array}{rcrcrcrc}\n",
        "x_1 & - & x_2 & +  & 2x_3  & - & x_4 & = & -8\\\\\n",
        "x_1& + & x_2 & + & x_3 &  & & = & -2\\\\\n",
        "2x_1& - & 2x_2 & + & 3x_3 & - & 3x_4 & = & -20\\\\\n",
        "x_1& - & x_2& + & 4x_3 & + & 3x_4 & = & 4\n",
        "\\end{array}\n",
        "\\right.$$\n",
        "\n",
        "Show, by hand, that the solution is $x = (-7, 3, 2, 2)$"
      ],
      "metadata": {
        "id": "Gmd5g9438tDw"
      }
    },
    {
      "cell_type": "code",
      "source": [
        "A = np.array([[1, -1, 2, -1],\n",
        "              [1,  1, 1,  0],\n",
        "              [2, -2, 3, -3],\n",
        "              [1, -1, 4,  3]])\n",
        "print('A =\\n', A)\n",
        "\n",
        "y = np.array([-8, -2, -20, 4])\n",
        "print('y =\\n', y)"
      ],
      "metadata": {
        "id": "Zb7dU1RH8q50"
      },
      "execution_count": null,
      "outputs": []
    },
    {
      "cell_type": "markdown",
      "source": [
        "Construct the augmented matrix."
      ],
      "metadata": {
        "id": "jW8aGMegK6N8"
      }
    },
    {
      "cell_type": "code",
      "source": [
        "n,col = A.shape\n",
        "\n",
        "Aug = np.zeros((n,n+1))\n",
        "Aug[:,0:n] = A\n",
        "Aug[:,-1] = y\n",
        "\n",
        "print(Aug)"
      ],
      "metadata": {
        "id": "lZwMVhB-K14U"
      },
      "execution_count": null,
      "outputs": []
    },
    {
      "cell_type": "markdown",
      "source": [
        "Elimination step"
      ],
      "metadata": {
        "id": "s_98t3dhLD4-"
      }
    },
    {
      "cell_type": "code",
      "source": [
        "for i in range(n-1):\n",
        "  for j in range(i+1,n):\n",
        "    m = Aug[j,i]/Aug[i,i]\n",
        "    Aug[j,i:n+1] = Aug[j,i:n+1] - m*Aug[i,i:n+1]\n",
        "  print('Row',i+1,':\\n', Aug)"
      ],
      "metadata": {
        "id": "NyjJ5TiKLFa4"
      },
      "execution_count": null,
      "outputs": []
    },
    {
      "cell_type": "markdown",
      "source": [
        "Backward substitution"
      ],
      "metadata": {
        "id": "U-qFrl9XMUdC"
      }
    },
    {
      "cell_type": "code",
      "source": [
        "x = np.zeros(n)\n",
        "x[-1] = Aug[-1,-1]/Aug[-1,-2]\n",
        "for i in range(n-2,-1,-1):\n",
        "  x[i] = (Aug[i,-1] - sum(Aug[i,i:n]*x[i:n]))/Aug[i,i]\n",
        "print('Solution:', x)"
      ],
      "metadata": {
        "id": "PStnIdZyMOjm"
      },
      "execution_count": null,
      "outputs": []
    },
    {
      "cell_type": "markdown",
      "source": [
        "# Gauss Elimination with Partial Pivoting"
      ],
      "metadata": {
        "id": "dE8HWnjYHpDo"
      }
    },
    {
      "cell_type": "markdown",
      "source": [
        "Consider the linear system\n",
        "\n",
        "$$\\left\\{\n",
        "\\begin{array}{rcrcrcrc}\n",
        "x_1 & - & x_2 & +  & 2x_3  & - & x_4 & = & -8\\\\\n",
        "2x_1& - & 2x_2 & + & 3x_3 & - & 3x_4 & = & -20\\\\\n",
        "x_1& + & x_2 & + & x_3 &  & & = & -2\\\\\n",
        "x_1& - & x_2& + & 4x_3 & + & 3x_4 & = & 4\n",
        "\\end{array}\n",
        "\\right.$$\n",
        "\n",
        "The solution is $x = (-7, 3, 2, 2)$"
      ],
      "metadata": {
        "id": "Ydb6bA34HsvX"
      }
    },
    {
      "cell_type": "code",
      "source": [
        "A = np.array([[1, -1, 2, -1],\n",
        "              [2, -2, 3, -3],\n",
        "              [1,  1, 1,  0],\n",
        "              [1, -1, 4,  3]])\n",
        "print('A =\\n', A)\n",
        "\n",
        "y = np.array([-8, -20, -2, 4])\n",
        "print('y =\\n', y)"
      ],
      "metadata": {
        "id": "my1BwuIiHrZy"
      },
      "execution_count": null,
      "outputs": []
    },
    {
      "cell_type": "markdown",
      "source": [
        "Construct the augmented matrix"
      ],
      "metadata": {
        "id": "n46CFwiwN_EA"
      }
    },
    {
      "cell_type": "code",
      "source": [
        "n,col = A.shape\n",
        "\n",
        "Aug = np.zeros((n,n+1))\n",
        "Aug[:,0:n] = A\n",
        "Aug[:,-1] = y\n",
        "\n",
        "print(Aug)"
      ],
      "metadata": {
        "id": "NKVZMiglOAtx"
      },
      "execution_count": null,
      "outputs": []
    },
    {
      "cell_type": "markdown",
      "source": [
        "Elimination step with partial pivoting"
      ],
      "metadata": {
        "id": "sY8WJeZaMe1X"
      }
    },
    {
      "cell_type": "code",
      "source": [
        "for i in range(n-1):\n",
        "  # partial pivoting\n",
        "  p = i\n",
        "  for k in range(i,n):\n",
        "    if Aug[k,i] > Aug[p,i]:\n",
        "      p = k\n",
        "  Aug[[p,i]] = Aug[[i,p]] # swap rows\n",
        "  for j in range(i+1,n):\n",
        "    m = Aug[j,i]/Aug[i,i]\n",
        "    Aug[j,i:n+1] = Aug[j,i:n+1] - m*Aug[i,i:n+1]\n",
        "  print('Row',i+1,':\\n', Aug)"
      ],
      "metadata": {
        "id": "I-jKJBXZMgxa"
      },
      "execution_count": null,
      "outputs": []
    },
    {
      "cell_type": "markdown",
      "source": [
        "Backward substitution"
      ],
      "metadata": {
        "id": "UlPzwy5XOOG1"
      }
    },
    {
      "cell_type": "code",
      "source": [
        "x = np.zeros(n)\n",
        "x[-1] = Aug[-1,-1]/Aug[-1,-2]\n",
        "for i in range(n-2,-1,-1):\n",
        "  x[i] = (Aug[i,-1] - sum(Aug[i,i:n]*x[i:n]))/Aug[i,i]\n",
        "print('Solution:', x)"
      ],
      "metadata": {
        "id": "yNNtrFhMH4Sr"
      },
      "execution_count": null,
      "outputs": []
    },
    {
      "cell_type": "markdown",
      "source": [
        "# Computational Cost"
      ],
      "metadata": {
        "id": "0D7U7iPIUFPO"
      }
    },
    {
      "cell_type": "code",
      "source": [
        "def gauss(A,y):\n",
        "  n,col = A.shape\n",
        "\n",
        "  Aug = np.zeros((n,n+1))\n",
        "  Aug[:,0:n] = A\n",
        "  Aug[:,-1] = y\n",
        "\n",
        "  for i in range(n-1):\n",
        "    # partial pivoting\n",
        "    p = i\n",
        "    for k in range(i,n):\n",
        "      if Aug[k,i] > Aug[p,i]:\n",
        "        p = k\n",
        "    Aug[[p,i]] = Aug[[i,p]] # swap rows\n",
        "    for j in range(i+1,n):\n",
        "      m = Aug[j,i]/Aug[i,i]\n",
        "      Aug[j,i:n+1] = Aug[j,i:n+1] - m*Aug[i,i:n+1]\n",
        "  x = np.zeros(n)\n",
        "  x[-1] = Aug[-1,-1]/Aug[-1,-2]\n",
        "  for i in range(n-2,-1,-1):\n",
        "    x[i] = (Aug[i,-1] - sum(Aug[i,i:n]*x[i:n]))/Aug[i,i]\n",
        "  return x"
      ],
      "metadata": {
        "id": "GUxuhZo6PEIU"
      },
      "execution_count": null,
      "outputs": []
    },
    {
      "cell_type": "code",
      "source": [
        "n = 100\n",
        "A = 0.1*np.random.randn(n,n)\n",
        "y = np.random.randn(n)\n",
        "np.linalg.det(A)"
      ],
      "metadata": {
        "id": "gopYc0mdO1xx"
      },
      "execution_count": null,
      "outputs": []
    },
    {
      "cell_type": "code",
      "source": [
        "%timeit gauss(A,y)"
      ],
      "metadata": {
        "id": "hnDK9JqnRDe2"
      },
      "execution_count": null,
      "outputs": []
    },
    {
      "cell_type": "markdown",
      "source": [
        "# Hands-on Activity\n",
        "\n"
      ],
      "metadata": {
        "id": "rTuCFbn9Vc_9"
      }
    },
    {
      "cell_type": "markdown",
      "source": [
        "Write a code that solves a given linear system using Gauss-Jordan method. Using your code, solve the linear system\n",
        "\n",
        "$$\\left\\{\n",
        "\\begin{array}{rcrcrcrc}\n",
        "x_1 & - & x_2 & +  & 2x_3  & - & x_4 & = & -8\\\\\n",
        "2x_1& - & 2x_2 & + & 3x_3 & - & 3x_4 & = & -20\\\\\n",
        "x_1& + & x_2 & + & x_3 &  & & = & -2\\\\\n",
        "x_1& - & x_2& + & 4x_3 & + & 3x_4 & = & 4\n",
        "\\end{array}\n",
        "\\right.$$\n",
        "\n",
        "Which is computationally cheaper: Gaussian elimination or Gauss-Jordan method?"
      ],
      "metadata": {
        "id": "cJzX5T0_pK_u"
      }
    },
    {
      "cell_type": "code",
      "source": [
        "# Write your code here.\n"
      ],
      "metadata": {
        "id": "RYfXhV2o4cjo"
      },
      "execution_count": null,
      "outputs": []
    },
    {
      "cell_type": "markdown",
      "source": [
        "# Try this!\n",
        "\n",
        "\n",
        "\n"
      ],
      "metadata": {
        "id": "hefUkOCpwLJv"
      }
    },
    {
      "cell_type": "markdown",
      "source": [
        "Write a code that outputs the determinant of a given square matrix using Gauss elimination or Gauss-Jordan method."
      ],
      "metadata": {
        "id": "Hg43ryWXpNl5"
      }
    },
    {
      "cell_type": "code",
      "source": [
        "# Write your code here.\n"
      ],
      "metadata": {
        "id": "zUTqHwr8wrqr"
      },
      "execution_count": null,
      "outputs": []
    }
  ]
}