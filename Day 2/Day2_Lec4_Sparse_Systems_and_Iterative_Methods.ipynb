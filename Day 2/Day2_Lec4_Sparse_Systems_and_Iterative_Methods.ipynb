{
  "nbformat": 4,
  "nbformat_minor": 0,
  "metadata": {
    "colab": {
      "provenance": []
    },
    "kernelspec": {
      "name": "python3",
      "display_name": "Python 3"
    },
    "language_info": {
      "name": "python"
    }
  },
  "cells": [
    {
      "cell_type": "code",
      "execution_count": null,
      "metadata": {
        "id": "gAZT1GVdJjFC"
      },
      "outputs": [],
      "source": [
        "import numpy as np\n",
        "import scipy as sp\n",
        "import time\n",
        "import matplotlib.pyplot as plt"
      ]
    },
    {
      "cell_type": "markdown",
      "source": [
        "# Sparse Matrix Formats"
      ],
      "metadata": {
        "id": "du0X3xaFKtra"
      }
    },
    {
      "cell_type": "markdown",
      "source": [
        "Scipy provides several standard types of sparse matrices in `scipy.sparse`.  See the [documentation](https://docs.scipy.org/doc/scipy/reference/sparse.html#sparse-matrix-classes).\n"
      ],
      "metadata": {
        "id": "CjntoVwzKwT7"
      }
    },
    {
      "cell_type": "markdown",
      "source": [
        "## COOrdinate Format"
      ],
      "metadata": {
        "id": "GYjUYfeAKzOX"
      }
    },
    {
      "cell_type": "code",
      "source": [
        "row = [ 0,  0,  1,  1,  2,  2,  2,  3]\n",
        "col = [ 0,  1,  1,  3,  2,  3,  4,  5]\n",
        "val = [10, 20, 30, 40, 50, 60, 70, 80]\n",
        "\n",
        "S = sp.sparse.coo_matrix((val, (row,col)), shape=(4,6))\n",
        "print(S)"
      ],
      "metadata": {
        "id": "4jsELcdOKwx6"
      },
      "execution_count": null,
      "outputs": []
    },
    {
      "cell_type": "markdown",
      "source": [
        "Using `toarray` command, one can convert sparse matrix format to a dense array."
      ],
      "metadata": {
        "id": "n8lqpivCMYFN"
      }
    },
    {
      "cell_type": "code",
      "source": [
        "S.toarray()"
      ],
      "metadata": {
        "id": "xf3EWJoGMXFa"
      },
      "execution_count": null,
      "outputs": []
    },
    {
      "cell_type": "markdown",
      "source": [
        "One can visualize the sparsity pattern using PyPlot's `spy` function (this is particularly useful for large sparse matrices)"
      ],
      "metadata": {
        "id": "NziT1d0VMz5_"
      }
    },
    {
      "cell_type": "code",
      "source": [
        "plt.spy(S)\n",
        "plt.show()"
      ],
      "metadata": {
        "id": "CEShqzHzM18D"
      },
      "execution_count": null,
      "outputs": []
    },
    {
      "cell_type": "markdown",
      "source": [
        "## Compressed Sparse Row Formats"
      ],
      "metadata": {
        "id": "haeZYX4MOmrh"
      }
    },
    {
      "cell_type": "code",
      "source": [
        "val = [10, 20, 30, 40, 50, 60, 70, 80]\n",
        "col = [ 0,  1,  1,  3,  2,  3,  4,  5]\n",
        "row_ptr = [ 0,  2,  4,  7,  8]\n",
        "\n",
        "S = sp.sparse.csr_matrix((val, col, row_ptr), shape=(4,6))\n",
        "print(S)"
      ],
      "metadata": {
        "id": "4sN3W50AODok"
      },
      "execution_count": null,
      "outputs": []
    },
    {
      "cell_type": "code",
      "source": [
        "S.toarray()"
      ],
      "metadata": {
        "id": "S2t6PXOKbVrp"
      },
      "execution_count": null,
      "outputs": []
    },
    {
      "cell_type": "code",
      "source": [
        "S"
      ],
      "metadata": {
        "id": "UNq_dstfdHHn"
      },
      "execution_count": null,
      "outputs": []
    },
    {
      "cell_type": "markdown",
      "source": [
        "## Changing Formats\n",
        "\n",
        "To convert between sparse matrix formats, you can use `tocsr`, `tocoo`, etc."
      ],
      "metadata": {
        "id": "gdzGR6fRc0Xa"
      }
    },
    {
      "cell_type": "code",
      "source": [
        "A = S.tocoo()\n",
        "A"
      ],
      "metadata": {
        "id": "FqbXBTLtc3NQ"
      },
      "execution_count": null,
      "outputs": []
    },
    {
      "cell_type": "code",
      "source": [
        "B = A.tocsr()\n",
        "B"
      ],
      "metadata": {
        "id": "LqimPJq7dP4Y"
      },
      "execution_count": null,
      "outputs": []
    },
    {
      "cell_type": "markdown",
      "source": [
        "## Saving and Loading Sparse Matrices"
      ],
      "metadata": {
        "id": "TJJkuw8Lf7NE"
      }
    },
    {
      "cell_type": "code",
      "source": [
        "data = np.loadtxt('1138_bus.mtx', comments='%') # skip any rows that begin with `%`\n",
        "data.shape"
      ],
      "metadata": {
        "id": "X3tz8Qfzf8BP"
      },
      "execution_count": null,
      "outputs": []
    },
    {
      "cell_type": "markdown",
      "source": [
        "The first non-comment row contains the size of the matrix, so we can handle it separately."
      ],
      "metadata": {
        "id": "VZ4nQ8MrgHDx"
      }
    },
    {
      "cell_type": "code",
      "source": [
        "m, n = int(data[0,0]), int(data[0,1])\n",
        "data = data[1:]\n",
        "print(m,n)"
      ],
      "metadata": {
        "id": "hDUVc1_-gD7_"
      },
      "execution_count": null,
      "outputs": []
    },
    {
      "cell_type": "markdown",
      "source": [
        "Note that indices in matrix market format `.mtx` begin at 1."
      ],
      "metadata": {
        "id": "lEYYl3KdgMMf"
      }
    },
    {
      "cell_type": "code",
      "source": [
        "rows = data[:,0] - 1\n",
        "cols = data[:,1] - 1\n",
        "vals = data[:,2]\n",
        "A = sp.sparse.coo_matrix((vals, (rows, cols)), shape=(m,n))\n",
        "\n",
        "plt.spy(A)\n",
        "plt.show()"
      ],
      "metadata": {
        "id": "KmxLAcstgGQB"
      },
      "execution_count": null,
      "outputs": []
    },
    {
      "cell_type": "markdown",
      "source": [
        "## Sparse vs Dense"
      ],
      "metadata": {
        "id": "BUeHRHYzh0av"
      }
    },
    {
      "cell_type": "markdown",
      "source": [
        "Let us look at the difference between using the sparse matrix and a dense matrix for matrix-vector multiplications."
      ],
      "metadata": {
        "id": "Cu50OQSCg1DT"
      }
    },
    {
      "cell_type": "code",
      "source": [
        "n = 100\n",
        "x = np.random.randn(n)\n",
        "A = sp.sparse.random(n, n, 0.01) + sp.sparse.eye(n)\n",
        "A"
      ],
      "metadata": {
        "id": "bOKRuQoYifjm"
      },
      "execution_count": null,
      "outputs": []
    },
    {
      "cell_type": "code",
      "source": [
        "plt.spy(A)\n",
        "plt.show()"
      ],
      "metadata": {
        "id": "1mvUI-vliiOX"
      },
      "execution_count": null,
      "outputs": []
    },
    {
      "cell_type": "code",
      "source": [
        "y = np.empty_like(x)\n",
        "\n",
        "t_start = time.time()\n",
        "y = A @ x\n",
        "t_end = time.time()\n",
        "tcsr = t_end - t_start\n",
        "print(\"time for CSR multiply: %f sec\" % tcsr)"
      ],
      "metadata": {
        "id": "xMgDae8ig1Yx"
      },
      "execution_count": null,
      "outputs": []
    },
    {
      "cell_type": "code",
      "source": [
        "Adense = A.todense()\n",
        "\n",
        "t_start = time.time()\n",
        "y = Adense @ x\n",
        "t_end = time.time()\n",
        "tdense = t_end - t_start\n",
        "print(\"time for dense multiply: %f sec\\n\" % tdense)\n",
        "\n",
        "print(\"CSR is %f times faster\" % (tdense / tcsr))"
      ],
      "metadata": {
        "id": "ZWAA83d-hCy4"
      },
      "execution_count": null,
      "outputs": []
    },
    {
      "cell_type": "markdown",
      "source": [
        "## Sparse Linear Algebra"
      ],
      "metadata": {
        "id": "5NArwoGxhrCf"
      }
    },
    {
      "cell_type": "markdown",
      "source": [
        "Routines for sparse linear algebra are found in `scipy.sparse.linalg`. In particular, function [`scipy.linalg.splu`](https://docs.scipy.org/doc/scipy/reference/generated/scipy.sparse.linalg.splu.html#scipy.sparse.linalg.splu) (SParse LU) an LU factorization to solve linear sparse systems."
      ],
      "metadata": {
        "id": "2S4pEj5hjCq8"
      }
    },
    {
      "cell_type": "code",
      "source": [
        "A = A.tocsc() # need to convert to CSC form first\n",
        "LU = sp.sparse.linalg.splu(A)\n",
        "LU"
      ],
      "metadata": {
        "id": "W9A2XEGkhrWX"
      },
      "execution_count": null,
      "outputs": []
    },
    {
      "cell_type": "code",
      "source": [
        "y = A @ x\n",
        "\n",
        "x2 = LU.solve(y)\n",
        "print(np.linalg.norm(x2 - x))"
      ],
      "metadata": {
        "id": "PR7o1lPRh-Pw"
      },
      "execution_count": null,
      "outputs": []
    },
    {
      "cell_type": "markdown",
      "source": [
        "One can also use `scipy.sparse.linalg.spsolve` function, which wraps this factorization."
      ],
      "metadata": {
        "id": "1ZkjZ1Sqjtuj"
      }
    },
    {
      "cell_type": "code",
      "source": [
        "t_start = time.time()\n",
        "x2 = sp.sparse.linalg.spsolve(A, y)\n",
        "t_end = time.time()\n",
        "\n",
        "print(\"elapsed time:\", t_end - t_start, \"sec\")\n",
        "print(np.linalg.norm(x2 - x))"
      ],
      "metadata": {
        "id": "hYmU1HS1jqKX"
      },
      "execution_count": null,
      "outputs": []
    },
    {
      "cell_type": "markdown",
      "source": [
        "# Iterative Methods"
      ],
      "metadata": {
        "id": "7-SOnFWCj5NR"
      }
    },
    {
      "cell_type": "markdown",
      "source": [
        "Generate a large sparse random matrix $A$."
      ],
      "metadata": {
        "id": "vnN6ep2Oj_1-"
      }
    },
    {
      "cell_type": "code",
      "source": [
        "n = 1000\n",
        "A = sp.sparse.random(n, n, density=0.0001, format='csr') + sp.sparse.eye(n, format='csr') * n\n",
        "\n",
        "plt.spy(A)\n",
        "plt.show()"
      ],
      "metadata": {
        "id": "VLjlYFBKj9k1"
      },
      "execution_count": null,
      "outputs": []
    },
    {
      "cell_type": "code",
      "source": [
        "x = np.random.rand(n)\n",
        "y = A @ x"
      ],
      "metadata": {
        "id": "BIiOg5qlkDla"
      },
      "execution_count": null,
      "outputs": []
    },
    {
      "cell_type": "markdown",
      "source": [
        "## Jacobi Iteration"
      ],
      "metadata": {
        "id": "N5FShGqykx1n"
      }
    },
    {
      "cell_type": "markdown",
      "source": [
        "## Dense Matrix"
      ],
      "metadata": {
        "id": "h8aJGit4yYRp"
      }
    },
    {
      "cell_type": "code",
      "source": [
        "def solve_jacobi(A, y, x0, TOL=1.0e-7, maxIter=1000):\n",
        "  n = len(y)\n",
        "  Dinv = np.diag(1.0 / np.diag(A))\n",
        "  for k in range(maxIter):\n",
        "    ALU = np.tril(A,-1) + np.triu(A,1)\n",
        "    x = y - (ALU @ x0)\n",
        "    x = Dinv @ x\n",
        "\n",
        "    if np.linalg.norm(x-x0)<TOL:\n",
        "      break\n",
        "    x0 = x\n",
        "\n",
        "  if k == maxIter-1:\n",
        "    print('\\nMaximum number of iterations reached!')\n",
        "\n",
        "  return x"
      ],
      "metadata": {
        "id": "tscuZpEgx1-n"
      },
      "execution_count": null,
      "outputs": []
    },
    {
      "cell_type": "code",
      "source": [
        "Adense = A.todense()\n",
        "x0 = np.ones(n)   # initial guess\n",
        "\n",
        "t_start = time.time()\n",
        "x1 = solve_jacobi(Adense, y, x0)\n",
        "t_end = time.time()\n",
        "\n",
        "print(\"elapsed time:\", t_end - t_start, \"sec\")\n",
        "print(np.linalg.norm(x1 - x))"
      ],
      "metadata": {
        "id": "CS8OX3Mxk2r5"
      },
      "execution_count": null,
      "outputs": []
    },
    {
      "cell_type": "markdown",
      "source": [
        "## Sparse Matrix"
      ],
      "metadata": {
        "id": "23TH8wAZydvo"
      }
    },
    {
      "cell_type": "code",
      "source": [
        "def solve_jacobi_csr(A, y, x0, TOL=1.0e-7, maxIter=1000):\n",
        "  n = len(y)\n",
        "  Dinv = sp.sparse.diags(1.0 / A.diagonal(), 0, format='csr')\n",
        "  for k in range(maxIter):\n",
        "    ALU = sp.sparse.tril(A,-1,'csr') + sp.sparse.triu(A,1,'csr')\n",
        "    x = y - (ALU @ x0)\n",
        "    x = Dinv @ x\n",
        "\n",
        "    if np.linalg.norm(x-x0)<TOL:\n",
        "      break\n",
        "    x0 = x\n",
        "\n",
        "  if k > maxIter:\n",
        "    print('\\nMaximum number of iterations reached!', np.linalg.norm(x-x0))\n",
        "\n",
        "  return x"
      ],
      "metadata": {
        "id": "U5st01iMwIVl"
      },
      "execution_count": null,
      "outputs": []
    },
    {
      "cell_type": "code",
      "source": [
        "t_start = time.time()\n",
        "x2 = solve_jacobi_csr(A, y, x0)\n",
        "t_end = time.time()\n",
        "\n",
        "print(\"elapsed time:\", t_end - t_start, \"sec\")\n",
        "print(np.linalg.norm(x2 - x))"
      ],
      "metadata": {
        "id": "Xmny2ahtvCRs"
      },
      "execution_count": null,
      "outputs": []
    },
    {
      "cell_type": "markdown",
      "source": [
        "## Tridiagonal System"
      ],
      "metadata": {
        "id": "QjAkJt3T1h3z"
      }
    },
    {
      "cell_type": "code",
      "source": [
        "n = 200\n",
        "\n",
        "a = np.full(n, 1)\n",
        "b = np.full(n, 2)\n",
        "A = sp.sparse.spdiags([a,b,a], [-1,0,1],n,n,format='csr') + sp.sparse.random(n, n, density=0.001, format='csr')\n",
        "plt.spy(A)\n",
        "plt.show()"
      ],
      "metadata": {
        "id": "vTCnjZcA1ktt"
      },
      "execution_count": null,
      "outputs": []
    },
    {
      "cell_type": "code",
      "source": [
        "u0 = np.zeros(n)\n",
        "y = np.random.random(n)\n",
        "\n",
        "u = solve_jacobi_csr(A, y, u0)\n",
        "plt.plot(u)\n",
        "plt.show()"
      ],
      "metadata": {
        "id": "LQWKNOKc3G-T"
      },
      "execution_count": null,
      "outputs": []
    },
    {
      "cell_type": "markdown",
      "source": [
        "# Try this!\n",
        "\n",
        "Write a code that implements Gauss-Seidel Method. Generate a \"noisy\" tridiagonal matrix $A$ of your choice, and a random vector $y$. Use your code, to solve linear system $Ax = y$, and plot your solution.\n"
      ],
      "metadata": {
        "id": "ZhJSlG9MDQ4O"
      }
    },
    {
      "cell_type": "code",
      "source": [],
      "metadata": {
        "id": "PYYRBPh1DQjm"
      },
      "execution_count": null,
      "outputs": []
    }
  ]
}