{
  "nbformat": 4,
  "nbformat_minor": 0,
  "metadata": {
    "colab": {
      "provenance": []
    },
    "kernelspec": {
      "name": "python3",
      "display_name": "Python 3"
    },
    "language_info": {
      "name": "python"
    }
  },
  "cells": [
    {
      "cell_type": "code",
      "source": [
        "import numpy as np"
      ],
      "metadata": {
        "id": "O5MOUPM88UY0"
      },
      "execution_count": 1,
      "outputs": []
    },
    {
      "cell_type": "markdown",
      "source": [
        "# Naive Gauss Elimination"
      ],
      "metadata": {
        "id": "Tw1ixYbG8QM5"
      }
    },
    {
      "cell_type": "markdown",
      "source": [
        "Find $x = (x_1, x_2,x_3,x_4)$ such that\n",
        "\n",
        "$$\\left\\{\n",
        "\\begin{array}{rcrcrcrc}\n",
        "x_1 & - & x_2 & +  & 2x_3  & - & x_4 & = & -8\\\\\n",
        "x_1& + & x_2 & + & x_3 &  & & = & -2\\\\\n",
        "2x_1& - & 2x_2 & + & 3x_3 & - & 3x_4 & = & -20\\\\\n",
        "x_1& - & x_2& + & 4x_3 & + & 3x_4 & = & 4\n",
        "\\end{array}\n",
        "\\right.$$\n",
        "\n",
        "Show, by hand, that the solution is $x = (-7, 3, 2, 2)$"
      ],
      "metadata": {
        "id": "Gmd5g9438tDw"
      }
    },
    {
      "cell_type": "code",
      "source": [
        "A = np.array([[1, -1, 2, -1],\n",
        "              [1,  1, 1,  0],\n",
        "              [2, -2, 3, -3],\n",
        "              [1, -1, 4,  3]])\n",
        "print('A =\\n', A)\n",
        "\n",
        "y = np.array([-8, -2, -20, 4])\n",
        "print('y =\\n', y)"
      ],
      "metadata": {
        "id": "Zb7dU1RH8q50",
        "colab": {
          "base_uri": "https://localhost:8080/"
        },
        "outputId": "e1232737-44bb-47b9-aff2-d0b3053ff028"
      },
      "execution_count": 9,
      "outputs": [
        {
          "output_type": "stream",
          "name": "stdout",
          "text": [
            "A =\n",
            " [[ 1 -1  2 -1]\n",
            " [ 1  1  1  0]\n",
            " [ 2 -2  3 -3]\n",
            " [ 1 -1  4  3]]\n",
            "y =\n",
            " [ -8  -2 -20   4]\n"
          ]
        }
      ]
    },
    {
      "cell_type": "markdown",
      "source": [
        "Construct the augmented matrix."
      ],
      "metadata": {
        "id": "jW8aGMegK6N8"
      }
    },
    {
      "cell_type": "code",
      "source": [
        "n,col = A.shape\n",
        "\n",
        "Aug = np.zeros((n,n+1))\n",
        "Aug[:,0:n] = A\n",
        "Aug[:,-1] = y\n",
        "\n",
        "print(Aug)"
      ],
      "metadata": {
        "id": "lZwMVhB-K14U",
        "colab": {
          "base_uri": "https://localhost:8080/"
        },
        "outputId": "f47f1f6f-976f-4482-b7ce-62ec72c5a87b"
      },
      "execution_count": 10,
      "outputs": [
        {
          "output_type": "stream",
          "name": "stdout",
          "text": [
            "[[  1.  -1.   2.  -1.  -8.]\n",
            " [  1.   1.   1.   0.  -2.]\n",
            " [  2.  -2.   3.  -3. -20.]\n",
            " [  1.  -1.   4.   3.   4.]]\n"
          ]
        }
      ]
    },
    {
      "cell_type": "markdown",
      "source": [
        "Elimination step"
      ],
      "metadata": {
        "id": "s_98t3dhLD4-"
      }
    },
    {
      "cell_type": "code",
      "source": [
        "for i in range(n-1):\n",
        "  for j in range(i+1,n):\n",
        "    m = Aug[j,i]/Aug[i,i]\n",
        "    Aug[j,i:n+1] = Aug[j,i:n+1] - m*Aug[i,i:n+1]\n",
        "  print('Row',i+1,':\\n', Aug)"
      ],
      "metadata": {
        "id": "NyjJ5TiKLFa4",
        "colab": {
          "base_uri": "https://localhost:8080/"
        },
        "outputId": "ffe65ce0-79cb-4a07-f81f-38edcc82cc2d"
      },
      "execution_count": 14,
      "outputs": [
        {
          "output_type": "stream",
          "name": "stdout",
          "text": [
            "Row 1 :\n",
            " [[ 1. -1.  2. -1. -8.]\n",
            " [ 0.  0. -1. -1. -4.]\n",
            " [ 0.  2. -1.  1.  6.]\n",
            " [ 0.  0.  2.  4. 12.]]\n",
            "Row 2 :\n",
            " [[ 1. -1.  2. -1. -8.]\n",
            " [ 0.  0. -1. -1. -4.]\n",
            " [ 0. nan inf inf inf]\n",
            " [ 0. nan nan nan nan]]\n",
            "Row 3 :\n",
            " [[ 1. -1.  2. -1. -8.]\n",
            " [ 0.  0. -1. -1. -4.]\n",
            " [ 0. nan inf inf inf]\n",
            " [ 0. nan nan nan nan]]\n"
          ]
        },
        {
          "output_type": "stream",
          "name": "stderr",
          "text": [
            "<ipython-input-14-e819454bfc4d>:3: RuntimeWarning: divide by zero encountered in scalar divide\n",
            "  m = Aug[j,i]/Aug[i,i]\n",
            "<ipython-input-14-e819454bfc4d>:4: RuntimeWarning: invalid value encountered in multiply\n",
            "  Aug[j,i:n+1] = Aug[j,i:n+1] - m*Aug[i,i:n+1]\n",
            "<ipython-input-14-e819454bfc4d>:3: RuntimeWarning: invalid value encountered in scalar divide\n",
            "  m = Aug[j,i]/Aug[i,i]\n"
          ]
        }
      ]
    },
    {
      "cell_type": "markdown",
      "source": [
        "Backward substitution"
      ],
      "metadata": {
        "id": "U-qFrl9XMUdC"
      }
    },
    {
      "cell_type": "code",
      "source": [
        "x = np.zeros(n)\n",
        "x[-1] = Aug[-1,-1]/Aug[-1,-2]\n",
        "for i in range(n-2,-1,-1):\n",
        "  x[i] = (Aug[i,-1] - sum(Aug[i,i:n]*x[i:n]))/Aug[i,i]\n",
        "print('Solution:', x)"
      ],
      "metadata": {
        "id": "PStnIdZyMOjm",
        "colab": {
          "base_uri": "https://localhost:8080/"
        },
        "outputId": "864315ee-90bc-4a53-da2f-872d2e916cac"
      },
      "execution_count": 5,
      "outputs": [
        {
          "output_type": "stream",
          "name": "stdout",
          "text": [
            "Solution: [-7.  3.  2.  2.]\n"
          ]
        }
      ]
    },
    {
      "cell_type": "markdown",
      "source": [
        "# Gauss Elimination with Partial Pivoting"
      ],
      "metadata": {
        "id": "dE8HWnjYHpDo"
      }
    },
    {
      "cell_type": "markdown",
      "source": [
        "Consider the linear system\n",
        "\n",
        "$$\\left\\{\n",
        "\\begin{array}{rcrcrcrc}\n",
        "x_1 & - & x_2 & +  & 2x_3  & - & x_4 & = & -8\\\\\n",
        "2x_1& - & 2x_2 & + & 3x_3 & - & 3x_4 & = & -20\\\\\n",
        "x_1& + & x_2 & + & x_3 &  & & = & -2\\\\\n",
        "x_1& - & x_2& + & 4x_3 & + & 3x_4 & = & 4\n",
        "\\end{array}\n",
        "\\right.$$\n",
        "\n",
        "The solution is $x = (-7, 3, 2, 2)$"
      ],
      "metadata": {
        "id": "Ydb6bA34HsvX"
      }
    },
    {
      "cell_type": "code",
      "source": [
        "A = np.array([[1, -1, 2, -1],\n",
        "              [2, -2, 3, -3],\n",
        "              [1,  1, 1,  0],\n",
        "              [1, -1, 4,  3]])\n",
        "print('A =\\n', A)\n",
        "\n",
        "y = np.array([-8, -20, -2, 4])\n",
        "print('y =\\n', y)"
      ],
      "metadata": {
        "id": "my1BwuIiHrZy",
        "colab": {
          "base_uri": "https://localhost:8080/"
        },
        "outputId": "435c9f17-fe0b-485d-b999-070402d218f1"
      },
      "execution_count": 15,
      "outputs": [
        {
          "output_type": "stream",
          "name": "stdout",
          "text": [
            "A =\n",
            " [[ 1 -1  2 -1]\n",
            " [ 2 -2  3 -3]\n",
            " [ 1  1  1  0]\n",
            " [ 1 -1  4  3]]\n",
            "y =\n",
            " [ -8 -20  -2   4]\n"
          ]
        }
      ]
    },
    {
      "cell_type": "markdown",
      "source": [
        "Construct the augmented matrix"
      ],
      "metadata": {
        "id": "n46CFwiwN_EA"
      }
    },
    {
      "cell_type": "code",
      "source": [
        "n,col = A.shape\n",
        "\n",
        "Aug = np.zeros((n,n+1))\n",
        "Aug[:,0:n] = A\n",
        "Aug[:,-1] = y\n",
        "\n",
        "print(Aug)"
      ],
      "metadata": {
        "id": "NKVZMiglOAtx",
        "colab": {
          "base_uri": "https://localhost:8080/"
        },
        "outputId": "27b08548-67b5-4b32-b35d-3838b718af1d"
      },
      "execution_count": 16,
      "outputs": [
        {
          "output_type": "stream",
          "name": "stdout",
          "text": [
            "[[  1.  -1.   2.  -1.  -8.]\n",
            " [  2.  -2.   3.  -3. -20.]\n",
            " [  1.   1.   1.   0.  -2.]\n",
            " [  1.  -1.   4.   3.   4.]]\n"
          ]
        }
      ]
    },
    {
      "cell_type": "markdown",
      "source": [
        "Elimination step with partial pivoting"
      ],
      "metadata": {
        "id": "sY8WJeZaMe1X"
      }
    },
    {
      "cell_type": "code",
      "source": [
        "for i in range(n-1):\n",
        "  # partial pivoting\n",
        "  p = i\n",
        "  for k in range(i,n):\n",
        "    if Aug[k,i] > Aug[p,i]:\n",
        "      p = k\n",
        "  Aug[[p,i]] = Aug[[i,p]] # swap rows\n",
        "  for j in range(i+1,n):\n",
        "    m = Aug[j,i]/Aug[i,i]\n",
        "    Aug[j,i:n+1] = Aug[j,i:n+1] - m*Aug[i,i:n+1]\n",
        "  print('Row',i+1,':\\n', Aug)"
      ],
      "metadata": {
        "id": "I-jKJBXZMgxa",
        "colab": {
          "base_uri": "https://localhost:8080/"
        },
        "outputId": "196a7e0c-3464-43f1-d74a-260e6e34e509"
      },
      "execution_count": 17,
      "outputs": [
        {
          "output_type": "stream",
          "name": "stdout",
          "text": [
            "Row 1 :\n",
            " [[  2.   -2.    3.   -3.  -20. ]\n",
            " [  0.    0.    0.5   0.5   2. ]\n",
            " [  0.    2.   -0.5   1.5   8. ]\n",
            " [  0.    0.    2.5   4.5  14. ]]\n",
            "Row 2 :\n",
            " [[  2.   -2.    3.   -3.  -20. ]\n",
            " [  0.    2.   -0.5   1.5   8. ]\n",
            " [  0.    0.    0.5   0.5   2. ]\n",
            " [  0.    0.    2.5   4.5  14. ]]\n",
            "Row 3 :\n",
            " [[  2.   -2.    3.   -3.  -20. ]\n",
            " [  0.    2.   -0.5   1.5   8. ]\n",
            " [  0.    0.    2.5   4.5  14. ]\n",
            " [  0.    0.    0.   -0.4  -0.8]]\n"
          ]
        }
      ]
    },
    {
      "cell_type": "markdown",
      "source": [
        "Backward substitution"
      ],
      "metadata": {
        "id": "UlPzwy5XOOG1"
      }
    },
    {
      "cell_type": "code",
      "source": [
        "x = np.zeros(n)\n",
        "x[-1] = Aug[-1,-1]/Aug[-1,-2]\n",
        "for i in range(n-2,-1,-1):\n",
        "  x[i] = (Aug[i,-1] - sum(Aug[i,i:n]*x[i:n]))/Aug[i,i]\n",
        "print('Solution:', x)"
      ],
      "metadata": {
        "id": "yNNtrFhMH4Sr",
        "colab": {
          "base_uri": "https://localhost:8080/"
        },
        "outputId": "ca1d37fd-a01b-4155-9c70-a9586356a5db"
      },
      "execution_count": 18,
      "outputs": [
        {
          "output_type": "stream",
          "name": "stdout",
          "text": [
            "Solution: [-7.  3.  2.  2.]\n"
          ]
        }
      ]
    },
    {
      "cell_type": "markdown",
      "source": [
        "# Computational Cost"
      ],
      "metadata": {
        "id": "0D7U7iPIUFPO"
      }
    },
    {
      "cell_type": "code",
      "source": [
        "def gauss(A,y):\n",
        "  n,col = A.shape\n",
        "\n",
        "  Aug = np.zeros((n,n+1))\n",
        "  Aug[:,0:n] = A\n",
        "  Aug[:,-1] = y\n",
        "\n",
        "  for i in range(n-1):\n",
        "    # partial pivoting\n",
        "    p = i\n",
        "    for k in range(i,n):\n",
        "      if Aug[k,i] > Aug[p,i]:\n",
        "        p = k\n",
        "    Aug[[p,i]] = Aug[[i,p]] # swap rows\n",
        "    for j in range(i+1,n):\n",
        "      m = Aug[j,i]/Aug[i,i]\n",
        "      Aug[j,i:n+1] = Aug[j,i:n+1] - m*Aug[i,i:n+1]\n",
        "  x = np.zeros(n)\n",
        "  x[-1] = Aug[-1,-1]/Aug[-1,-2]\n",
        "  for i in range(n-2,-1,-1):\n",
        "    x[i] = (Aug[i,-1] - sum(Aug[i,i:n]*x[i:n]))/Aug[i,i]\n",
        "  return x"
      ],
      "metadata": {
        "id": "GUxuhZo6PEIU"
      },
      "execution_count": 22,
      "outputs": []
    },
    {
      "cell_type": "code",
      "source": [
        "n = 500\n",
        "A = 0.1*np.random.randn(n,n)\n",
        "y = np.random.randn(n)\n",
        "np.linalg.det(A)"
      ],
      "metadata": {
        "id": "gopYc0mdO1xx",
        "colab": {
          "base_uri": "https://localhost:8080/"
        },
        "outputId": "efcf4180-9919-4688-9943-5ed2a611c2c3"
      },
      "execution_count": 25,
      "outputs": [
        {
          "output_type": "execute_result",
          "data": {
            "text/plain": [
              "1.1924141711456226e+64"
            ]
          },
          "metadata": {},
          "execution_count": 25
        }
      ]
    },
    {
      "cell_type": "code",
      "source": [
        "%timeit gauss(A,y)"
      ],
      "metadata": {
        "id": "hnDK9JqnRDe2",
        "colab": {
          "base_uri": "https://localhost:8080/"
        },
        "outputId": "15d0bb34-24ae-45b1-8e51-3caeb944145c"
      },
      "execution_count": 26,
      "outputs": [
        {
          "output_type": "stream",
          "name": "stdout",
          "text": [
            "676 ms ± 23 ms per loop (mean ± std. dev. of 7 runs, 1 loop each)\n"
          ]
        }
      ]
    },
    {
      "cell_type": "markdown",
      "source": [
        "# Hands-on Activity\n",
        "\n"
      ],
      "metadata": {
        "id": "rTuCFbn9Vc_9"
      }
    },
    {
      "cell_type": "markdown",
      "source": [
        "Write a code that solves a given linear system using Gauss-Jordan method. Using your code, solve the linear system\n",
        "\n",
        "$$\\left\\{\n",
        "\\begin{array}{rcrcrcrc}\n",
        "x_1 & - & x_2 & +  & 2x_3  & - & x_4 & = & -8\\\\\n",
        "2x_1& - & 2x_2 & + & 3x_3 & - & 3x_4 & = & -20\\\\\n",
        "x_1& + & x_2 & + & x_3 &  & & = & -2\\\\\n",
        "x_1& - & x_2& + & 4x_3 & + & 3x_4 & = & 4\n",
        "\\end{array}\n",
        "\\right.$$\n",
        "\n",
        "Which is computationally cheaper: Gaussian elimination or Gauss-Jordan method?"
      ],
      "metadata": {
        "id": "cJzX5T0_pK_u"
      }
    },
    {
      "cell_type": "code",
      "source": [
        "# Write your code here.\n",
        "A = np.array([[1, -1, 2, -1],\n",
        "              [2, -2, 3, -3],\n",
        "              [1,  1, 1,  0],\n",
        "              [1, -1, 4,  3]])\n",
        "print('A =\\n', A)\n",
        "\n",
        "y = np.array([-8, -20, -2, 4])\n",
        "print('y =\\n', y)"
      ],
      "metadata": {
        "id": "RYfXhV2o4cjo",
        "colab": {
          "base_uri": "https://localhost:8080/"
        },
        "outputId": "4c421bc9-3de5-4102-85c3-5ae74bd1045e"
      },
      "execution_count": 27,
      "outputs": [
        {
          "output_type": "stream",
          "name": "stdout",
          "text": [
            "A =\n",
            " [[ 1 -1  2 -1]\n",
            " [ 2 -2  3 -3]\n",
            " [ 1  1  1  0]\n",
            " [ 1 -1  4  3]]\n",
            "y =\n",
            " [ -8 -20  -2   4]\n"
          ]
        }
      ]
    },
    {
      "cell_type": "code",
      "source": [
        "n,col = A.shape\n",
        "\n",
        "Aug = np.zeros((n,n+1))\n",
        "Aug[:,0:n] = A\n",
        "Aug[:,-1] = y\n",
        "\n",
        "print(Aug)"
      ],
      "metadata": {
        "colab": {
          "base_uri": "https://localhost:8080/"
        },
        "id": "p0Zf9sRv5vTy",
        "outputId": "d6722f03-88c5-41b9-f989-20bcd1427fdd"
      },
      "execution_count": 28,
      "outputs": [
        {
          "output_type": "stream",
          "name": "stdout",
          "text": [
            "[[  1.  -1.   2.  -1.  -8.]\n",
            " [  2.  -2.   3.  -3. -20.]\n",
            " [  1.   1.   1.   0.  -2.]\n",
            " [  1.  -1.   4.   3.   4.]]\n"
          ]
        }
      ]
    },
    {
      "cell_type": "code",
      "source": [
        "for i in range(n):\n",
        "  # partial pivoting\n",
        "  p = i\n",
        "  for k in range(i,n):\n",
        "    if Aug[k,i] > Aug[p,i]:\n",
        "      p = k\n",
        "  Aug[[p,i]] = Aug[[i,p]] # swap rows\n",
        "  for j in range(n):\n",
        "    if j!=i :\n",
        "      m = Aug[j,i]/Aug[i,i]\n",
        "      Aug[j,i:n+1] = Aug[j,i:n+1] - m*Aug[i,i:n+1]\n",
        "  print('Row',i+1,':\\n', Aug)"
      ],
      "metadata": {
        "colab": {
          "base_uri": "https://localhost:8080/"
        },
        "id": "rz0ii3dK57A0",
        "outputId": "62430514-0266-4555-c851-c4ba590c185f"
      },
      "execution_count": 34,
      "outputs": [
        {
          "output_type": "stream",
          "name": "stdout",
          "text": [
            "Row 1 :\n",
            " [[  2.    0.    0.   -6.  -26. ]\n",
            " [  0.    2.    0.    2.4  10.8]\n",
            " [  0.    0.    2.5   4.5  14. ]\n",
            " [  0.    0.    0.   -0.4  -0.8]]\n",
            "Row 2 :\n",
            " [[  2.    0.    0.   -6.  -26. ]\n",
            " [  0.    2.    0.    2.4  10.8]\n",
            " [  0.    0.    2.5   4.5  14. ]\n",
            " [  0.    0.    0.   -0.4  -0.8]]\n",
            "Row 3 :\n",
            " [[  2.    0.    0.   -6.  -26. ]\n",
            " [  0.    2.    0.    2.4  10.8]\n",
            " [  0.    0.    2.5   4.5  14. ]\n",
            " [  0.    0.    0.   -0.4  -0.8]]\n",
            "Row 4 :\n",
            " [[  2.    0.    0.    0.  -14. ]\n",
            " [  0.    2.    0.    0.    6. ]\n",
            " [  0.    0.    2.5   0.    5. ]\n",
            " [  0.    0.    0.   -0.4  -0.8]]\n"
          ]
        }
      ]
    },
    {
      "cell_type": "code",
      "source": [
        "x = np.zeros(n)\n",
        "for i in range(n):\n",
        "  x[i] = Aug[i,-1]/Aug[i,i]\n",
        "print('Solution:', x)"
      ],
      "metadata": {
        "colab": {
          "base_uri": "https://localhost:8080/"
        },
        "id": "SzPhfAyt6CNf",
        "outputId": "c1901abb-d127-40b9-9190-c7f2d2130e1a"
      },
      "execution_count": 35,
      "outputs": [
        {
          "output_type": "stream",
          "name": "stdout",
          "text": [
            "Solution: [-7.  3.  2.  2.]\n"
          ]
        }
      ]
    },
    {
      "cell_type": "markdown",
      "source": [
        "# Try this!\n",
        "\n",
        "\n",
        "\n"
      ],
      "metadata": {
        "id": "hefUkOCpwLJv"
      }
    },
    {
      "cell_type": "markdown",
      "source": [
        "Write a code that outputs the determinant (or inverse, if you wish) of a given square matrix using Gauss elimination or Gauss-Jordan method."
      ],
      "metadata": {
        "id": "Hg43ryWXpNl5"
      }
    },
    {
      "cell_type": "code",
      "source": [
        "# Write your code here.\n"
      ],
      "metadata": {
        "id": "zUTqHwr8wrqr"
      },
      "execution_count": null,
      "outputs": []
    }
  ]
}